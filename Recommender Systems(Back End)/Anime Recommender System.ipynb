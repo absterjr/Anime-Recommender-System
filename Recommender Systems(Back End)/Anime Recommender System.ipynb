{
 "cells": [
  {
   "cell_type": "markdown",
   "metadata": {},
   "source": [
    "# Problem Statement:"
   ]
  },
  {
   "cell_type": "markdown",
   "metadata": {},
   "source": [
    "Users can spend most of the hours scrolling through hundreds, sometimes thousands of anime’s never finding an content they like. Our objective is to build recommendation systems which recommend anime's considering or based on their likes and needs in order to create a better streaming environment that boosts revenue and increases the time spent on a Ibsite. "
   ]
  },
  {
   "cell_type": "markdown",
   "metadata": {},
   "source": [
    "# Data Dictionary"
   ]
  },
  {
   "cell_type": "markdown",
   "metadata": {},
   "source": [
    "**1) anime_data:**\n",
    "\n",
    "`anime_id` - unique id identifying an anime.\n",
    "\n",
    "`name` - full name of anime.\n",
    "\n",
    "`genre` - comma separated list of genres for this anime.\n",
    "\n",
    "`type` - movie, TV, OVA, etc.\n",
    "\n",
    "`episodes` - how many episodes in this show. (1 if movie).\n",
    "\n",
    "`rating` - average rating out of 10 for this anime.\n",
    "\n",
    "`members` - number of community members that are in this anime's \"group\".\n",
    "\n",
    "**2) rating_data:**\n",
    "\n",
    "`user_id` - non identifiable randomly generated user id.\n",
    "\n",
    "`anime_id` - the anime that this user has rated.\n",
    "\n",
    "`rating` - rating out of 10 this user has assigned (-1 if the user watched it but didn't assign a rating)."
   ]
  },
  {
   "cell_type": "markdown",
   "metadata": {},
   "source": [
    "#  Import Libraries \n"
   ]
  },
  {
   "cell_type": "code",
   "execution_count": 1,
   "metadata": {
    "scrolled": true
   },
   "outputs": [
    {
     "name": "stdout",
     "output_type": "stream",
     "text": [
      "Requirement already satisfied: kneed in c:\\users\\hp\\anaconda3\\lib\\site-packages (0.7.0)\n",
      "Requirement already satisfied: matplotlib in c:\\users\\hp\\anaconda3\\lib\\site-packages (from kneed) (3.5.1)\n",
      "Requirement already satisfied: scipy in c:\\users\\hp\\anaconda3\\lib\\site-packages (from kneed) (1.7.3)\n",
      "Requirement already satisfied: numpy>=1.14.2 in c:\\users\\hp\\anaconda3\\lib\\site-packages (from kneed) (1.21.5)\n",
      "Requirement already satisfied: pillow>=6.2.0 in c:\\users\\hp\\anaconda3\\lib\\site-packages (from matplotlib->kneed) (9.0.1)\n",
      "Requirement already satisfied: fonttools>=4.22.0 in c:\\users\\hp\\anaconda3\\lib\\site-packages (from matplotlib->kneed) (4.25.0)\n",
      "Requirement already satisfied: cycler>=0.10 in c:\\users\\hp\\anaconda3\\lib\\site-packages (from matplotlib->kneed) (0.11.0)\n",
      "Requirement already satisfied: pyparsing>=2.2.1 in c:\\users\\hp\\anaconda3\\lib\\site-packages (from matplotlib->kneed) (3.0.4)\n",
      "Requirement already satisfied: packaging>=20.0 in c:\\users\\hp\\anaconda3\\lib\\site-packages (from matplotlib->kneed) (21.3)\n",
      "Requirement already satisfied: kiwisolver>=1.0.1 in c:\\users\\hp\\anaconda3\\lib\\site-packages (from matplotlib->kneed) (1.3.2)\n",
      "Requirement already satisfied: python-dateutil>=2.7 in c:\\users\\hp\\anaconda3\\lib\\site-packages (from matplotlib->kneed) (2.8.2)\n",
      "Requirement already satisfied: six>=1.5 in c:\\users\\hp\\anaconda3\\lib\\site-packages (from python-dateutil>=2.7->matplotlib->kneed) (1.16.0)\n"
     ]
    }
   ],
   "source": [
    "!pip install kneed\n"
   ]
  },
  {
   "cell_type": "code",
   "execution_count": 2,
   "metadata": {},
   "outputs": [
    {
     "name": "stdout",
     "output_type": "stream",
     "text": [
      "Requirement already satisfied: mlxtend in c:\\users\\hp\\anaconda3\\lib\\site-packages (0.19.0)\n",
      "Requirement already satisfied: scikit-learn>=0.20.3 in c:\\users\\hp\\anaconda3\\lib\\site-packages (from mlxtend) (1.0.2)\n",
      "Requirement already satisfied: pandas>=0.24.2 in c:\\users\\hp\\anaconda3\\lib\\site-packages (from mlxtend) (1.4.2)\n",
      "Requirement already satisfied: scipy>=1.2.1 in c:\\users\\hp\\anaconda3\\lib\\site-packages (from mlxtend) (1.7.3)\n",
      "Requirement already satisfied: matplotlib>=3.0.0 in c:\\users\\hp\\anaconda3\\lib\\site-packages (from mlxtend) (3.5.1)\n",
      "Requirement already satisfied: joblib>=0.13.2 in c:\\users\\hp\\anaconda3\\lib\\site-packages (from mlxtend) (1.1.0)\n",
      "Requirement already satisfied: numpy>=1.16.2 in c:\\users\\hp\\anaconda3\\lib\\site-packages (from mlxtend) (1.21.5)\n",
      "Requirement already satisfied: setuptools in c:\\users\\hp\\anaconda3\\lib\\site-packages (from mlxtend) (61.2.0)\n",
      "Requirement already satisfied: packaging>=20.0 in c:\\users\\hp\\anaconda3\\lib\\site-packages (from matplotlib>=3.0.0->mlxtend) (21.3)\n",
      "Requirement already satisfied: pyparsing>=2.2.1 in c:\\users\\hp\\anaconda3\\lib\\site-packages (from matplotlib>=3.0.0->mlxtend) (3.0.4)\n",
      "Requirement already satisfied: kiwisolver>=1.0.1 in c:\\users\\hp\\anaconda3\\lib\\site-packages (from matplotlib>=3.0.0->mlxtend) (1.3.2)\n",
      "Requirement already satisfied: fonttools>=4.22.0 in c:\\users\\hp\\anaconda3\\lib\\site-packages (from matplotlib>=3.0.0->mlxtend) (4.25.0)\n",
      "Requirement already satisfied: python-dateutil>=2.7 in c:\\users\\hp\\anaconda3\\lib\\site-packages (from matplotlib>=3.0.0->mlxtend) (2.8.2)\n",
      "Requirement already satisfied: cycler>=0.10 in c:\\users\\hp\\anaconda3\\lib\\site-packages (from matplotlib>=3.0.0->mlxtend) (0.11.0)\n",
      "Requirement already satisfied: pillow>=6.2.0 in c:\\users\\hp\\anaconda3\\lib\\site-packages (from matplotlib>=3.0.0->mlxtend) (9.0.1)\n",
      "Requirement already satisfied: pytz>=2020.1 in c:\\users\\hp\\anaconda3\\lib\\site-packages (from pandas>=0.24.2->mlxtend) (2021.3)\n",
      "Requirement already satisfied: six>=1.5 in c:\\users\\hp\\anaconda3\\lib\\site-packages (from python-dateutil>=2.7->matplotlib>=3.0.0->mlxtend) (1.16.0)\n",
      "Requirement already satisfied: threadpoolctl>=2.0.0 in c:\\users\\hp\\anaconda3\\lib\\site-packages (from scikit-learn>=0.20.3->mlxtend) (2.2.0)\n"
     ]
    }
   ],
   "source": [
    "!pip install mlxtend"
   ]
  },
  {
   "cell_type": "code",
   "execution_count": 3,
   "metadata": {},
   "outputs": [
    {
     "name": "stdout",
     "output_type": "stream",
     "text": [
      "Requirement already satisfied: apyori in c:\\users\\hp\\anaconda3\\lib\\site-packages (1.1.2)\n"
     ]
    }
   ],
   "source": [
    "!pip install apyori"
   ]
  },
  {
   "cell_type": "code",
   "execution_count": 4,
   "metadata": {
    "execution": {
     "iopub.execute_input": "2021-07-19T09:24:58.491238Z",
     "iopub.status.busy": "2021-07-19T09:24:58.490775Z",
     "iopub.status.idle": "2021-07-19T09:24:59.169396Z",
     "shell.execute_reply": "2021-07-19T09:24:59.167872Z",
     "shell.execute_reply.started": "2021-07-19T09:24:58.491137Z"
    }
   },
   "outputs": [],
   "source": [
    "import pandas as pd \n",
    "import numpy as np\n",
    "import matplotlib.pyplot as plt\n",
    "from matplotlib.colors import ListedColormap\n",
    "import seaborn as sns \n",
    "from warnings import filterwarnings\n",
    "filterwarnings('ignore')\n",
    "from ast import literal_eval\n",
    "from sklearn.metrics.pairwise import cosine_similarity\n",
    "from sklearn.neighbors import NearestNeighbors\n",
    "from sklearn.cluster import KMeans\n",
    "from sklearn.metrics import silhouette_score\n",
    "from kneed import KneeLocator\n",
    "from mlxtend.frequent_patterns import apriori,association_rules\n",
    "import re\n",
    "import string\n",
    "from apyori import apriori"
   ]
  },
  {
   "cell_type": "markdown",
   "metadata": {},
   "source": [
    "#  Read Data "
   ]
  },
  {
   "cell_type": "code",
   "execution_count": 5,
   "metadata": {
    "execution": {
     "iopub.execute_input": "2021-07-19T09:25:13.831141Z",
     "iopub.status.busy": "2021-07-19T09:25:13.830674Z",
     "iopub.status.idle": "2021-07-19T09:25:13.957219Z",
     "shell.execute_reply": "2021-07-19T09:25:13.956460Z",
     "shell.execute_reply.started": "2021-07-19T09:25:13.831093Z"
    }
   },
   "outputs": [
    {
     "data": {
      "text/html": [
       "<div>\n",
       "<style scoped>\n",
       "    .dataframe tbody tr th:only-of-type {\n",
       "        vertical-align: middle;\n",
       "    }\n",
       "\n",
       "    .dataframe tbody tr th {\n",
       "        vertical-align: top;\n",
       "    }\n",
       "\n",
       "    .dataframe thead th {\n",
       "        text-align: right;\n",
       "    }\n",
       "</style>\n",
       "<table border=\"1\" class=\"dataframe\">\n",
       "  <thead>\n",
       "    <tr style=\"text-align: right;\">\n",
       "      <th></th>\n",
       "      <th>anime_id</th>\n",
       "      <th>name</th>\n",
       "      <th>genre</th>\n",
       "      <th>type</th>\n",
       "      <th>episodes</th>\n",
       "      <th>rating</th>\n",
       "      <th>members</th>\n",
       "    </tr>\n",
       "  </thead>\n",
       "  <tbody>\n",
       "    <tr>\n",
       "      <th>0</th>\n",
       "      <td>32281</td>\n",
       "      <td>Kimi no Na wa.</td>\n",
       "      <td>Drama, Romance, School, Supernatural</td>\n",
       "      <td>Movie</td>\n",
       "      <td>1</td>\n",
       "      <td>9.37</td>\n",
       "      <td>200630</td>\n",
       "    </tr>\n",
       "    <tr>\n",
       "      <th>1</th>\n",
       "      <td>5114</td>\n",
       "      <td>Fullmetal Alchemist: Brotherhood</td>\n",
       "      <td>Action, Adventure, Drama, Fantasy, Magic, Mili...</td>\n",
       "      <td>TV</td>\n",
       "      <td>64</td>\n",
       "      <td>9.26</td>\n",
       "      <td>793665</td>\n",
       "    </tr>\n",
       "    <tr>\n",
       "      <th>2</th>\n",
       "      <td>28977</td>\n",
       "      <td>Gintama°</td>\n",
       "      <td>Action, Comedy, Historical, Parody, Samurai, S...</td>\n",
       "      <td>TV</td>\n",
       "      <td>51</td>\n",
       "      <td>9.25</td>\n",
       "      <td>114262</td>\n",
       "    </tr>\n",
       "    <tr>\n",
       "      <th>3</th>\n",
       "      <td>9253</td>\n",
       "      <td>Steins;Gate</td>\n",
       "      <td>Sci-Fi, Thriller</td>\n",
       "      <td>TV</td>\n",
       "      <td>24</td>\n",
       "      <td>9.17</td>\n",
       "      <td>673572</td>\n",
       "    </tr>\n",
       "    <tr>\n",
       "      <th>4</th>\n",
       "      <td>9969</td>\n",
       "      <td>Gintama&amp;#039;</td>\n",
       "      <td>Action, Comedy, Historical, Parody, Samurai, S...</td>\n",
       "      <td>TV</td>\n",
       "      <td>51</td>\n",
       "      <td>9.16</td>\n",
       "      <td>151266</td>\n",
       "    </tr>\n",
       "  </tbody>\n",
       "</table>\n",
       "</div>"
      ],
      "text/plain": [
       "   anime_id                              name  \\\n",
       "0     32281                    Kimi no Na wa.   \n",
       "1      5114  Fullmetal Alchemist: Brotherhood   \n",
       "2     28977                          Gintama°   \n",
       "3      9253                       Steins;Gate   \n",
       "4      9969                     Gintama&#039;   \n",
       "\n",
       "                                               genre   type episodes  rating  \\\n",
       "0               Drama, Romance, School, Supernatural  Movie        1    9.37   \n",
       "1  Action, Adventure, Drama, Fantasy, Magic, Mili...     TV       64    9.26   \n",
       "2  Action, Comedy, Historical, Parody, Samurai, S...     TV       51    9.25   \n",
       "3                                   Sci-Fi, Thriller     TV       24    9.17   \n",
       "4  Action, Comedy, Historical, Parody, Samurai, S...     TV       51    9.16   \n",
       "\n",
       "   members  \n",
       "0   200630  \n",
       "1   793665  \n",
       "2   114262  \n",
       "3   673572  \n",
       "4   151266  "
      ]
     },
     "execution_count": 5,
     "metadata": {},
     "output_type": "execute_result"
    }
   ],
   "source": [
    "anime=pd.read_csv('anime.csv')\n",
    "anime.head()"
   ]
  },
  {
   "cell_type": "code",
   "execution_count": 6,
   "metadata": {
    "execution": {
     "iopub.execute_input": "2021-07-19T09:25:13.958814Z",
     "iopub.status.busy": "2021-07-19T09:25:13.958532Z",
     "iopub.status.idle": "2021-07-19T09:25:13.986729Z",
     "shell.execute_reply": "2021-07-19T09:25:13.985596Z",
     "shell.execute_reply.started": "2021-07-19T09:25:13.958787Z"
    }
   },
   "outputs": [
    {
     "name": "stdout",
     "output_type": "stream",
     "text": [
      "<class 'pandas.core.frame.DataFrame'>\n",
      "RangeIndex: 12294 entries, 0 to 12293\n",
      "Data columns (total 7 columns):\n",
      " #   Column    Non-Null Count  Dtype  \n",
      "---  ------    --------------  -----  \n",
      " 0   anime_id  12294 non-null  int64  \n",
      " 1   name      12294 non-null  object \n",
      " 2   genre     12232 non-null  object \n",
      " 3   type      12269 non-null  object \n",
      " 4   episodes  12294 non-null  object \n",
      " 5   rating    12064 non-null  float64\n",
      " 6   members   12294 non-null  int64  \n",
      "dtypes: float64(1), int64(2), object(4)\n",
      "memory usage: 672.5+ KB\n"
     ]
    }
   ],
   "source": [
    "anime.info()"
   ]
  },
  {
   "cell_type": "code",
   "execution_count": 7,
   "metadata": {
    "execution": {
     "iopub.execute_input": "2021-07-19T09:25:13.988376Z",
     "iopub.status.busy": "2021-07-19T09:25:13.988057Z",
     "iopub.status.idle": "2021-07-19T09:25:17.708103Z",
     "shell.execute_reply": "2021-07-19T09:25:17.706330Z",
     "shell.execute_reply.started": "2021-07-19T09:25:13.988344Z"
    }
   },
   "outputs": [
    {
     "data": {
      "text/html": [
       "<div>\n",
       "<style scoped>\n",
       "    .dataframe tbody tr th:only-of-type {\n",
       "        vertical-align: middle;\n",
       "    }\n",
       "\n",
       "    .dataframe tbody tr th {\n",
       "        vertical-align: top;\n",
       "    }\n",
       "\n",
       "    .dataframe thead th {\n",
       "        text-align: right;\n",
       "    }\n",
       "</style>\n",
       "<table border=\"1\" class=\"dataframe\">\n",
       "  <thead>\n",
       "    <tr style=\"text-align: right;\">\n",
       "      <th></th>\n",
       "      <th>user_id</th>\n",
       "      <th>anime_id</th>\n",
       "      <th>rating</th>\n",
       "    </tr>\n",
       "  </thead>\n",
       "  <tbody>\n",
       "    <tr>\n",
       "      <th>0</th>\n",
       "      <td>1</td>\n",
       "      <td>20</td>\n",
       "      <td>-1</td>\n",
       "    </tr>\n",
       "    <tr>\n",
       "      <th>1</th>\n",
       "      <td>1</td>\n",
       "      <td>24</td>\n",
       "      <td>-1</td>\n",
       "    </tr>\n",
       "    <tr>\n",
       "      <th>2</th>\n",
       "      <td>1</td>\n",
       "      <td>79</td>\n",
       "      <td>-1</td>\n",
       "    </tr>\n",
       "    <tr>\n",
       "      <th>3</th>\n",
       "      <td>1</td>\n",
       "      <td>226</td>\n",
       "      <td>-1</td>\n",
       "    </tr>\n",
       "    <tr>\n",
       "      <th>4</th>\n",
       "      <td>1</td>\n",
       "      <td>241</td>\n",
       "      <td>-1</td>\n",
       "    </tr>\n",
       "  </tbody>\n",
       "</table>\n",
       "</div>"
      ],
      "text/plain": [
       "   user_id  anime_id  rating\n",
       "0        1        20      -1\n",
       "1        1        24      -1\n",
       "2        1        79      -1\n",
       "3        1       226      -1\n",
       "4        1       241      -1"
      ]
     },
     "execution_count": 7,
     "metadata": {},
     "output_type": "execute_result"
    }
   ],
   "source": [
    "rating=pd.read_csv('rating.csv',sep=',')\n",
    "rating.head()"
   ]
  },
  {
   "cell_type": "code",
   "execution_count": 8,
   "metadata": {
    "execution": {
     "iopub.execute_input": "2021-07-19T09:25:17.710570Z",
     "iopub.status.busy": "2021-07-19T09:25:17.710038Z",
     "iopub.status.idle": "2021-07-19T09:25:17.724267Z",
     "shell.execute_reply": "2021-07-19T09:25:17.722966Z",
     "shell.execute_reply.started": "2021-07-19T09:25:17.710518Z"
    }
   },
   "outputs": [
    {
     "name": "stdout",
     "output_type": "stream",
     "text": [
      "<class 'pandas.core.frame.DataFrame'>\n",
      "RangeIndex: 7813737 entries, 0 to 7813736\n",
      "Data columns (total 3 columns):\n",
      " #   Column    Dtype\n",
      "---  ------    -----\n",
      " 0   user_id   int64\n",
      " 1   anime_id  int64\n",
      " 2   rating    int64\n",
      "dtypes: int64(3)\n",
      "memory usage: 178.8 MB\n"
     ]
    }
   ],
   "source": [
    "rating.info()"
   ]
  },
  {
   "cell_type": "markdown",
   "metadata": {},
   "source": [
    "# Exploratory Data Analysis "
   ]
  },
  {
   "cell_type": "markdown",
   "metadata": {},
   "source": [
    "##  Preparing the Dataset"
   ]
  },
  {
   "cell_type": "markdown",
   "metadata": {},
   "source": [
    "### Data Cleaning "
   ]
  },
  {
   "cell_type": "code",
   "execution_count": 9,
   "metadata": {
    "execution": {
     "iopub.execute_input": "2021-07-19T09:25:17.727747Z",
     "iopub.status.busy": "2021-07-19T09:25:17.727361Z",
     "iopub.status.idle": "2021-07-19T09:25:17.743277Z",
     "shell.execute_reply": "2021-07-19T09:25:17.741750Z",
     "shell.execute_reply.started": "2021-07-19T09:25:17.727700Z"
    }
   },
   "outputs": [
    {
     "data": {
      "text/plain": [
       "array(['Steins;Gate', 'Gintama&#039;',\n",
       "       'Haikyuu!!: Karasuno Koukou VS Shiratorizawa Gakuen Koukou',\n",
       "       'Hunter x Hunter (2011)', 'Ginga Eiyuu Densetsu',\n",
       "       'Gintama Movie: Kanketsu-hen - Yorozuya yo Eien Nare',\n",
       "       'Gintama&#039;: Enchousen'], dtype=object)"
      ]
     },
     "execution_count": 9,
     "metadata": {},
     "output_type": "execute_result"
    }
   ],
   "source": [
    "anime['name'].unique()[3:10]"
   ]
  },
  {
   "cell_type": "code",
   "execution_count": 10,
   "metadata": {
    "execution": {
     "iopub.execute_input": "2021-07-19T09:25:17.745959Z",
     "iopub.status.busy": "2021-07-19T09:25:17.745588Z",
     "iopub.status.idle": "2021-07-19T09:25:17.934783Z",
     "shell.execute_reply": "2021-07-19T09:25:17.933794Z",
     "shell.execute_reply.started": "2021-07-19T09:25:17.745926Z"
    }
   },
   "outputs": [],
   "source": [
    "def text_cleaning(text):\n",
    "    text = re.sub(r'&quot;', '', text)\n",
    "    text  = \"\".join([char for char in text if char not in string.punctuation])\n",
    "    text = re.sub(r'.hack//', '', text)\n",
    "    text = re.sub(r'&#039;', '', text)\n",
    "    text = re.sub(r'A&#039;s', '', text)\n",
    "    text = re.sub(r'I&#039;', 'I\\'', text)\n",
    "    text = re.sub(r'&amp;', 'and', text)\n",
    "    text = re.sub(r'Â°', '',text)\n",
    "    \n",
    "    return text\n",
    "\n",
    "anime['name'] = anime['name'].apply(text_cleaning)"
   ]
  },
  {
   "cell_type": "code",
   "execution_count": 11,
   "metadata": {
    "execution": {
     "iopub.execute_input": "2021-07-19T09:25:17.936265Z",
     "iopub.status.busy": "2021-07-19T09:25:17.935977Z",
     "iopub.status.idle": "2021-07-19T09:25:18.121611Z",
     "shell.execute_reply": "2021-07-19T09:25:18.120714Z",
     "shell.execute_reply.started": "2021-07-19T09:25:17.936236Z"
    }
   },
   "outputs": [],
   "source": [
    "anime['name'] = anime['name'].apply(text_cleaning)"
   ]
  },
  {
   "cell_type": "code",
   "execution_count": 12,
   "metadata": {
    "execution": {
     "iopub.execute_input": "2021-07-19T09:25:18.123514Z",
     "iopub.status.busy": "2021-07-19T09:25:18.122885Z",
     "iopub.status.idle": "2021-07-19T09:25:18.133688Z",
     "shell.execute_reply": "2021-07-19T09:25:18.132702Z",
     "shell.execute_reply.started": "2021-07-19T09:25:18.123467Z"
    }
   },
   "outputs": [
    {
     "data": {
      "text/plain": [
       "array(['SteinsGate', 'Gintama039',\n",
       "       'Haikyuu Karasuno Koukou VS Shiratorizawa Gakuen Koukou',\n",
       "       'Hunter x Hunter 2011', 'Ginga Eiyuu Densetsu',\n",
       "       'Gintama Movie Kanketsuhen  Yorozuya yo Eien Nare',\n",
       "       'Gintama039 Enchousen'], dtype=object)"
      ]
     },
     "execution_count": 12,
     "metadata": {},
     "output_type": "execute_result"
    }
   ],
   "source": [
    "anime['name'].unique()[3:10]"
   ]
  },
  {
   "cell_type": "code",
   "execution_count": 13,
   "metadata": {
    "execution": {
     "iopub.execute_input": "2021-07-19T09:25:18.135540Z",
     "iopub.status.busy": "2021-07-19T09:25:18.134935Z",
     "iopub.status.idle": "2021-07-19T09:25:18.148129Z",
     "shell.execute_reply": "2021-07-19T09:25:18.147043Z",
     "shell.execute_reply.started": "2021-07-19T09:25:18.135492Z"
    }
   },
   "outputs": [
    {
     "data": {
      "text/plain": [
       "array(['1', '64', '51', '24', '10', '148', '110', '13', '201', '25', '22',\n",
       "       '75', '4', '26', '12', '27', '43', '74', '37', '2', '11', '99',\n",
       "       'Unknown', '39', '101', '47', '50', '62', '33', '112', '23', '3',\n",
       "       '94', '6', '8', '14', '7', '40', '15', '203', '77', '291', '120',\n",
       "       '102', '96', '38', '79', '175', '103', '70', '153', '45', '5',\n",
       "       '21', '63', '52', '28', '145', '36', '69', '60', '178', '114',\n",
       "       '35', '61', '34', '109', '20', '9', '49', '366', '97', '48', '78',\n",
       "       '358', '155', '104', '113', '54', '167', '161', '42', '142', '31',\n",
       "       '373', '220', '46', '195', '17', '1787', '73', '147', '127', '16',\n",
       "       '19', '98', '150', '76', '53', '124', '29', '115', '224', '44',\n",
       "       '58', '93', '154', '92', '67', '172', '86', '30', '276', '59',\n",
       "       '72', '330', '41', '105', '128', '137', '56', '55', '65', '243',\n",
       "       '193', '18', '191', '180', '91', '192', '66', '182', '32', '164',\n",
       "       '100', '296', '694', '95', '68', '117', '151', '130', '87', '170',\n",
       "       '119', '84', '108', '156', '140', '331', '305', '300', '510',\n",
       "       '200', '88', '1471', '526', '143', '726', '136', '1818', '237',\n",
       "       '1428', '365', '163', '283', '71', '260', '199', '225', '312',\n",
       "       '240', '1306', '1565', '773', '1274', '90', '475', '263', '83',\n",
       "       '85', '1006', '80', '162', '132', '141', '125'], dtype=object)"
      ]
     },
     "execution_count": 13,
     "metadata": {},
     "output_type": "execute_result"
    }
   ],
   "source": [
    "anime.episodes.unique()"
   ]
  },
  {
   "cell_type": "code",
   "execution_count": 14,
   "metadata": {
    "execution": {
     "iopub.execute_input": "2021-07-19T09:25:18.149678Z",
     "iopub.status.busy": "2021-07-19T09:25:18.149346Z",
     "iopub.status.idle": "2021-07-19T09:25:18.162536Z",
     "shell.execute_reply": "2021-07-19T09:25:18.161336Z",
     "shell.execute_reply.started": "2021-07-19T09:25:18.149646Z"
    }
   },
   "outputs": [],
   "source": [
    "anime.episodes.replace({'Unknown':np.nan},inplace=True)"
   ]
  },
  {
   "cell_type": "markdown",
   "metadata": {},
   "source": [
    "###  Merging the datasets"
   ]
  },
  {
   "cell_type": "code",
   "execution_count": 15,
   "metadata": {
    "execution": {
     "iopub.execute_input": "2021-07-19T09:25:18.166935Z",
     "iopub.status.busy": "2021-07-19T09:25:18.166183Z",
     "iopub.status.idle": "2021-07-19T09:25:19.737551Z",
     "shell.execute_reply": "2021-07-19T09:25:19.736275Z",
     "shell.execute_reply.started": "2021-07-19T09:25:18.166895Z"
    }
   },
   "outputs": [
    {
     "data": {
      "text/html": [
       "<div>\n",
       "<style scoped>\n",
       "    .dataframe tbody tr th:only-of-type {\n",
       "        vertical-align: middle;\n",
       "    }\n",
       "\n",
       "    .dataframe tbody tr th {\n",
       "        vertical-align: top;\n",
       "    }\n",
       "\n",
       "    .dataframe thead th {\n",
       "        text-align: right;\n",
       "    }\n",
       "</style>\n",
       "<table border=\"1\" class=\"dataframe\">\n",
       "  <thead>\n",
       "    <tr style=\"text-align: right;\">\n",
       "      <th></th>\n",
       "      <th>anime_id</th>\n",
       "      <th>name</th>\n",
       "      <th>genre</th>\n",
       "      <th>type</th>\n",
       "      <th>episodes</th>\n",
       "      <th>rating_x</th>\n",
       "      <th>members</th>\n",
       "      <th>user_id</th>\n",
       "      <th>rating_y</th>\n",
       "    </tr>\n",
       "  </thead>\n",
       "  <tbody>\n",
       "    <tr>\n",
       "      <th>0</th>\n",
       "      <td>32281</td>\n",
       "      <td>Kimi no Na wa</td>\n",
       "      <td>Drama, Romance, School, Supernatural</td>\n",
       "      <td>Movie</td>\n",
       "      <td>1</td>\n",
       "      <td>9.37</td>\n",
       "      <td>200630</td>\n",
       "      <td>99</td>\n",
       "      <td>5</td>\n",
       "    </tr>\n",
       "    <tr>\n",
       "      <th>1</th>\n",
       "      <td>32281</td>\n",
       "      <td>Kimi no Na wa</td>\n",
       "      <td>Drama, Romance, School, Supernatural</td>\n",
       "      <td>Movie</td>\n",
       "      <td>1</td>\n",
       "      <td>9.37</td>\n",
       "      <td>200630</td>\n",
       "      <td>152</td>\n",
       "      <td>10</td>\n",
       "    </tr>\n",
       "    <tr>\n",
       "      <th>2</th>\n",
       "      <td>32281</td>\n",
       "      <td>Kimi no Na wa</td>\n",
       "      <td>Drama, Romance, School, Supernatural</td>\n",
       "      <td>Movie</td>\n",
       "      <td>1</td>\n",
       "      <td>9.37</td>\n",
       "      <td>200630</td>\n",
       "      <td>244</td>\n",
       "      <td>10</td>\n",
       "    </tr>\n",
       "    <tr>\n",
       "      <th>3</th>\n",
       "      <td>32281</td>\n",
       "      <td>Kimi no Na wa</td>\n",
       "      <td>Drama, Romance, School, Supernatural</td>\n",
       "      <td>Movie</td>\n",
       "      <td>1</td>\n",
       "      <td>9.37</td>\n",
       "      <td>200630</td>\n",
       "      <td>271</td>\n",
       "      <td>10</td>\n",
       "    </tr>\n",
       "    <tr>\n",
       "      <th>4</th>\n",
       "      <td>32281</td>\n",
       "      <td>Kimi no Na wa</td>\n",
       "      <td>Drama, Romance, School, Supernatural</td>\n",
       "      <td>Movie</td>\n",
       "      <td>1</td>\n",
       "      <td>9.37</td>\n",
       "      <td>200630</td>\n",
       "      <td>278</td>\n",
       "      <td>-1</td>\n",
       "    </tr>\n",
       "  </tbody>\n",
       "</table>\n",
       "</div>"
      ],
      "text/plain": [
       "   anime_id           name                                 genre   type  \\\n",
       "0     32281  Kimi no Na wa  Drama, Romance, School, Supernatural  Movie   \n",
       "1     32281  Kimi no Na wa  Drama, Romance, School, Supernatural  Movie   \n",
       "2     32281  Kimi no Na wa  Drama, Romance, School, Supernatural  Movie   \n",
       "3     32281  Kimi no Na wa  Drama, Romance, School, Supernatural  Movie   \n",
       "4     32281  Kimi no Na wa  Drama, Romance, School, Supernatural  Movie   \n",
       "\n",
       "  episodes  rating_x  members  user_id  rating_y  \n",
       "0        1      9.37   200630       99         5  \n",
       "1        1      9.37   200630      152        10  \n",
       "2        1      9.37   200630      244        10  \n",
       "3        1      9.37   200630      271        10  \n",
       "4        1      9.37   200630      278        -1  "
      ]
     },
     "execution_count": 15,
     "metadata": {},
     "output_type": "execute_result"
    }
   ],
   "source": [
    "df=pd.merge(anime,rating,on='anime_id')\n",
    "df.head()"
   ]
  },
  {
   "cell_type": "code",
   "execution_count": 16,
   "metadata": {
    "execution": {
     "iopub.execute_input": "2021-07-19T09:25:19.739861Z",
     "iopub.status.busy": "2021-07-19T09:25:19.739378Z",
     "iopub.status.idle": "2021-07-19T09:25:19.758965Z",
     "shell.execute_reply": "2021-07-19T09:25:19.757547Z",
     "shell.execute_reply.started": "2021-07-19T09:25:19.739813Z"
    }
   },
   "outputs": [
    {
     "data": {
      "text/html": [
       "<div>\n",
       "<style scoped>\n",
       "    .dataframe tbody tr th:only-of-type {\n",
       "        vertical-align: middle;\n",
       "    }\n",
       "\n",
       "    .dataframe tbody tr th {\n",
       "        vertical-align: top;\n",
       "    }\n",
       "\n",
       "    .dataframe thead th {\n",
       "        text-align: right;\n",
       "    }\n",
       "</style>\n",
       "<table border=\"1\" class=\"dataframe\">\n",
       "  <thead>\n",
       "    <tr style=\"text-align: right;\">\n",
       "      <th></th>\n",
       "      <th>anime_id</th>\n",
       "      <th>name</th>\n",
       "      <th>genre</th>\n",
       "      <th>type</th>\n",
       "      <th>episodes</th>\n",
       "      <th>avg_rating</th>\n",
       "      <th>members</th>\n",
       "      <th>user_id</th>\n",
       "      <th>user_rating</th>\n",
       "    </tr>\n",
       "  </thead>\n",
       "  <tbody>\n",
       "    <tr>\n",
       "      <th>0</th>\n",
       "      <td>32281</td>\n",
       "      <td>Kimi no Na wa</td>\n",
       "      <td>Drama, Romance, School, Supernatural</td>\n",
       "      <td>Movie</td>\n",
       "      <td>1</td>\n",
       "      <td>9.37</td>\n",
       "      <td>200630</td>\n",
       "      <td>99</td>\n",
       "      <td>5</td>\n",
       "    </tr>\n",
       "    <tr>\n",
       "      <th>1</th>\n",
       "      <td>32281</td>\n",
       "      <td>Kimi no Na wa</td>\n",
       "      <td>Drama, Romance, School, Supernatural</td>\n",
       "      <td>Movie</td>\n",
       "      <td>1</td>\n",
       "      <td>9.37</td>\n",
       "      <td>200630</td>\n",
       "      <td>152</td>\n",
       "      <td>10</td>\n",
       "    </tr>\n",
       "    <tr>\n",
       "      <th>2</th>\n",
       "      <td>32281</td>\n",
       "      <td>Kimi no Na wa</td>\n",
       "      <td>Drama, Romance, School, Supernatural</td>\n",
       "      <td>Movie</td>\n",
       "      <td>1</td>\n",
       "      <td>9.37</td>\n",
       "      <td>200630</td>\n",
       "      <td>244</td>\n",
       "      <td>10</td>\n",
       "    </tr>\n",
       "    <tr>\n",
       "      <th>3</th>\n",
       "      <td>32281</td>\n",
       "      <td>Kimi no Na wa</td>\n",
       "      <td>Drama, Romance, School, Supernatural</td>\n",
       "      <td>Movie</td>\n",
       "      <td>1</td>\n",
       "      <td>9.37</td>\n",
       "      <td>200630</td>\n",
       "      <td>271</td>\n",
       "      <td>10</td>\n",
       "    </tr>\n",
       "    <tr>\n",
       "      <th>4</th>\n",
       "      <td>32281</td>\n",
       "      <td>Kimi no Na wa</td>\n",
       "      <td>Drama, Romance, School, Supernatural</td>\n",
       "      <td>Movie</td>\n",
       "      <td>1</td>\n",
       "      <td>9.37</td>\n",
       "      <td>200630</td>\n",
       "      <td>278</td>\n",
       "      <td>-1</td>\n",
       "    </tr>\n",
       "  </tbody>\n",
       "</table>\n",
       "</div>"
      ],
      "text/plain": [
       "   anime_id           name                                 genre   type  \\\n",
       "0     32281  Kimi no Na wa  Drama, Romance, School, Supernatural  Movie   \n",
       "1     32281  Kimi no Na wa  Drama, Romance, School, Supernatural  Movie   \n",
       "2     32281  Kimi no Na wa  Drama, Romance, School, Supernatural  Movie   \n",
       "3     32281  Kimi no Na wa  Drama, Romance, School, Supernatural  Movie   \n",
       "4     32281  Kimi no Na wa  Drama, Romance, School, Supernatural  Movie   \n",
       "\n",
       "  episodes  avg_rating  members  user_id  user_rating  \n",
       "0        1        9.37   200630       99            5  \n",
       "1        1        9.37   200630      152           10  \n",
       "2        1        9.37   200630      244           10  \n",
       "3        1        9.37   200630      271           10  \n",
       "4        1        9.37   200630      278           -1  "
      ]
     },
     "execution_count": 16,
     "metadata": {},
     "output_type": "execute_result"
    }
   ],
   "source": [
    "df.rename(columns={'rating_x':'avg_rating','rating_y':'user_rating'},inplace=True)\n",
    "df.head()"
   ]
  },
  {
   "cell_type": "markdown",
   "metadata": {},
   "source": [
    "### Data Info"
   ]
  },
  {
   "cell_type": "code",
   "execution_count": 17,
   "metadata": {
    "execution": {
     "iopub.execute_input": "2021-07-19T09:25:19.761553Z",
     "iopub.status.busy": "2021-07-19T09:25:19.760928Z",
     "iopub.status.idle": "2021-07-19T09:25:19.780459Z",
     "shell.execute_reply": "2021-07-19T09:25:19.779126Z",
     "shell.execute_reply.started": "2021-07-19T09:25:19.761505Z"
    }
   },
   "outputs": [
    {
     "name": "stdout",
     "output_type": "stream",
     "text": [
      "<class 'pandas.core.frame.DataFrame'>\n",
      "Int64Index: 7813727 entries, 0 to 7813726\n",
      "Data columns (total 9 columns):\n",
      " #   Column       Dtype  \n",
      "---  ------       -----  \n",
      " 0   anime_id     int64  \n",
      " 1   name         object \n",
      " 2   genre        object \n",
      " 3   type         object \n",
      " 4   episodes     object \n",
      " 5   avg_rating   float64\n",
      " 6   members      int64  \n",
      " 7   user_id      int64  \n",
      " 8   user_rating  int64  \n",
      "dtypes: float64(1), int64(4), object(4)\n",
      "memory usage: 596.1+ MB\n"
     ]
    }
   ],
   "source": [
    "df.info()"
   ]
  },
  {
   "cell_type": "markdown",
   "metadata": {},
   "source": [
    "### Data Dimensions"
   ]
  },
  {
   "cell_type": "code",
   "execution_count": 18,
   "metadata": {
    "execution": {
     "iopub.execute_input": "2021-07-19T09:25:19.782773Z",
     "iopub.status.busy": "2021-07-19T09:25:19.782251Z",
     "iopub.status.idle": "2021-07-19T09:25:19.790532Z",
     "shell.execute_reply": "2021-07-19T09:25:19.789690Z",
     "shell.execute_reply.started": "2021-07-19T09:25:19.782718Z"
    }
   },
   "outputs": [
    {
     "data": {
      "text/plain": [
       "(12294, 7)"
      ]
     },
     "execution_count": 18,
     "metadata": {},
     "output_type": "execute_result"
    }
   ],
   "source": [
    "anime.shape"
   ]
  },
  {
   "cell_type": "markdown",
   "metadata": {},
   "source": [
    "In this dataset I have 12294 records across 7 features"
   ]
  },
  {
   "cell_type": "code",
   "execution_count": 19,
   "metadata": {
    "execution": {
     "iopub.execute_input": "2021-07-19T09:25:19.792031Z",
     "iopub.status.busy": "2021-07-19T09:25:19.791741Z",
     "iopub.status.idle": "2021-07-19T09:25:19.801271Z",
     "shell.execute_reply": "2021-07-19T09:25:19.800483Z",
     "shell.execute_reply.started": "2021-07-19T09:25:19.792002Z"
    }
   },
   "outputs": [
    {
     "data": {
      "text/plain": [
       "(7813737, 3)"
      ]
     },
     "execution_count": 19,
     "metadata": {},
     "output_type": "execute_result"
    }
   ],
   "source": [
    "rating.shape"
   ]
  },
  {
   "cell_type": "markdown",
   "metadata": {},
   "source": [
    "In this dataset I have 7813737 records across 3 features"
   ]
  },
  {
   "cell_type": "code",
   "execution_count": 20,
   "metadata": {
    "execution": {
     "iopub.execute_input": "2021-07-19T09:25:19.803051Z",
     "iopub.status.busy": "2021-07-19T09:25:19.802569Z",
     "iopub.status.idle": "2021-07-19T09:25:19.817330Z",
     "shell.execute_reply": "2021-07-19T09:25:19.816286Z",
     "shell.execute_reply.started": "2021-07-19T09:25:19.803016Z"
    }
   },
   "outputs": [
    {
     "data": {
      "text/plain": [
       "(7813727, 9)"
      ]
     },
     "execution_count": 20,
     "metadata": {},
     "output_type": "execute_result"
    }
   ],
   "source": [
    "df.shape"
   ]
  },
  {
   "cell_type": "markdown",
   "metadata": {},
   "source": [
    "In this dataset I have 7813727 records across 3 features"
   ]
  },
  {
   "cell_type": "markdown",
   "metadata": {},
   "source": [
    "###  Data Types "
   ]
  },
  {
   "cell_type": "code",
   "execution_count": 21,
   "metadata": {
    "execution": {
     "iopub.execute_input": "2021-07-19T09:25:19.819506Z",
     "iopub.status.busy": "2021-07-19T09:25:19.818921Z",
     "iopub.status.idle": "2021-07-19T09:25:19.828431Z",
     "shell.execute_reply": "2021-07-19T09:25:19.827602Z",
     "shell.execute_reply.started": "2021-07-19T09:25:19.819455Z"
    }
   },
   "outputs": [
    {
     "data": {
      "text/plain": [
       "anime_id         int64\n",
       "name            object\n",
       "genre           object\n",
       "type            object\n",
       "episodes        object\n",
       "avg_rating     float64\n",
       "members          int64\n",
       "user_id          int64\n",
       "user_rating      int64\n",
       "dtype: object"
      ]
     },
     "execution_count": 21,
     "metadata": {},
     "output_type": "execute_result"
    }
   ],
   "source": [
    "df.dtypes"
   ]
  },
  {
   "cell_type": "markdown",
   "metadata": {},
   "source": [
    "There are 4 `objects`, 1 `float` and 4 `int` data types attributes.\n",
    "\n",
    "As anime_id and user_id are unique values I need to convert it into `object` data type."
   ]
  },
  {
   "cell_type": "code",
   "execution_count": 22,
   "metadata": {
    "execution": {
     "iopub.execute_input": "2021-07-19T09:25:19.830779Z",
     "iopub.status.busy": "2021-07-19T09:25:19.830132Z",
     "iopub.status.idle": "2021-07-19T09:25:21.220900Z",
     "shell.execute_reply": "2021-07-19T09:25:21.219890Z",
     "shell.execute_reply.started": "2021-07-19T09:25:19.830739Z"
    }
   },
   "outputs": [],
   "source": [
    "df['anime_id']=df.anime_id.astype('object')\n",
    "df['user_id']=df.user_id.astype('object')"
   ]
  },
  {
   "cell_type": "code",
   "execution_count": 23,
   "metadata": {
    "execution": {
     "iopub.execute_input": "2021-07-19T09:25:21.223816Z",
     "iopub.status.busy": "2021-07-19T09:25:21.222793Z",
     "iopub.status.idle": "2021-07-19T09:25:21.234296Z",
     "shell.execute_reply": "2021-07-19T09:25:21.233434Z",
     "shell.execute_reply.started": "2021-07-19T09:25:21.223606Z"
    }
   },
   "outputs": [
    {
     "data": {
      "text/plain": [
       "anime_id        object\n",
       "name            object\n",
       "genre           object\n",
       "type            object\n",
       "episodes        object\n",
       "avg_rating     float64\n",
       "members          int64\n",
       "user_id         object\n",
       "user_rating      int64\n",
       "dtype: object"
      ]
     },
     "execution_count": 23,
     "metadata": {},
     "output_type": "execute_result"
    }
   ],
   "source": [
    "df.dtypes"
   ]
  },
  {
   "cell_type": "markdown",
   "metadata": {},
   "source": [
    "Now there are 6 `objects`, 2 `int` and 1 `float` attributes."
   ]
  },
  {
   "cell_type": "markdown",
   "metadata": {},
   "source": [
    "### Missing Values "
   ]
  },
  {
   "cell_type": "code",
   "execution_count": 24,
   "metadata": {
    "execution": {
     "iopub.execute_input": "2021-07-19T09:25:21.237247Z",
     "iopub.status.busy": "2021-07-19T09:25:21.236482Z",
     "iopub.status.idle": "2021-07-19T09:25:30.442087Z",
     "shell.execute_reply": "2021-07-19T09:25:30.441261Z",
     "shell.execute_reply.started": "2021-07-19T09:25:21.237193Z"
    }
   },
   "outputs": [],
   "source": [
    "missing_value = pd.DataFrame({\n",
    "    'Missing Value': df.isnull().sum(),\n",
    "    'Percentage': (df.isnull().sum() / len(df))*100\n",
    "})"
   ]
  },
  {
   "cell_type": "code",
   "execution_count": 25,
   "metadata": {
    "execution": {
     "iopub.execute_input": "2021-07-19T09:25:30.444273Z",
     "iopub.status.busy": "2021-07-19T09:25:30.443600Z",
     "iopub.status.idle": "2021-07-19T09:25:30.457026Z",
     "shell.execute_reply": "2021-07-19T09:25:30.455930Z",
     "shell.execute_reply.started": "2021-07-19T09:25:30.444217Z"
    }
   },
   "outputs": [
    {
     "data": {
      "text/html": [
       "<div>\n",
       "<style scoped>\n",
       "    .dataframe tbody tr th:only-of-type {\n",
       "        vertical-align: middle;\n",
       "    }\n",
       "\n",
       "    .dataframe tbody tr th {\n",
       "        vertical-align: top;\n",
       "    }\n",
       "\n",
       "    .dataframe thead th {\n",
       "        text-align: right;\n",
       "    }\n",
       "</style>\n",
       "<table border=\"1\" class=\"dataframe\">\n",
       "  <thead>\n",
       "    <tr style=\"text-align: right;\">\n",
       "      <th></th>\n",
       "      <th>Missing Value</th>\n",
       "      <th>Percentage</th>\n",
       "    </tr>\n",
       "  </thead>\n",
       "  <tbody>\n",
       "    <tr>\n",
       "      <th>genre</th>\n",
       "      <td>110</td>\n",
       "      <td>0.001408</td>\n",
       "    </tr>\n",
       "    <tr>\n",
       "      <th>episodes</th>\n",
       "      <td>8</td>\n",
       "      <td>0.000102</td>\n",
       "    </tr>\n",
       "    <tr>\n",
       "      <th>avg_rating</th>\n",
       "      <td>6</td>\n",
       "      <td>0.000077</td>\n",
       "    </tr>\n",
       "    <tr>\n",
       "      <th>type</th>\n",
       "      <td>4</td>\n",
       "      <td>0.000051</td>\n",
       "    </tr>\n",
       "    <tr>\n",
       "      <th>anime_id</th>\n",
       "      <td>0</td>\n",
       "      <td>0.000000</td>\n",
       "    </tr>\n",
       "    <tr>\n",
       "      <th>name</th>\n",
       "      <td>0</td>\n",
       "      <td>0.000000</td>\n",
       "    </tr>\n",
       "    <tr>\n",
       "      <th>members</th>\n",
       "      <td>0</td>\n",
       "      <td>0.000000</td>\n",
       "    </tr>\n",
       "    <tr>\n",
       "      <th>user_id</th>\n",
       "      <td>0</td>\n",
       "      <td>0.000000</td>\n",
       "    </tr>\n",
       "    <tr>\n",
       "      <th>user_rating</th>\n",
       "      <td>0</td>\n",
       "      <td>0.000000</td>\n",
       "    </tr>\n",
       "  </tbody>\n",
       "</table>\n",
       "</div>"
      ],
      "text/plain": [
       "             Missing Value  Percentage\n",
       "genre                  110    0.001408\n",
       "episodes                 8    0.000102\n",
       "avg_rating               6    0.000077\n",
       "type                     4    0.000051\n",
       "anime_id                 0    0.000000\n",
       "name                     0    0.000000\n",
       "members                  0    0.000000\n",
       "user_id                  0    0.000000\n",
       "user_rating              0    0.000000"
      ]
     },
     "execution_count": 25,
     "metadata": {},
     "output_type": "execute_result"
    }
   ],
   "source": [
    "missing_value.sort_values(by='Percentage', ascending=False)"
   ]
  },
  {
   "cell_type": "markdown",
   "metadata": {},
   "source": [
    "There are few missing values in `genre`,`episodes`,`avg_rating` and `type`."
   ]
  },
  {
   "cell_type": "code",
   "execution_count": 26,
   "metadata": {
    "execution": {
     "iopub.execute_input": "2021-07-19T09:25:30.459498Z",
     "iopub.status.busy": "2021-07-19T09:25:30.458664Z",
     "iopub.status.idle": "2021-07-19T09:25:30.479634Z",
     "shell.execute_reply": "2021-07-19T09:25:30.478427Z",
     "shell.execute_reply.started": "2021-07-19T09:25:30.459449Z"
    }
   },
   "outputs": [
    {
     "data": {
      "text/plain": [
       "anime_id      0\n",
       "name          0\n",
       "genre        62\n",
       "type         25\n",
       "episodes    340\n",
       "rating      230\n",
       "members       0\n",
       "dtype: int64"
      ]
     },
     "execution_count": 26,
     "metadata": {},
     "output_type": "execute_result"
    }
   ],
   "source": [
    "anime.isnull().sum()"
   ]
  },
  {
   "cell_type": "markdown",
   "metadata": {},
   "source": [
    "There are few missing values in `genre`,`episodes`,`avg_rating` and `type`."
   ]
  },
  {
   "cell_type": "markdown",
   "metadata": {},
   "source": [
    "**Missing Values treatment**"
   ]
  },
  {
   "cell_type": "code",
   "execution_count": 27,
   "metadata": {
    "execution": {
     "iopub.execute_input": "2021-07-19T09:25:30.488001Z",
     "iopub.status.busy": "2021-07-19T09:25:30.487512Z",
     "iopub.status.idle": "2021-07-19T09:25:37.669223Z",
     "shell.execute_reply": "2021-07-19T09:25:37.668173Z",
     "shell.execute_reply.started": "2021-07-19T09:25:30.487967Z"
    }
   },
   "outputs": [],
   "source": [
    "# I can't replace the nan values with mean or median as it's unique for each movie\n",
    "# So I will drop the null values rows\n",
    "df.dropna(inplace=True)\n",
    "anime.dropna(inplace=True)"
   ]
  },
  {
   "cell_type": "code",
   "execution_count": 28,
   "metadata": {
    "execution": {
     "iopub.execute_input": "2021-07-19T09:25:37.672364Z",
     "iopub.status.busy": "2021-07-19T09:25:37.672024Z",
     "iopub.status.idle": "2021-07-19T09:25:42.299790Z",
     "shell.execute_reply": "2021-07-19T09:25:42.298494Z",
     "shell.execute_reply.started": "2021-07-19T09:25:37.672331Z"
    }
   },
   "outputs": [
    {
     "data": {
      "text/plain": [
       "anime_id       0\n",
       "name           0\n",
       "genre          0\n",
       "type           0\n",
       "episodes       0\n",
       "avg_rating     0\n",
       "members        0\n",
       "user_id        0\n",
       "user_rating    0\n",
       "dtype: int64"
      ]
     },
     "execution_count": 28,
     "metadata": {},
     "output_type": "execute_result"
    }
   ],
   "source": [
    "df.isnull().sum()"
   ]
  },
  {
   "cell_type": "code",
   "execution_count": 29,
   "metadata": {
    "execution": {
     "iopub.execute_input": "2021-07-19T09:25:42.301683Z",
     "iopub.status.busy": "2021-07-19T09:25:42.301226Z",
     "iopub.status.idle": "2021-07-19T09:25:42.317665Z",
     "shell.execute_reply": "2021-07-19T09:25:42.316424Z",
     "shell.execute_reply.started": "2021-07-19T09:25:42.301638Z"
    }
   },
   "outputs": [
    {
     "data": {
      "text/plain": [
       "anime_id    0\n",
       "name        0\n",
       "genre       0\n",
       "type        0\n",
       "episodes    0\n",
       "rating      0\n",
       "members     0\n",
       "dtype: int64"
      ]
     },
     "execution_count": 29,
     "metadata": {},
     "output_type": "execute_result"
    }
   ],
   "source": [
    "anime.isnull().sum()"
   ]
  },
  {
   "cell_type": "markdown",
   "metadata": {},
   "source": [
    "Now, There are no null values in the dataset."
   ]
  },
  {
   "cell_type": "markdown",
   "metadata": {},
   "source": [
    "### Duplicate Data "
   ]
  },
  {
   "cell_type": "code",
   "execution_count": 30,
   "metadata": {
    "execution": {
     "iopub.execute_input": "2021-07-19T09:25:42.319737Z",
     "iopub.status.busy": "2021-07-19T09:25:42.319106Z",
     "iopub.status.idle": "2021-07-19T09:25:45.875112Z",
     "shell.execute_reply": "2021-07-19T09:25:45.874217Z",
     "shell.execute_reply.started": "2021-07-19T09:25:42.319698Z"
    }
   },
   "outputs": [
    {
     "name": "stdout",
     "output_type": "stream",
     "text": [
      "There are 7 duplicated rows in the data\n"
     ]
    }
   ],
   "source": [
    "duplicate = df.duplicated(subset=['anime_id','user_id']).sum()\n",
    "print('There are {} duplicated rows in the data'.format(duplicate))"
   ]
  },
  {
   "cell_type": "code",
   "execution_count": 31,
   "metadata": {
    "execution": {
     "iopub.execute_input": "2021-07-19T09:25:45.876767Z",
     "iopub.status.busy": "2021-07-19T09:25:45.876290Z",
     "iopub.status.idle": "2021-07-19T09:25:45.895329Z",
     "shell.execute_reply": "2021-07-19T09:25:45.894460Z",
     "shell.execute_reply.started": "2021-07-19T09:25:45.876734Z"
    }
   },
   "outputs": [
    {
     "name": "stdout",
     "output_type": "stream",
     "text": [
      "There are 0 duplicated rows in the data\n"
     ]
    }
   ],
   "source": [
    "duplicate = anime.duplicated().sum()\n",
    "print('There are {} duplicated rows in the data'.format(duplicate))"
   ]
  },
  {
   "cell_type": "markdown",
   "metadata": {},
   "source": [
    "**Getting rid of duplicate data**"
   ]
  },
  {
   "cell_type": "code",
   "execution_count": 32,
   "metadata": {
    "execution": {
     "iopub.execute_input": "2021-07-19T09:25:45.896999Z",
     "iopub.status.busy": "2021-07-19T09:25:45.896575Z",
     "iopub.status.idle": "2021-07-19T09:25:50.311742Z",
     "shell.execute_reply": "2021-07-19T09:25:50.310361Z",
     "shell.execute_reply.started": "2021-07-19T09:25:45.896965Z"
    }
   },
   "outputs": [],
   "source": [
    "df.drop_duplicates(subset=['anime_id','user_id'],inplace=True)"
   ]
  },
  {
   "cell_type": "markdown",
   "metadata": {},
   "source": [
    "**Checking for duplicate data after removal of duplicates**"
   ]
  },
  {
   "cell_type": "code",
   "execution_count": 33,
   "metadata": {
    "execution": {
     "iopub.execute_input": "2021-07-19T09:25:50.313923Z",
     "iopub.status.busy": "2021-07-19T09:25:50.313581Z",
     "iopub.status.idle": "2021-07-19T09:25:57.599812Z",
     "shell.execute_reply": "2021-07-19T09:25:57.598836Z",
     "shell.execute_reply.started": "2021-07-19T09:25:50.313892Z"
    }
   },
   "outputs": [
    {
     "name": "stdout",
     "output_type": "stream",
     "text": [
      "There are 0 duplicated rows in the data\n"
     ]
    }
   ],
   "source": [
    "duplicate = df.duplicated().sum()\n",
    "print('There are {} duplicated rows in the data'.format(duplicate))"
   ]
  },
  {
   "cell_type": "markdown",
   "metadata": {},
   "source": [
    "### Indexing "
   ]
  },
  {
   "cell_type": "code",
   "execution_count": 34,
   "metadata": {
    "execution": {
     "iopub.execute_input": "2021-07-19T09:26:21.879065Z",
     "iopub.status.busy": "2021-07-19T09:26:21.878665Z",
     "iopub.status.idle": "2021-07-19T09:26:21.885823Z",
     "shell.execute_reply": "2021-07-19T09:26:21.884581Z",
     "shell.execute_reply.started": "2021-07-19T09:26:21.879016Z"
    }
   },
   "outputs": [
    {
     "data": {
      "text/plain": [
       "(7813600, 9)"
      ]
     },
     "execution_count": 34,
     "metadata": {},
     "output_type": "execute_result"
    }
   ],
   "source": [
    "df.shape"
   ]
  },
  {
   "cell_type": "markdown",
   "metadata": {},
   "source": [
    "There are `7813604` records after removing missing values and duplicates."
   ]
  },
  {
   "cell_type": "code",
   "execution_count": 35,
   "metadata": {
    "execution": {
     "iopub.execute_input": "2021-07-19T09:26:21.887692Z",
     "iopub.status.busy": "2021-07-19T09:26:21.887346Z",
     "iopub.status.idle": "2021-07-19T09:26:21.909731Z",
     "shell.execute_reply": "2021-07-19T09:26:21.908972Z",
     "shell.execute_reply.started": "2021-07-19T09:26:21.887661Z"
    }
   },
   "outputs": [
    {
     "data": {
      "text/html": [
       "<div>\n",
       "<style scoped>\n",
       "    .dataframe tbody tr th:only-of-type {\n",
       "        vertical-align: middle;\n",
       "    }\n",
       "\n",
       "    .dataframe tbody tr th {\n",
       "        vertical-align: top;\n",
       "    }\n",
       "\n",
       "    .dataframe thead th {\n",
       "        text-align: right;\n",
       "    }\n",
       "</style>\n",
       "<table border=\"1\" class=\"dataframe\">\n",
       "  <thead>\n",
       "    <tr style=\"text-align: right;\">\n",
       "      <th></th>\n",
       "      <th>anime_id</th>\n",
       "      <th>name</th>\n",
       "      <th>genre</th>\n",
       "      <th>type</th>\n",
       "      <th>episodes</th>\n",
       "      <th>avg_rating</th>\n",
       "      <th>members</th>\n",
       "      <th>user_id</th>\n",
       "      <th>user_rating</th>\n",
       "    </tr>\n",
       "  </thead>\n",
       "  <tbody>\n",
       "    <tr>\n",
       "      <th>7813722</th>\n",
       "      <td>6133</td>\n",
       "      <td>Violence Gekiga Shin David no Hoshi Inma Densetsu</td>\n",
       "      <td>Hentai</td>\n",
       "      <td>OVA</td>\n",
       "      <td>1</td>\n",
       "      <td>4.98</td>\n",
       "      <td>175</td>\n",
       "      <td>39532</td>\n",
       "      <td>-1</td>\n",
       "    </tr>\n",
       "    <tr>\n",
       "      <th>7813723</th>\n",
       "      <td>6133</td>\n",
       "      <td>Violence Gekiga Shin David no Hoshi Inma Densetsu</td>\n",
       "      <td>Hentai</td>\n",
       "      <td>OVA</td>\n",
       "      <td>1</td>\n",
       "      <td>4.98</td>\n",
       "      <td>175</td>\n",
       "      <td>48766</td>\n",
       "      <td>-1</td>\n",
       "    </tr>\n",
       "    <tr>\n",
       "      <th>7813724</th>\n",
       "      <td>6133</td>\n",
       "      <td>Violence Gekiga Shin David no Hoshi Inma Densetsu</td>\n",
       "      <td>Hentai</td>\n",
       "      <td>OVA</td>\n",
       "      <td>1</td>\n",
       "      <td>4.98</td>\n",
       "      <td>175</td>\n",
       "      <td>60365</td>\n",
       "      <td>4</td>\n",
       "    </tr>\n",
       "    <tr>\n",
       "      <th>7813725</th>\n",
       "      <td>26081</td>\n",
       "      <td>Yasuji no Pornorama Yacchimae</td>\n",
       "      <td>Hentai</td>\n",
       "      <td>Movie</td>\n",
       "      <td>1</td>\n",
       "      <td>5.46</td>\n",
       "      <td>142</td>\n",
       "      <td>27364</td>\n",
       "      <td>-1</td>\n",
       "    </tr>\n",
       "    <tr>\n",
       "      <th>7813726</th>\n",
       "      <td>26081</td>\n",
       "      <td>Yasuji no Pornorama Yacchimae</td>\n",
       "      <td>Hentai</td>\n",
       "      <td>Movie</td>\n",
       "      <td>1</td>\n",
       "      <td>5.46</td>\n",
       "      <td>142</td>\n",
       "      <td>48766</td>\n",
       "      <td>-1</td>\n",
       "    </tr>\n",
       "  </tbody>\n",
       "</table>\n",
       "</div>"
      ],
      "text/plain": [
       "        anime_id                                               name   genre  \\\n",
       "7813722     6133  Violence Gekiga Shin David no Hoshi Inma Densetsu  Hentai   \n",
       "7813723     6133  Violence Gekiga Shin David no Hoshi Inma Densetsu  Hentai   \n",
       "7813724     6133  Violence Gekiga Shin David no Hoshi Inma Densetsu  Hentai   \n",
       "7813725    26081                      Yasuji no Pornorama Yacchimae  Hentai   \n",
       "7813726    26081                      Yasuji no Pornorama Yacchimae  Hentai   \n",
       "\n",
       "          type episodes  avg_rating  members user_id  user_rating  \n",
       "7813722    OVA        1        4.98      175   39532           -1  \n",
       "7813723    OVA        1        4.98      175   48766           -1  \n",
       "7813724    OVA        1        4.98      175   60365            4  \n",
       "7813725  Movie        1        5.46      142   27364           -1  \n",
       "7813726  Movie        1        5.46      142   48766           -1  "
      ]
     },
     "execution_count": 35,
     "metadata": {},
     "output_type": "execute_result"
    }
   ],
   "source": [
    "df.tail()"
   ]
  },
  {
   "cell_type": "code",
   "execution_count": 36,
   "metadata": {
    "execution": {
     "iopub.execute_input": "2021-07-19T09:26:21.911429Z",
     "iopub.status.busy": "2021-07-19T09:26:21.911130Z",
     "iopub.status.idle": "2021-07-19T09:26:21.933492Z",
     "shell.execute_reply": "2021-07-19T09:26:21.932342Z",
     "shell.execute_reply.started": "2021-07-19T09:26:21.911387Z"
    }
   },
   "outputs": [
    {
     "data": {
      "text/html": [
       "<div>\n",
       "<style scoped>\n",
       "    .dataframe tbody tr th:only-of-type {\n",
       "        vertical-align: middle;\n",
       "    }\n",
       "\n",
       "    .dataframe tbody tr th {\n",
       "        vertical-align: top;\n",
       "    }\n",
       "\n",
       "    .dataframe thead th {\n",
       "        text-align: right;\n",
       "    }\n",
       "</style>\n",
       "<table border=\"1\" class=\"dataframe\">\n",
       "  <thead>\n",
       "    <tr style=\"text-align: right;\">\n",
       "      <th></th>\n",
       "      <th>anime_id</th>\n",
       "      <th>name</th>\n",
       "      <th>genre</th>\n",
       "      <th>type</th>\n",
       "      <th>episodes</th>\n",
       "      <th>avg_rating</th>\n",
       "      <th>members</th>\n",
       "      <th>user_id</th>\n",
       "      <th>user_rating</th>\n",
       "    </tr>\n",
       "  </thead>\n",
       "  <tbody>\n",
       "    <tr>\n",
       "      <th>7813595</th>\n",
       "      <td>6133</td>\n",
       "      <td>Violence Gekiga Shin David no Hoshi Inma Densetsu</td>\n",
       "      <td>Hentai</td>\n",
       "      <td>OVA</td>\n",
       "      <td>1</td>\n",
       "      <td>4.98</td>\n",
       "      <td>175</td>\n",
       "      <td>39532</td>\n",
       "      <td>-1</td>\n",
       "    </tr>\n",
       "    <tr>\n",
       "      <th>7813596</th>\n",
       "      <td>6133</td>\n",
       "      <td>Violence Gekiga Shin David no Hoshi Inma Densetsu</td>\n",
       "      <td>Hentai</td>\n",
       "      <td>OVA</td>\n",
       "      <td>1</td>\n",
       "      <td>4.98</td>\n",
       "      <td>175</td>\n",
       "      <td>48766</td>\n",
       "      <td>-1</td>\n",
       "    </tr>\n",
       "    <tr>\n",
       "      <th>7813597</th>\n",
       "      <td>6133</td>\n",
       "      <td>Violence Gekiga Shin David no Hoshi Inma Densetsu</td>\n",
       "      <td>Hentai</td>\n",
       "      <td>OVA</td>\n",
       "      <td>1</td>\n",
       "      <td>4.98</td>\n",
       "      <td>175</td>\n",
       "      <td>60365</td>\n",
       "      <td>4</td>\n",
       "    </tr>\n",
       "    <tr>\n",
       "      <th>7813598</th>\n",
       "      <td>26081</td>\n",
       "      <td>Yasuji no Pornorama Yacchimae</td>\n",
       "      <td>Hentai</td>\n",
       "      <td>Movie</td>\n",
       "      <td>1</td>\n",
       "      <td>5.46</td>\n",
       "      <td>142</td>\n",
       "      <td>27364</td>\n",
       "      <td>-1</td>\n",
       "    </tr>\n",
       "    <tr>\n",
       "      <th>7813599</th>\n",
       "      <td>26081</td>\n",
       "      <td>Yasuji no Pornorama Yacchimae</td>\n",
       "      <td>Hentai</td>\n",
       "      <td>Movie</td>\n",
       "      <td>1</td>\n",
       "      <td>5.46</td>\n",
       "      <td>142</td>\n",
       "      <td>48766</td>\n",
       "      <td>-1</td>\n",
       "    </tr>\n",
       "  </tbody>\n",
       "</table>\n",
       "</div>"
      ],
      "text/plain": [
       "        anime_id                                               name   genre  \\\n",
       "7813595     6133  Violence Gekiga Shin David no Hoshi Inma Densetsu  Hentai   \n",
       "7813596     6133  Violence Gekiga Shin David no Hoshi Inma Densetsu  Hentai   \n",
       "7813597     6133  Violence Gekiga Shin David no Hoshi Inma Densetsu  Hentai   \n",
       "7813598    26081                      Yasuji no Pornorama Yacchimae  Hentai   \n",
       "7813599    26081                      Yasuji no Pornorama Yacchimae  Hentai   \n",
       "\n",
       "          type episodes  avg_rating  members user_id  user_rating  \n",
       "7813595    OVA        1        4.98      175   39532           -1  \n",
       "7813596    OVA        1        4.98      175   48766           -1  \n",
       "7813597    OVA        1        4.98      175   60365            4  \n",
       "7813598  Movie        1        5.46      142   27364           -1  \n",
       "7813599  Movie        1        5.46      142   48766           -1  "
      ]
     },
     "execution_count": 36,
     "metadata": {},
     "output_type": "execute_result"
    }
   ],
   "source": [
    "df.reset_index(drop=True,inplace=True)\n",
    "df.tail()"
   ]
  },
  {
   "cell_type": "markdown",
   "metadata": {},
   "source": [
    "### Final Dataset "
   ]
  },
  {
   "cell_type": "code",
   "execution_count": 37,
   "metadata": {
    "execution": {
     "iopub.execute_input": "2021-07-19T09:26:21.936023Z",
     "iopub.status.busy": "2021-07-19T09:26:21.935581Z",
     "iopub.status.idle": "2021-07-19T09:26:21.942750Z",
     "shell.execute_reply": "2021-07-19T09:26:21.941556Z",
     "shell.execute_reply.started": "2021-07-19T09:26:21.935977Z"
    }
   },
   "outputs": [
    {
     "data": {
      "text/plain": [
       "(7813600, 9)"
      ]
     },
     "execution_count": 37,
     "metadata": {},
     "output_type": "execute_result"
    }
   ],
   "source": [
    "df.shape"
   ]
  },
  {
   "cell_type": "code",
   "execution_count": 38,
   "metadata": {
    "execution": {
     "iopub.execute_input": "2021-07-19T09:26:21.944703Z",
     "iopub.status.busy": "2021-07-19T09:26:21.944306Z",
     "iopub.status.idle": "2021-07-19T09:26:21.963011Z",
     "shell.execute_reply": "2021-07-19T09:26:21.961910Z",
     "shell.execute_reply.started": "2021-07-19T09:26:21.944670Z"
    }
   },
   "outputs": [
    {
     "data": {
      "text/html": [
       "<div>\n",
       "<style scoped>\n",
       "    .dataframe tbody tr th:only-of-type {\n",
       "        vertical-align: middle;\n",
       "    }\n",
       "\n",
       "    .dataframe tbody tr th {\n",
       "        vertical-align: top;\n",
       "    }\n",
       "\n",
       "    .dataframe thead th {\n",
       "        text-align: right;\n",
       "    }\n",
       "</style>\n",
       "<table border=\"1\" class=\"dataframe\">\n",
       "  <thead>\n",
       "    <tr style=\"text-align: right;\">\n",
       "      <th></th>\n",
       "      <th>anime_id</th>\n",
       "      <th>name</th>\n",
       "      <th>genre</th>\n",
       "      <th>type</th>\n",
       "      <th>episodes</th>\n",
       "      <th>avg_rating</th>\n",
       "      <th>members</th>\n",
       "      <th>user_id</th>\n",
       "      <th>user_rating</th>\n",
       "    </tr>\n",
       "  </thead>\n",
       "  <tbody>\n",
       "    <tr>\n",
       "      <th>0</th>\n",
       "      <td>32281</td>\n",
       "      <td>Kimi no Na wa</td>\n",
       "      <td>Drama, Romance, School, Supernatural</td>\n",
       "      <td>Movie</td>\n",
       "      <td>1</td>\n",
       "      <td>9.37</td>\n",
       "      <td>200630</td>\n",
       "      <td>99</td>\n",
       "      <td>5</td>\n",
       "    </tr>\n",
       "    <tr>\n",
       "      <th>1</th>\n",
       "      <td>32281</td>\n",
       "      <td>Kimi no Na wa</td>\n",
       "      <td>Drama, Romance, School, Supernatural</td>\n",
       "      <td>Movie</td>\n",
       "      <td>1</td>\n",
       "      <td>9.37</td>\n",
       "      <td>200630</td>\n",
       "      <td>152</td>\n",
       "      <td>10</td>\n",
       "    </tr>\n",
       "    <tr>\n",
       "      <th>2</th>\n",
       "      <td>32281</td>\n",
       "      <td>Kimi no Na wa</td>\n",
       "      <td>Drama, Romance, School, Supernatural</td>\n",
       "      <td>Movie</td>\n",
       "      <td>1</td>\n",
       "      <td>9.37</td>\n",
       "      <td>200630</td>\n",
       "      <td>244</td>\n",
       "      <td>10</td>\n",
       "    </tr>\n",
       "    <tr>\n",
       "      <th>3</th>\n",
       "      <td>32281</td>\n",
       "      <td>Kimi no Na wa</td>\n",
       "      <td>Drama, Romance, School, Supernatural</td>\n",
       "      <td>Movie</td>\n",
       "      <td>1</td>\n",
       "      <td>9.37</td>\n",
       "      <td>200630</td>\n",
       "      <td>271</td>\n",
       "      <td>10</td>\n",
       "    </tr>\n",
       "    <tr>\n",
       "      <th>4</th>\n",
       "      <td>32281</td>\n",
       "      <td>Kimi no Na wa</td>\n",
       "      <td>Drama, Romance, School, Supernatural</td>\n",
       "      <td>Movie</td>\n",
       "      <td>1</td>\n",
       "      <td>9.37</td>\n",
       "      <td>200630</td>\n",
       "      <td>278</td>\n",
       "      <td>-1</td>\n",
       "    </tr>\n",
       "  </tbody>\n",
       "</table>\n",
       "</div>"
      ],
      "text/plain": [
       "  anime_id           name                                 genre   type  \\\n",
       "0    32281  Kimi no Na wa  Drama, Romance, School, Supernatural  Movie   \n",
       "1    32281  Kimi no Na wa  Drama, Romance, School, Supernatural  Movie   \n",
       "2    32281  Kimi no Na wa  Drama, Romance, School, Supernatural  Movie   \n",
       "3    32281  Kimi no Na wa  Drama, Romance, School, Supernatural  Movie   \n",
       "4    32281  Kimi no Na wa  Drama, Romance, School, Supernatural  Movie   \n",
       "\n",
       "  episodes  avg_rating  members user_id  user_rating  \n",
       "0        1        9.37   200630      99            5  \n",
       "1        1        9.37   200630     152           10  \n",
       "2        1        9.37   200630     244           10  \n",
       "3        1        9.37   200630     271           10  \n",
       "4        1        9.37   200630     278           -1  "
      ]
     },
     "execution_count": 38,
     "metadata": {},
     "output_type": "execute_result"
    }
   ],
   "source": [
    "df.head()"
   ]
  },
  {
   "cell_type": "markdown",
   "metadata": {},
   "source": [
    "The final dataset has **7813604 records and 9 features with no missing and duplicate values**"
   ]
  },
  {
   "cell_type": "code",
   "execution_count": 39,
   "metadata": {
    "execution": {
     "iopub.execute_input": "2021-07-19T09:26:21.965019Z",
     "iopub.status.busy": "2021-07-19T09:26:21.964537Z",
     "iopub.status.idle": "2021-07-19T09:26:22.894303Z",
     "shell.execute_reply": "2021-07-19T09:26:22.893315Z",
     "shell.execute_reply.started": "2021-07-19T09:26:21.964979Z"
    }
   },
   "outputs": [
    {
     "data": {
      "text/html": [
       "<div>\n",
       "<style scoped>\n",
       "    .dataframe tbody tr th:only-of-type {\n",
       "        vertical-align: middle;\n",
       "    }\n",
       "\n",
       "    .dataframe tbody tr th {\n",
       "        vertical-align: top;\n",
       "    }\n",
       "\n",
       "    .dataframe thead th {\n",
       "        text-align: right;\n",
       "    }\n",
       "</style>\n",
       "<table border=\"1\" class=\"dataframe\">\n",
       "  <thead>\n",
       "    <tr style=\"text-align: right;\">\n",
       "      <th></th>\n",
       "      <th>avg_rating</th>\n",
       "      <th>members</th>\n",
       "      <th>user_rating</th>\n",
       "    </tr>\n",
       "  </thead>\n",
       "  <tbody>\n",
       "    <tr>\n",
       "      <th>count</th>\n",
       "      <td>7.813600e+06</td>\n",
       "      <td>7.813600e+06</td>\n",
       "      <td>7.813600e+06</td>\n",
       "    </tr>\n",
       "    <tr>\n",
       "      <th>mean</th>\n",
       "      <td>7.653158e+00</td>\n",
       "      <td>1.786231e+05</td>\n",
       "      <td>6.144076e+00</td>\n",
       "    </tr>\n",
       "    <tr>\n",
       "      <th>std</th>\n",
       "      <td>6.729737e-01</td>\n",
       "      <td>1.881761e+05</td>\n",
       "      <td>3.727792e+00</td>\n",
       "    </tr>\n",
       "    <tr>\n",
       "      <th>min</th>\n",
       "      <td>1.670000e+00</td>\n",
       "      <td>2.900000e+01</td>\n",
       "      <td>-1.000000e+00</td>\n",
       "    </tr>\n",
       "    <tr>\n",
       "      <th>25%</th>\n",
       "      <td>7.270000e+00</td>\n",
       "      <td>4.403000e+04</td>\n",
       "      <td>6.000000e+00</td>\n",
       "    </tr>\n",
       "    <tr>\n",
       "      <th>50%</th>\n",
       "      <td>7.680000e+00</td>\n",
       "      <td>1.104700e+05</td>\n",
       "      <td>7.000000e+00</td>\n",
       "    </tr>\n",
       "    <tr>\n",
       "      <th>75%</th>\n",
       "      <td>8.130000e+00</td>\n",
       "      <td>2.442680e+05</td>\n",
       "      <td>9.000000e+00</td>\n",
       "    </tr>\n",
       "    <tr>\n",
       "      <th>max</th>\n",
       "      <td>9.500000e+00</td>\n",
       "      <td>1.013917e+06</td>\n",
       "      <td>1.000000e+01</td>\n",
       "    </tr>\n",
       "  </tbody>\n",
       "</table>\n",
       "</div>"
      ],
      "text/plain": [
       "         avg_rating       members   user_rating\n",
       "count  7.813600e+06  7.813600e+06  7.813600e+06\n",
       "mean   7.653158e+00  1.786231e+05  6.144076e+00\n",
       "std    6.729737e-01  1.881761e+05  3.727792e+00\n",
       "min    1.670000e+00  2.900000e+01 -1.000000e+00\n",
       "25%    7.270000e+00  4.403000e+04  6.000000e+00\n",
       "50%    7.680000e+00  1.104700e+05  7.000000e+00\n",
       "75%    8.130000e+00  2.442680e+05  9.000000e+00\n",
       "max    9.500000e+00  1.013917e+06  1.000000e+01"
      ]
     },
     "execution_count": 39,
     "metadata": {},
     "output_type": "execute_result"
    }
   ],
   "source": [
    "df.describe()"
   ]
  },
  {
   "cell_type": "markdown",
   "metadata": {},
   "source": [
    "From the above table , I can infer:\n",
    "\n",
    "1. The minimum avg_rating is 1.67 and the maximum avg_rating is 9.5.\n",
    "\n",
    "2. The number of members ranges from 29 to 1013917.\n",
    "\n",
    "3. Users rating ranges from -1 to 10. So, I will replace -1 with NaN and drop the rows."
   ]
  },
  {
   "cell_type": "code",
   "execution_count": 40,
   "metadata": {
    "execution": {
     "iopub.execute_input": "2021-07-19T09:26:22.896116Z",
     "iopub.status.busy": "2021-07-19T09:26:22.895811Z",
     "iopub.status.idle": "2021-07-19T09:26:23.197878Z",
     "shell.execute_reply": "2021-07-19T09:26:23.196430Z",
     "shell.execute_reply.started": "2021-07-19T09:26:22.896087Z"
    }
   },
   "outputs": [
    {
     "data": {
      "text/plain": [
       "(1476463, 9)"
      ]
     },
     "execution_count": 40,
     "metadata": {},
     "output_type": "execute_result"
    }
   ],
   "source": [
    "df[df.user_rating==-1].shape"
   ]
  },
  {
   "cell_type": "code",
   "execution_count": 41,
   "metadata": {
    "execution": {
     "iopub.execute_input": "2021-07-19T09:26:23.200489Z",
     "iopub.status.busy": "2021-07-19T09:26:23.200166Z",
     "iopub.status.idle": "2021-07-19T09:26:23.298370Z",
     "shell.execute_reply": "2021-07-19T09:26:23.297350Z",
     "shell.execute_reply.started": "2021-07-19T09:26:23.200460Z"
    }
   },
   "outputs": [],
   "source": [
    "df.user_rating.replace({-1:np.nan},inplace=True)"
   ]
  },
  {
   "cell_type": "code",
   "execution_count": 42,
   "metadata": {
    "execution": {
     "iopub.execute_input": "2021-07-19T09:26:23.300261Z",
     "iopub.status.busy": "2021-07-19T09:26:23.299969Z",
     "iopub.status.idle": "2021-07-19T09:26:27.891086Z",
     "shell.execute_reply": "2021-07-19T09:26:27.889896Z",
     "shell.execute_reply.started": "2021-07-19T09:26:23.300233Z"
    }
   },
   "outputs": [
    {
     "data": {
      "text/plain": [
       "anime_id             0\n",
       "name                 0\n",
       "genre                0\n",
       "type                 0\n",
       "episodes             0\n",
       "avg_rating           0\n",
       "members              0\n",
       "user_id              0\n",
       "user_rating    1476463\n",
       "dtype: int64"
      ]
     },
     "execution_count": 42,
     "metadata": {},
     "output_type": "execute_result"
    }
   ],
   "source": [
    "df.isnull().sum()"
   ]
  },
  {
   "cell_type": "code",
   "execution_count": 43,
   "metadata": {
    "execution": {
     "iopub.execute_input": "2021-07-19T09:26:27.892940Z",
     "iopub.status.busy": "2021-07-19T09:26:27.892534Z",
     "iopub.status.idle": "2021-07-19T09:26:33.293611Z",
     "shell.execute_reply": "2021-07-19T09:26:33.292327Z",
     "shell.execute_reply.started": "2021-07-19T09:26:27.892904Z"
    }
   },
   "outputs": [],
   "source": [
    "df.dropna(inplace=True)"
   ]
  },
  {
   "cell_type": "code",
   "execution_count": 44,
   "metadata": {
    "execution": {
     "iopub.execute_input": "2021-07-19T09:26:33.295528Z",
     "iopub.status.busy": "2021-07-19T09:26:33.295041Z",
     "iopub.status.idle": "2021-07-19T09:26:37.057134Z",
     "shell.execute_reply": "2021-07-19T09:26:37.055695Z",
     "shell.execute_reply.started": "2021-07-19T09:26:33.295482Z"
    }
   },
   "outputs": [
    {
     "data": {
      "text/plain": [
       "anime_id       0\n",
       "name           0\n",
       "genre          0\n",
       "type           0\n",
       "episodes       0\n",
       "avg_rating     0\n",
       "members        0\n",
       "user_id        0\n",
       "user_rating    0\n",
       "dtype: int64"
      ]
     },
     "execution_count": 44,
     "metadata": {},
     "output_type": "execute_result"
    }
   ],
   "source": [
    "df.isnull().sum()"
   ]
  },
  {
   "cell_type": "code",
   "execution_count": 45,
   "metadata": {
    "execution": {
     "iopub.execute_input": "2021-07-19T09:26:37.059021Z",
     "iopub.status.busy": "2021-07-19T09:26:37.058684Z",
     "iopub.status.idle": "2021-07-19T09:26:37.065943Z",
     "shell.execute_reply": "2021-07-19T09:26:37.064664Z",
     "shell.execute_reply.started": "2021-07-19T09:26:37.058989Z"
    }
   },
   "outputs": [
    {
     "data": {
      "text/plain": [
       "(6337137, 9)"
      ]
     },
     "execution_count": 45,
     "metadata": {},
     "output_type": "execute_result"
    }
   ],
   "source": [
    "df.shape"
   ]
  },
  {
   "cell_type": "code",
   "execution_count": 46,
   "metadata": {
    "execution": {
     "iopub.execute_input": "2021-07-19T09:26:37.068444Z",
     "iopub.status.busy": "2021-07-19T09:26:37.067879Z",
     "iopub.status.idle": "2021-07-19T09:26:37.808136Z",
     "shell.execute_reply": "2021-07-19T09:26:37.806874Z",
     "shell.execute_reply.started": "2021-07-19T09:26:37.068343Z"
    }
   },
   "outputs": [
    {
     "data": {
      "text/html": [
       "<div>\n",
       "<style scoped>\n",
       "    .dataframe tbody tr th:only-of-type {\n",
       "        vertical-align: middle;\n",
       "    }\n",
       "\n",
       "    .dataframe tbody tr th {\n",
       "        vertical-align: top;\n",
       "    }\n",
       "\n",
       "    .dataframe thead th {\n",
       "        text-align: right;\n",
       "    }\n",
       "</style>\n",
       "<table border=\"1\" class=\"dataframe\">\n",
       "  <thead>\n",
       "    <tr style=\"text-align: right;\">\n",
       "      <th></th>\n",
       "      <th>avg_rating</th>\n",
       "      <th>members</th>\n",
       "      <th>user_rating</th>\n",
       "    </tr>\n",
       "  </thead>\n",
       "  <tbody>\n",
       "    <tr>\n",
       "      <th>count</th>\n",
       "      <td>6.337137e+06</td>\n",
       "      <td>6.337137e+06</td>\n",
       "      <td>6.337137e+06</td>\n",
       "    </tr>\n",
       "    <tr>\n",
       "      <th>mean</th>\n",
       "      <td>7.675014e+00</td>\n",
       "      <td>1.845764e+05</td>\n",
       "      <td>7.808545e+00</td>\n",
       "    </tr>\n",
       "    <tr>\n",
       "      <th>std</th>\n",
       "      <td>6.699039e-01</td>\n",
       "      <td>1.909528e+05</td>\n",
       "      <td>1.572436e+00</td>\n",
       "    </tr>\n",
       "    <tr>\n",
       "      <th>min</th>\n",
       "      <td>2.000000e+00</td>\n",
       "      <td>3.300000e+01</td>\n",
       "      <td>1.000000e+00</td>\n",
       "    </tr>\n",
       "    <tr>\n",
       "      <th>25%</th>\n",
       "      <td>7.290000e+00</td>\n",
       "      <td>4.680300e+04</td>\n",
       "      <td>7.000000e+00</td>\n",
       "    </tr>\n",
       "    <tr>\n",
       "      <th>50%</th>\n",
       "      <td>7.700000e+00</td>\n",
       "      <td>1.170910e+05</td>\n",
       "      <td>8.000000e+00</td>\n",
       "    </tr>\n",
       "    <tr>\n",
       "      <th>75%</th>\n",
       "      <td>8.150000e+00</td>\n",
       "      <td>2.563250e+05</td>\n",
       "      <td>9.000000e+00</td>\n",
       "    </tr>\n",
       "    <tr>\n",
       "      <th>max</th>\n",
       "      <td>9.370000e+00</td>\n",
       "      <td>1.013917e+06</td>\n",
       "      <td>1.000000e+01</td>\n",
       "    </tr>\n",
       "  </tbody>\n",
       "</table>\n",
       "</div>"
      ],
      "text/plain": [
       "         avg_rating       members   user_rating\n",
       "count  6.337137e+06  6.337137e+06  6.337137e+06\n",
       "mean   7.675014e+00  1.845764e+05  7.808545e+00\n",
       "std    6.699039e-01  1.909528e+05  1.572436e+00\n",
       "min    2.000000e+00  3.300000e+01  1.000000e+00\n",
       "25%    7.290000e+00  4.680300e+04  7.000000e+00\n",
       "50%    7.700000e+00  1.170910e+05  8.000000e+00\n",
       "75%    8.150000e+00  2.563250e+05  9.000000e+00\n",
       "max    9.370000e+00  1.013917e+06  1.000000e+01"
      ]
     },
     "execution_count": 46,
     "metadata": {},
     "output_type": "execute_result"
    }
   ],
   "source": [
    "df.describe()"
   ]
  },
  {
   "cell_type": "markdown",
   "metadata": {},
   "source": [
    "**Interpretation:**\n",
    "\n",
    "1. The minimum avg_rating is 2 and the maximum avg_rating is 9.37.\n",
    "\n",
    "2. The number of members ranges from 33 to 1013917.\n",
    "\n",
    "3. Users rating ranges from 1 to 10."
   ]
  },
  {
   "cell_type": "markdown",
   "metadata": {},
   "source": [
    "**Categorical Variables**"
   ]
  },
  {
   "cell_type": "code",
   "execution_count": 47,
   "metadata": {
    "execution": {
     "iopub.execute_input": "2021-07-19T09:26:37.809737Z",
     "iopub.status.busy": "2021-07-19T09:26:37.809395Z",
     "iopub.status.idle": "2021-07-19T09:26:50.440723Z",
     "shell.execute_reply": "2021-07-19T09:26:50.439737Z",
     "shell.execute_reply.started": "2021-07-19T09:26:37.809705Z"
    }
   },
   "outputs": [
    {
     "data": {
      "text/html": [
       "<div>\n",
       "<style scoped>\n",
       "    .dataframe tbody tr th:only-of-type {\n",
       "        vertical-align: middle;\n",
       "    }\n",
       "\n",
       "    .dataframe tbody tr th {\n",
       "        vertical-align: top;\n",
       "    }\n",
       "\n",
       "    .dataframe thead th {\n",
       "        text-align: right;\n",
       "    }\n",
       "</style>\n",
       "<table border=\"1\" class=\"dataframe\">\n",
       "  <thead>\n",
       "    <tr style=\"text-align: right;\">\n",
       "      <th></th>\n",
       "      <th>anime_id</th>\n",
       "      <th>name</th>\n",
       "      <th>genre</th>\n",
       "      <th>type</th>\n",
       "      <th>episodes</th>\n",
       "      <th>user_id</th>\n",
       "    </tr>\n",
       "  </thead>\n",
       "  <tbody>\n",
       "    <tr>\n",
       "      <th>count</th>\n",
       "      <td>6337137</td>\n",
       "      <td>6337137</td>\n",
       "      <td>6337137</td>\n",
       "      <td>6337137</td>\n",
       "      <td>6337137</td>\n",
       "      <td>6337137</td>\n",
       "    </tr>\n",
       "    <tr>\n",
       "      <th>unique</th>\n",
       "      <td>9890</td>\n",
       "      <td>9869</td>\n",
       "      <td>3048</td>\n",
       "      <td>6</td>\n",
       "      <td>177</td>\n",
       "      <td>69600</td>\n",
       "    </tr>\n",
       "    <tr>\n",
       "      <th>top</th>\n",
       "      <td>1535</td>\n",
       "      <td>Death Note</td>\n",
       "      <td>Comedy, School, Slice of Life</td>\n",
       "      <td>TV</td>\n",
       "      <td>12</td>\n",
       "      <td>42635</td>\n",
       "    </tr>\n",
       "    <tr>\n",
       "      <th>freq</th>\n",
       "      <td>34226</td>\n",
       "      <td>34226</td>\n",
       "      <td>49850</td>\n",
       "      <td>4364286</td>\n",
       "      <td>1420729</td>\n",
       "      <td>3747</td>\n",
       "    </tr>\n",
       "  </tbody>\n",
       "</table>\n",
       "</div>"
      ],
      "text/plain": [
       "        anime_id        name                          genre     type episodes  \\\n",
       "count    6337137     6337137                        6337137  6337137  6337137   \n",
       "unique      9890        9869                           3048        6      177   \n",
       "top         1535  Death Note  Comedy, School, Slice of Life       TV       12   \n",
       "freq       34226       34226                          49850  4364286  1420729   \n",
       "\n",
       "        user_id  \n",
       "count   6337137  \n",
       "unique    69600  \n",
       "top       42635  \n",
       "freq       3747  "
      ]
     },
     "execution_count": 47,
     "metadata": {},
     "output_type": "execute_result"
    }
   ],
   "source": [
    "df.describe(include='object')"
   ]
  },
  {
   "cell_type": "markdown",
   "metadata": {},
   "source": [
    "### Correlation"
   ]
  },
  {
   "cell_type": "code",
   "execution_count": 48,
   "metadata": {
    "execution": {
     "iopub.execute_input": "2021-07-19T09:26:50.442539Z",
     "iopub.status.busy": "2021-07-19T09:26:50.442140Z",
     "iopub.status.idle": "2021-07-19T09:26:50.748179Z",
     "shell.execute_reply": "2021-07-19T09:26:50.747029Z",
     "shell.execute_reply.started": "2021-07-19T09:26:50.442496Z"
    }
   },
   "outputs": [
    {
     "data": {
      "text/html": [
       "<div>\n",
       "<style scoped>\n",
       "    .dataframe tbody tr th:only-of-type {\n",
       "        vertical-align: middle;\n",
       "    }\n",
       "\n",
       "    .dataframe tbody tr th {\n",
       "        vertical-align: top;\n",
       "    }\n",
       "\n",
       "    .dataframe thead th {\n",
       "        text-align: right;\n",
       "    }\n",
       "</style>\n",
       "<table border=\"1\" class=\"dataframe\">\n",
       "  <thead>\n",
       "    <tr style=\"text-align: right;\">\n",
       "      <th></th>\n",
       "      <th>avg_rating</th>\n",
       "      <th>members</th>\n",
       "      <th>user_rating</th>\n",
       "    </tr>\n",
       "  </thead>\n",
       "  <tbody>\n",
       "    <tr>\n",
       "      <th>avg_rating</th>\n",
       "      <td>1.000000</td>\n",
       "      <td>0.541075</td>\n",
       "      <td>0.410680</td>\n",
       "    </tr>\n",
       "    <tr>\n",
       "      <th>members</th>\n",
       "      <td>0.541075</td>\n",
       "      <td>1.000000</td>\n",
       "      <td>0.232404</td>\n",
       "    </tr>\n",
       "    <tr>\n",
       "      <th>user_rating</th>\n",
       "      <td>0.410680</td>\n",
       "      <td>0.232404</td>\n",
       "      <td>1.000000</td>\n",
       "    </tr>\n",
       "  </tbody>\n",
       "</table>\n",
       "</div>"
      ],
      "text/plain": [
       "             avg_rating   members  user_rating\n",
       "avg_rating     1.000000  0.541075     0.410680\n",
       "members        0.541075  1.000000     0.232404\n",
       "user_rating    0.410680  0.232404     1.000000"
      ]
     },
     "execution_count": 48,
     "metadata": {},
     "output_type": "execute_result"
    }
   ],
   "source": [
    "corr_matrix=df.corr()\n",
    "corr_matrix"
   ]
  },
  {
   "cell_type": "code",
   "execution_count": 49,
   "metadata": {
    "execution": {
     "iopub.execute_input": "2021-07-19T09:26:50.750295Z",
     "iopub.status.busy": "2021-07-19T09:26:50.749860Z",
     "iopub.status.idle": "2021-07-19T09:26:51.260953Z",
     "shell.execute_reply": "2021-07-19T09:26:51.259603Z",
     "shell.execute_reply.started": "2021-07-19T09:26:50.750250Z"
    }
   },
   "outputs": [
    {
     "data": {
      "image/png": "[encoded data removed]",
      "text/plain": [
       "<Figure size 792x648 with 2 Axes>"
      ]
     },
     "metadata": {
      "needs_background": "light"
     },
     "output_type": "display_data"
    }
   ],
   "source": [
    "plt.figure(figsize=(11,9))\n",
    "sns.heatmap(corr_matrix, cmap='Purples', annot=True, fmt=\".2f\")\n",
    "sns.set(font_scale=1.5)"
   ]
  },
  {
   "cell_type": "markdown",
   "metadata": {},
   "source": [
    "**Inferences:**\n",
    "\n",
    "Members and avg_rating have a positive relationship.i.e. **0.54**. Because as the number of members increase avg rating of the anime will also increase.\n",
    "\n",
    "There is no Strong relationship betIen any attributes. "
   ]
  },
  {
   "cell_type": "code",
   "execution_count": 50,
   "metadata": {
    "execution": {
     "iopub.execute_input": "2021-07-19T09:26:51.262954Z",
     "iopub.status.busy": "2021-07-19T09:26:51.262604Z",
     "iopub.status.idle": "2021-07-19T09:27:09.334507Z",
     "shell.execute_reply": "2021-07-19T09:27:09.333447Z",
     "shell.execute_reply.started": "2021-07-19T09:26:51.262919Z"
    }
   },
   "outputs": [],
   "source": [
    "nonull_anime=df.copy()\n",
    "nonull_anime.dropna(inplace=True)\n",
    "from collections import defaultdict\n",
    "\n",
    "all_genres = defaultdict(int)\n",
    "\n",
    "for genres in nonull_anime['genre']:\n",
    "    for genre in genres.split(','):\n",
    "        all_genres[genre.strip()] += 1"
   ]
  },
  {
   "cell_type": "markdown",
   "metadata": {},
   "source": [
    "**Top 10 anime based on rating counts**"
   ]
  },
  {
   "cell_type": "code",
   "execution_count": 51,
   "metadata": {
    "execution": {
     "iopub.execute_input": "2021-07-19T09:27:09.935694Z",
     "iopub.status.busy": "2021-07-19T09:27:09.935008Z",
     "iopub.status.idle": "2021-07-19T09:27:10.717264Z",
     "shell.execute_reply": "2021-07-19T09:27:10.716216Z",
     "shell.execute_reply.started": "2021-07-19T09:27:09.935646Z"
    }
   },
   "outputs": [
    {
     "data": {
      "text/html": [
       "<div>\n",
       "<style scoped>\n",
       "    .dataframe tbody tr th:only-of-type {\n",
       "        vertical-align: middle;\n",
       "    }\n",
       "\n",
       "    .dataframe tbody tr th {\n",
       "        vertical-align: top;\n",
       "    }\n",
       "\n",
       "    .dataframe thead th {\n",
       "        text-align: right;\n",
       "    }\n",
       "</style>\n",
       "<table border=\"1\" class=\"dataframe\">\n",
       "  <thead>\n",
       "    <tr style=\"text-align: right;\">\n",
       "      <th></th>\n",
       "      <th>name</th>\n",
       "      <th>totalRatingCount</th>\n",
       "    </tr>\n",
       "  </thead>\n",
       "  <tbody>\n",
       "    <tr>\n",
       "      <th>0</th>\n",
       "      <td>0</td>\n",
       "      <td>17</td>\n",
       "    </tr>\n",
       "    <tr>\n",
       "      <th>1</th>\n",
       "      <td>0008</td>\n",
       "      <td>34</td>\n",
       "    </tr>\n",
       "    <tr>\n",
       "      <th>2</th>\n",
       "      <td>001</td>\n",
       "      <td>10</td>\n",
       "    </tr>\n",
       "    <tr>\n",
       "      <th>3</th>\n",
       "      <td>009 ReCyborg</td>\n",
       "      <td>238</td>\n",
       "    </tr>\n",
       "    <tr>\n",
       "      <th>4</th>\n",
       "      <td>0091</td>\n",
       "      <td>244</td>\n",
       "    </tr>\n",
       "  </tbody>\n",
       "</table>\n",
       "</div>"
      ],
      "text/plain": [
       "           name  totalRatingCount\n",
       "0             0                17\n",
       "1          0008                34\n",
       "2           001                10\n",
       "3  009 ReCyborg               238\n",
       "4          0091               244"
      ]
     },
     "execution_count": 51,
     "metadata": {},
     "output_type": "execute_result"
    }
   ],
   "source": [
    "df_count = df.groupby(by = ['name'])['user_rating'].count().reset_index()[['name', 'user_rating']]\n",
    "df_count.rename(columns = {'user_rating': 'totalRatingCount'},inplace=True)\n",
    "df_count.head()"
   ]
  },
  {
   "cell_type": "code",
   "execution_count": 52,
   "metadata": {
    "execution": {
     "iopub.execute_input": "2021-07-19T09:27:10.720738Z",
     "iopub.status.busy": "2021-07-19T09:27:10.720081Z",
     "iopub.status.idle": "2021-07-19T09:27:11.090966Z",
     "shell.execute_reply": "2021-07-19T09:27:11.089658Z",
     "shell.execute_reply.started": "2021-07-19T09:27:10.720693Z"
    }
   },
   "outputs": [
    {
     "data": {
      "text/plain": [
       "Text(0, 0.5, 'User Rating count')"
      ]
     },
     "execution_count": 52,
     "metadata": {},
     "output_type": "execute_result"
    },
    {
     "data": {
      "image/png": "[encoded data removed]",
      "text/plain": [
       "<Figure size 1080x360 with 1 Axes>"
      ]
     },
     "metadata": {},
     "output_type": "display_data"
    }
   ],
   "source": [
    "top10_animerating=df_count[['name', 'totalRatingCount']].sort_values(by = 'totalRatingCount',ascending = False).head(10)\n",
    "plt.figure(figsize=(15,5))\n",
    "ax=sns.barplot(x=\"name\", y=\"totalRatingCount\", data=top10_animerating, palette=\"Dark2\")\n",
    "ax.set_xticklabels(ax.get_xticklabels(), fontsize=11, rotation=40, ha=\"right\")\n",
    "ax.set_title('Top 10 Anime based on rating counts',fontsize = 22)\n",
    "ax.set_xlabel('Anime',fontsize = 20) \n",
    "ax.set_ylabel('User Rating count', fontsize = 20)"
   ]
  },
  {
   "cell_type": "markdown",
   "metadata": {},
   "source": [
    "From the graph I can infer:\n",
    "    \n",
    "Based on the user rating I can see that`Death Note` have been rated the most folloId by `Sword Art Online` and `Shingeki no Kyojin`."
   ]
  },
  {
   "cell_type": "markdown",
   "metadata": {},
   "source": [
    "**Top 10 animes based on community size**"
   ]
  },
  {
   "cell_type": "code",
   "execution_count": 53,
   "metadata": {
    "execution": {
     "iopub.execute_input": "2021-07-19T09:27:11.092723Z",
     "iopub.status.busy": "2021-07-19T09:27:11.092300Z",
     "iopub.status.idle": "2021-07-19T09:27:13.936701Z",
     "shell.execute_reply": "2021-07-19T09:27:13.935602Z",
     "shell.execute_reply.started": "2021-07-19T09:27:11.092677Z"
    }
   },
   "outputs": [
    {
     "data": {
      "text/html": [
       "<div>\n",
       "<style scoped>\n",
       "    .dataframe tbody tr th:only-of-type {\n",
       "        vertical-align: middle;\n",
       "    }\n",
       "\n",
       "    .dataframe tbody tr th {\n",
       "        vertical-align: top;\n",
       "    }\n",
       "\n",
       "    .dataframe thead th {\n",
       "        text-align: right;\n",
       "    }\n",
       "</style>\n",
       "<table border=\"1\" class=\"dataframe\">\n",
       "  <thead>\n",
       "    <tr style=\"text-align: right;\">\n",
       "      <th></th>\n",
       "      <th>anime_id</th>\n",
       "      <th>name</th>\n",
       "      <th>genre</th>\n",
       "      <th>type</th>\n",
       "      <th>episodes</th>\n",
       "      <th>avg_rating</th>\n",
       "      <th>members</th>\n",
       "      <th>user_id</th>\n",
       "      <th>user_rating</th>\n",
       "      <th>totalRatingCount</th>\n",
       "    </tr>\n",
       "  </thead>\n",
       "  <tbody>\n",
       "    <tr>\n",
       "      <th>0</th>\n",
       "      <td>32281</td>\n",
       "      <td>Kimi no Na wa</td>\n",
       "      <td>Drama, Romance, School, Supernatural</td>\n",
       "      <td>Movie</td>\n",
       "      <td>1</td>\n",
       "      <td>9.37</td>\n",
       "      <td>200630</td>\n",
       "      <td>99</td>\n",
       "      <td>5.0</td>\n",
       "      <td>1961</td>\n",
       "    </tr>\n",
       "    <tr>\n",
       "      <th>1</th>\n",
       "      <td>32281</td>\n",
       "      <td>Kimi no Na wa</td>\n",
       "      <td>Drama, Romance, School, Supernatural</td>\n",
       "      <td>Movie</td>\n",
       "      <td>1</td>\n",
       "      <td>9.37</td>\n",
       "      <td>200630</td>\n",
       "      <td>152</td>\n",
       "      <td>10.0</td>\n",
       "      <td>1961</td>\n",
       "    </tr>\n",
       "    <tr>\n",
       "      <th>2</th>\n",
       "      <td>32281</td>\n",
       "      <td>Kimi no Na wa</td>\n",
       "      <td>Drama, Romance, School, Supernatural</td>\n",
       "      <td>Movie</td>\n",
       "      <td>1</td>\n",
       "      <td>9.37</td>\n",
       "      <td>200630</td>\n",
       "      <td>244</td>\n",
       "      <td>10.0</td>\n",
       "      <td>1961</td>\n",
       "    </tr>\n",
       "    <tr>\n",
       "      <th>3</th>\n",
       "      <td>32281</td>\n",
       "      <td>Kimi no Na wa</td>\n",
       "      <td>Drama, Romance, School, Supernatural</td>\n",
       "      <td>Movie</td>\n",
       "      <td>1</td>\n",
       "      <td>9.37</td>\n",
       "      <td>200630</td>\n",
       "      <td>271</td>\n",
       "      <td>10.0</td>\n",
       "      <td>1961</td>\n",
       "    </tr>\n",
       "    <tr>\n",
       "      <th>4</th>\n",
       "      <td>32281</td>\n",
       "      <td>Kimi no Na wa</td>\n",
       "      <td>Drama, Romance, School, Supernatural</td>\n",
       "      <td>Movie</td>\n",
       "      <td>1</td>\n",
       "      <td>9.37</td>\n",
       "      <td>200630</td>\n",
       "      <td>322</td>\n",
       "      <td>10.0</td>\n",
       "      <td>1961</td>\n",
       "    </tr>\n",
       "  </tbody>\n",
       "</table>\n",
       "</div>"
      ],
      "text/plain": [
       "  anime_id           name                                 genre   type  \\\n",
       "0    32281  Kimi no Na wa  Drama, Romance, School, Supernatural  Movie   \n",
       "1    32281  Kimi no Na wa  Drama, Romance, School, Supernatural  Movie   \n",
       "2    32281  Kimi no Na wa  Drama, Romance, School, Supernatural  Movie   \n",
       "3    32281  Kimi no Na wa  Drama, Romance, School, Supernatural  Movie   \n",
       "4    32281  Kimi no Na wa  Drama, Romance, School, Supernatural  Movie   \n",
       "\n",
       "  episodes  avg_rating  members user_id  user_rating  totalRatingCount  \n",
       "0        1        9.37   200630      99          5.0              1961  \n",
       "1        1        9.37   200630     152         10.0              1961  \n",
       "2        1        9.37   200630     244         10.0              1961  \n",
       "3        1        9.37   200630     271         10.0              1961  \n",
       "4        1        9.37   200630     322         10.0              1961  "
      ]
     },
     "execution_count": 53,
     "metadata": {},
     "output_type": "execute_result"
    }
   ],
   "source": [
    "df_data=df.merge(df_count, left_on = 'name', right_on = 'name', how = 'left')\n",
    "df_data.head()"
   ]
  },
  {
   "cell_type": "code",
   "execution_count": 54,
   "metadata": {
    "execution": {
     "iopub.execute_input": "2021-07-19T09:27:13.938821Z",
     "iopub.status.busy": "2021-07-19T09:27:13.938352Z",
     "iopub.status.idle": "2021-07-19T09:27:14.701122Z",
     "shell.execute_reply": "2021-07-19T09:27:14.700053Z",
     "shell.execute_reply.started": "2021-07-19T09:27:13.938772Z"
    }
   },
   "outputs": [
    {
     "data": {
      "text/plain": [
       "6327268"
      ]
     },
     "execution_count": 54,
     "metadata": {},
     "output_type": "execute_result"
    }
   ],
   "source": [
    "df_data.duplicated(subset=['name']).sum()"
   ]
  },
  {
   "cell_type": "code",
   "execution_count": 55,
   "metadata": {
    "execution": {
     "iopub.execute_input": "2021-07-19T09:27:14.702742Z",
     "iopub.status.busy": "2021-07-19T09:27:14.702457Z",
     "iopub.status.idle": "2021-07-19T09:27:16.780281Z",
     "shell.execute_reply": "2021-07-19T09:27:16.779007Z",
     "shell.execute_reply.started": "2021-07-19T09:27:14.702714Z"
    }
   },
   "outputs": [
    {
     "data": {
      "text/html": [
       "<div>\n",
       "<style scoped>\n",
       "    .dataframe tbody tr th:only-of-type {\n",
       "        vertical-align: middle;\n",
       "    }\n",
       "\n",
       "    .dataframe tbody tr th {\n",
       "        vertical-align: top;\n",
       "    }\n",
       "\n",
       "    .dataframe thead th {\n",
       "        text-align: right;\n",
       "    }\n",
       "</style>\n",
       "<table border=\"1\" class=\"dataframe\">\n",
       "  <thead>\n",
       "    <tr style=\"text-align: right;\">\n",
       "      <th></th>\n",
       "      <th>anime_id</th>\n",
       "      <th>name</th>\n",
       "      <th>genre</th>\n",
       "      <th>type</th>\n",
       "      <th>episodes</th>\n",
       "      <th>avg_rating</th>\n",
       "      <th>members</th>\n",
       "      <th>user_id</th>\n",
       "      <th>user_rating</th>\n",
       "      <th>totalRatingCount</th>\n",
       "    </tr>\n",
       "  </thead>\n",
       "  <tbody>\n",
       "    <tr>\n",
       "      <th>0</th>\n",
       "      <td>32281</td>\n",
       "      <td>Kimi no Na wa</td>\n",
       "      <td>Drama, Romance, School, Supernatural</td>\n",
       "      <td>Movie</td>\n",
       "      <td>1</td>\n",
       "      <td>9.37</td>\n",
       "      <td>200630</td>\n",
       "      <td>99</td>\n",
       "      <td>5.0</td>\n",
       "      <td>1961</td>\n",
       "    </tr>\n",
       "    <tr>\n",
       "      <th>1961</th>\n",
       "      <td>5114</td>\n",
       "      <td>Fullmetal Alchemist Brotherhood</td>\n",
       "      <td>Action, Adventure, Drama, Fantasy, Magic, Mili...</td>\n",
       "      <td>TV</td>\n",
       "      <td>64</td>\n",
       "      <td>9.26</td>\n",
       "      <td>793665</td>\n",
       "      <td>3</td>\n",
       "      <td>10.0</td>\n",
       "      <td>21494</td>\n",
       "    </tr>\n",
       "    <tr>\n",
       "      <th>23455</th>\n",
       "      <td>28977</td>\n",
       "      <td>Gintama°</td>\n",
       "      <td>Action, Comedy, Historical, Parody, Samurai, S...</td>\n",
       "      <td>TV</td>\n",
       "      <td>51</td>\n",
       "      <td>9.25</td>\n",
       "      <td>114262</td>\n",
       "      <td>43</td>\n",
       "      <td>10.0</td>\n",
       "      <td>1188</td>\n",
       "    </tr>\n",
       "    <tr>\n",
       "      <th>24643</th>\n",
       "      <td>9253</td>\n",
       "      <td>SteinsGate</td>\n",
       "      <td>Sci-Fi, Thriller</td>\n",
       "      <td>TV</td>\n",
       "      <td>24</td>\n",
       "      <td>9.17</td>\n",
       "      <td>673572</td>\n",
       "      <td>5</td>\n",
       "      <td>9.0</td>\n",
       "      <td>17151</td>\n",
       "    </tr>\n",
       "    <tr>\n",
       "      <th>41794</th>\n",
       "      <td>9969</td>\n",
       "      <td>Gintama039</td>\n",
       "      <td>Action, Comedy, Historical, Parody, Samurai, S...</td>\n",
       "      <td>TV</td>\n",
       "      <td>51</td>\n",
       "      <td>9.16</td>\n",
       "      <td>151266</td>\n",
       "      <td>5</td>\n",
       "      <td>9.0</td>\n",
       "      <td>3115</td>\n",
       "    </tr>\n",
       "  </tbody>\n",
       "</table>\n",
       "</div>"
      ],
      "text/plain": [
       "      anime_id                             name  \\\n",
       "0        32281                    Kimi no Na wa   \n",
       "1961      5114  Fullmetal Alchemist Brotherhood   \n",
       "23455    28977                         Gintama°   \n",
       "24643     9253                       SteinsGate   \n",
       "41794     9969                       Gintama039   \n",
       "\n",
       "                                                   genre   type episodes  \\\n",
       "0                   Drama, Romance, School, Supernatural  Movie        1   \n",
       "1961   Action, Adventure, Drama, Fantasy, Magic, Mili...     TV       64   \n",
       "23455  Action, Comedy, Historical, Parody, Samurai, S...     TV       51   \n",
       "24643                                   Sci-Fi, Thriller     TV       24   \n",
       "41794  Action, Comedy, Historical, Parody, Samurai, S...     TV       51   \n",
       "\n",
       "       avg_rating  members user_id  user_rating  totalRatingCount  \n",
       "0            9.37   200630      99          5.0              1961  \n",
       "1961         9.26   793665       3         10.0             21494  \n",
       "23455        9.25   114262      43         10.0              1188  \n",
       "24643        9.17   673572       5          9.0             17151  \n",
       "41794        9.16   151266       5          9.0              3115  "
      ]
     },
     "execution_count": 55,
     "metadata": {},
     "output_type": "execute_result"
    }
   ],
   "source": [
    "anime1=df_data.drop_duplicates(subset=['name'])\n",
    "anime1.head()"
   ]
  },
  {
   "cell_type": "code",
   "execution_count": 56,
   "metadata": {
    "execution": {
     "iopub.execute_input": "2021-07-19T09:27:16.781955Z",
     "iopub.status.busy": "2021-07-19T09:27:16.781652Z",
     "iopub.status.idle": "2021-07-19T09:27:17.135696Z",
     "shell.execute_reply": "2021-07-19T09:27:17.134627Z",
     "shell.execute_reply.started": "2021-07-19T09:27:16.781927Z"
    }
   },
   "outputs": [
    {
     "data": {
      "text/plain": [
       "Text(0, 0.5, 'Community Size')"
      ]
     },
     "execution_count": 56,
     "metadata": {},
     "output_type": "execute_result"
    },
    {
     "data": {
      "image/png": "[encoded data removed]",
      "text/plain": [
       "<Figure size 1080x360 with 1 Axes>"
      ]
     },
     "metadata": {},
     "output_type": "display_data"
    }
   ],
   "source": [
    "top10_animemembers=anime1[['name', 'members']].sort_values(by = 'members',ascending = False).head(10)\n",
    "plt.figure(figsize=(15,5))\n",
    "ax=sns.barplot(x=\"name\", y=\"members\", data=top10_animemembers, palette=\"gnuplot2\")\n",
    "ax.set_xticklabels(ax.get_xticklabels(), fontsize=11, rotation=40, ha=\"right\")\n",
    "ax.set_title('Top 10 Anime based on members',fontsize = 22)\n",
    "ax.set_xlabel('Anime',fontsize = 20) \n",
    "ax.set_ylabel('Community Size', fontsize = 20)"
   ]
  },
  {
   "cell_type": "markdown",
   "metadata": {},
   "source": [
    "**Interpretation:**\n",
    "    \n",
    "`Death Note` as the huge community size folloId by `Shingeki no kyojin` and `Sword Art Online`."
   ]
  },
  {
   "cell_type": "markdown",
   "metadata": {},
   "source": [
    "### Distribution of rating <a id='analyze_tar_var'></a>"
   ]
  },
  {
   "cell_type": "code",
   "execution_count": 57,
   "metadata": {
    "execution": {
     "iopub.execute_input": "2021-07-19T09:27:17.137691Z",
     "iopub.status.busy": "2021-07-19T09:27:17.137092Z",
     "iopub.status.idle": "2021-07-19T09:27:18.345848Z",
     "shell.execute_reply": "2021-07-19T09:27:18.344530Z",
     "shell.execute_reply.started": "2021-07-19T09:27:17.137643Z"
    },
    "scrolled": true
   },
   "outputs": [
    {
     "data": {
      "text/plain": [
       "Text(0.5, 1.0, 'Rating of users')"
      ]
     },
     "execution_count": 57,
     "metadata": {},
     "output_type": "execute_result"
    },
    {
     "data": {
      "image/png": "[encoded data removed]",
      "text/plain": [
       "<Figure size 1080x504 with 2 Axes>"
      ]
     },
     "metadata": {},
     "output_type": "display_data"
    }
   ],
   "source": [
    "plt.figure(figsize = (15, 7))\n",
    "plt.subplot(1,2,1)\n",
    "df['avg_rating'].hist(bins=70)\n",
    "plt.title(\"Rating of Websites\")\n",
    "plt.subplot(1,2,2)\n",
    "df['user_rating'].hist(bins=70)\n",
    "plt.title(\"Rating of users\")"
   ]
  },
  {
   "cell_type": "markdown",
   "metadata": {},
   "source": [
    "**Interpretation:**\n",
    "\n",
    "Most of the ratings are spread betIen 6-10.\n",
    "\n",
    "The mode of the distribution is around 7.5-8.0.\n",
    "\n",
    "Both the distribution are left skeId."
   ]
  },
  {
   "cell_type": "markdown",
   "metadata": {},
   "source": [
    "**Percentage of users in each type**"
   ]
  },
  {
   "cell_type": "code",
   "execution_count": 58,
   "metadata": {
    "execution": {
     "iopub.execute_input": "2021-07-19T09:27:18.347989Z",
     "iopub.status.busy": "2021-07-19T09:27:18.347553Z",
     "iopub.status.idle": "2021-07-19T09:27:21.365888Z",
     "shell.execute_reply": "2021-07-19T09:27:21.364718Z",
     "shell.execute_reply.started": "2021-07-19T09:27:18.347942Z"
    }
   },
   "outputs": [
    {
     "data": {
      "image/png": "[encoded data removed]",
      "text/plain": [
       "<Figure size 1080x720 with 1 Axes>"
      ]
     },
     "metadata": {},
     "output_type": "display_data"
    }
   ],
   "source": [
    "labels = df['type'].value_counts().index\n",
    "values = df['type'].value_counts().values\n",
    "plt.figure(figsize=(15,10))\n",
    "plt.pie(x=values,labels=labels,autopct='%.1f',colors=['lightblue','lightgreen','lightgrey','#FF6361','Cornsilk','#BC5090'])\n",
    "plt.legend()\n",
    "plt.show()"
   ]
  },
  {
   "cell_type": "markdown",
   "metadata": {},
   "source": [
    "**Interpretation:**\n",
    "\n",
    "68.9% of the anime's Ire aired on TV folloId by 13.3% through Movie.\n",
    "\n",
    "9.7% of anime's are streamed as OVA which is greater than ONA(1.1%)."
   ]
  },
  {
   "cell_type": "markdown",
   "metadata": {},
   "source": [
    "**Count of genres**"
   ]
  },
  {
   "cell_type": "code",
   "execution_count": 59,
   "metadata": {
    "execution": {
     "iopub.execute_input": "2021-07-19T09:27:21.368672Z",
     "iopub.status.busy": "2021-07-19T09:27:21.368048Z",
     "iopub.status.idle": "2021-07-19T09:27:21.375226Z",
     "shell.execute_reply": "2021-07-19T09:27:21.374018Z",
     "shell.execute_reply.started": "2021-07-19T09:27:21.368610Z"
    }
   },
   "outputs": [],
   "source": [
    "d1=pd.DataFrame(list(dict(all_genres).keys()),columns=['Genre'])"
   ]
  },
  {
   "cell_type": "code",
   "execution_count": 60,
   "metadata": {
    "execution": {
     "iopub.execute_input": "2021-07-19T09:27:21.377203Z",
     "iopub.status.busy": "2021-07-19T09:27:21.376870Z",
     "iopub.status.idle": "2021-07-19T09:27:21.391674Z",
     "shell.execute_reply": "2021-07-19T09:27:21.390182Z",
     "shell.execute_reply.started": "2021-07-19T09:27:21.377173Z"
    }
   },
   "outputs": [],
   "source": [
    "d2=pd.DataFrame(list(dict(all_genres).values()),columns=['count'])"
   ]
  },
  {
   "cell_type": "code",
   "execution_count": 61,
   "metadata": {
    "execution": {
     "iopub.execute_input": "2021-07-19T09:27:21.393965Z",
     "iopub.status.busy": "2021-07-19T09:27:21.393512Z",
     "iopub.status.idle": "2021-07-19T09:27:21.413156Z",
     "shell.execute_reply": "2021-07-19T09:27:21.411868Z",
     "shell.execute_reply.started": "2021-07-19T09:27:21.393918Z"
    }
   },
   "outputs": [
    {
     "data": {
      "text/html": [
       "<div>\n",
       "<style scoped>\n",
       "    .dataframe tbody tr th:only-of-type {\n",
       "        vertical-align: middle;\n",
       "    }\n",
       "\n",
       "    .dataframe tbody tr th {\n",
       "        vertical-align: top;\n",
       "    }\n",
       "\n",
       "    .dataframe thead th {\n",
       "        text-align: right;\n",
       "    }\n",
       "</style>\n",
       "<table border=\"1\" class=\"dataframe\">\n",
       "  <thead>\n",
       "    <tr style=\"text-align: right;\">\n",
       "      <th></th>\n",
       "      <th>Genre</th>\n",
       "      <th>count</th>\n",
       "    </tr>\n",
       "  </thead>\n",
       "  <tbody>\n",
       "    <tr>\n",
       "      <th>0</th>\n",
       "      <td>Drama</td>\n",
       "      <td>1727681</td>\n",
       "    </tr>\n",
       "    <tr>\n",
       "      <th>1</th>\n",
       "      <td>Romance</td>\n",
       "      <td>2031672</td>\n",
       "    </tr>\n",
       "    <tr>\n",
       "      <th>2</th>\n",
       "      <td>School</td>\n",
       "      <td>1540797</td>\n",
       "    </tr>\n",
       "    <tr>\n",
       "      <th>3</th>\n",
       "      <td>Supernatural</td>\n",
       "      <td>1612455</td>\n",
       "    </tr>\n",
       "    <tr>\n",
       "      <th>4</th>\n",
       "      <td>Action</td>\n",
       "      <td>2663837</td>\n",
       "    </tr>\n",
       "  </tbody>\n",
       "</table>\n",
       "</div>"
      ],
      "text/plain": [
       "          Genre    count\n",
       "0         Drama  1727681\n",
       "1       Romance  2031672\n",
       "2        School  1540797\n",
       "3  Supernatural  1612455\n",
       "4        Action  2663837"
      ]
     },
     "execution_count": 61,
     "metadata": {},
     "output_type": "execute_result"
    }
   ],
   "source": [
    "all_genres1=pd.concat(objs=(d1,d2),axis=1)\n",
    "all_genres1.head()"
   ]
  },
  {
   "cell_type": "code",
   "execution_count": 62,
   "metadata": {
    "execution": {
     "iopub.execute_input": "2021-07-19T09:27:21.415567Z",
     "iopub.status.busy": "2021-07-19T09:27:21.414869Z",
     "iopub.status.idle": "2021-07-19T09:27:22.322382Z",
     "shell.execute_reply": "2021-07-19T09:27:22.321575Z",
     "shell.execute_reply.started": "2021-07-19T09:27:21.415510Z"
    }
   },
   "outputs": [
    {
     "data": {
      "text/plain": [
       "<AxesSubplot:xlabel='count', ylabel='Genre'>"
      ]
     },
     "execution_count": 62,
     "metadata": {},
     "output_type": "execute_result"
    },
    {
     "data": {
      "image/png": "[encoded data removed]",
      "text/plain": [
       "<Figure size 1080x1080 with 1 Axes>"
      ]
     },
     "metadata": {},
     "output_type": "display_data"
    }
   ],
   "source": [
    "all_genres1=all_genres1.sort_values(by='count',ascending=False)\n",
    "plt.figure(figsize=(15,15))\n",
    "sns.barplot(all_genres1['count'],all_genres1['Genre'])"
   ]
  },
  {
   "cell_type": "markdown",
   "metadata": {},
   "source": [
    "# Data Preprocessing"
   ]
  },
  {
   "cell_type": "code",
   "execution_count": 63,
   "metadata": {
    "execution": {
     "iopub.execute_input": "2021-07-19T09:27:22.323608Z",
     "iopub.status.busy": "2021-07-19T09:27:22.323324Z",
     "iopub.status.idle": "2021-07-19T09:27:22.339706Z",
     "shell.execute_reply": "2021-07-19T09:27:22.338530Z",
     "shell.execute_reply.started": "2021-07-19T09:27:22.323580Z"
    }
   },
   "outputs": [
    {
     "data": {
      "text/html": [
       "<div>\n",
       "<style scoped>\n",
       "    .dataframe tbody tr th:only-of-type {\n",
       "        vertical-align: middle;\n",
       "    }\n",
       "\n",
       "    .dataframe tbody tr th {\n",
       "        vertical-align: top;\n",
       "    }\n",
       "\n",
       "    .dataframe thead th {\n",
       "        text-align: right;\n",
       "    }\n",
       "</style>\n",
       "<table border=\"1\" class=\"dataframe\">\n",
       "  <thead>\n",
       "    <tr style=\"text-align: right;\">\n",
       "      <th></th>\n",
       "      <th>anime_id</th>\n",
       "      <th>name</th>\n",
       "      <th>genre</th>\n",
       "      <th>type</th>\n",
       "      <th>episodes</th>\n",
       "      <th>rating</th>\n",
       "      <th>members</th>\n",
       "    </tr>\n",
       "  </thead>\n",
       "  <tbody>\n",
       "    <tr>\n",
       "      <th>0</th>\n",
       "      <td>32281</td>\n",
       "      <td>Kimi no Na wa</td>\n",
       "      <td>Drama, Romance, School, Supernatural</td>\n",
       "      <td>Movie</td>\n",
       "      <td>1</td>\n",
       "      <td>9.37</td>\n",
       "      <td>200630</td>\n",
       "    </tr>\n",
       "    <tr>\n",
       "      <th>1</th>\n",
       "      <td>5114</td>\n",
       "      <td>Fullmetal Alchemist Brotherhood</td>\n",
       "      <td>Action, Adventure, Drama, Fantasy, Magic, Mili...</td>\n",
       "      <td>TV</td>\n",
       "      <td>64</td>\n",
       "      <td>9.26</td>\n",
       "      <td>793665</td>\n",
       "    </tr>\n",
       "    <tr>\n",
       "      <th>2</th>\n",
       "      <td>28977</td>\n",
       "      <td>Gintama°</td>\n",
       "      <td>Action, Comedy, Historical, Parody, Samurai, S...</td>\n",
       "      <td>TV</td>\n",
       "      <td>51</td>\n",
       "      <td>9.25</td>\n",
       "      <td>114262</td>\n",
       "    </tr>\n",
       "    <tr>\n",
       "      <th>3</th>\n",
       "      <td>9253</td>\n",
       "      <td>SteinsGate</td>\n",
       "      <td>Sci-Fi, Thriller</td>\n",
       "      <td>TV</td>\n",
       "      <td>24</td>\n",
       "      <td>9.17</td>\n",
       "      <td>673572</td>\n",
       "    </tr>\n",
       "    <tr>\n",
       "      <th>4</th>\n",
       "      <td>9969</td>\n",
       "      <td>Gintama039</td>\n",
       "      <td>Action, Comedy, Historical, Parody, Samurai, S...</td>\n",
       "      <td>TV</td>\n",
       "      <td>51</td>\n",
       "      <td>9.16</td>\n",
       "      <td>151266</td>\n",
       "    </tr>\n",
       "  </tbody>\n",
       "</table>\n",
       "</div>"
      ],
      "text/plain": [
       "   anime_id                             name  \\\n",
       "0     32281                    Kimi no Na wa   \n",
       "1      5114  Fullmetal Alchemist Brotherhood   \n",
       "2     28977                         Gintama°   \n",
       "3      9253                       SteinsGate   \n",
       "4      9969                       Gintama039   \n",
       "\n",
       "                                               genre   type episodes  rating  \\\n",
       "0               Drama, Romance, School, Supernatural  Movie        1    9.37   \n",
       "1  Action, Adventure, Drama, Fantasy, Magic, Mili...     TV       64    9.26   \n",
       "2  Action, Comedy, Historical, Parody, Samurai, S...     TV       51    9.25   \n",
       "3                                   Sci-Fi, Thriller     TV       24    9.17   \n",
       "4  Action, Comedy, Historical, Parody, Samurai, S...     TV       51    9.16   \n",
       "\n",
       "   members  \n",
       "0   200630  \n",
       "1   793665  \n",
       "2   114262  \n",
       "3   673572  \n",
       "4   151266  "
      ]
     },
     "execution_count": 63,
     "metadata": {},
     "output_type": "execute_result"
    }
   ],
   "source": [
    "anime.head()"
   ]
  },
  {
   "cell_type": "code",
   "execution_count": 64,
   "metadata": {
    "execution": {
     "iopub.execute_input": "2021-07-19T09:27:22.341987Z",
     "iopub.status.busy": "2021-07-19T09:27:22.341288Z",
     "iopub.status.idle": "2021-07-19T09:27:22.403107Z",
     "shell.execute_reply": "2021-07-19T09:27:22.402069Z",
     "shell.execute_reply.started": "2021-07-19T09:27:22.341940Z"
    }
   },
   "outputs": [
    {
     "data": {
      "text/html": [
       "<div>\n",
       "<style scoped>\n",
       "    .dataframe tbody tr th:only-of-type {\n",
       "        vertical-align: middle;\n",
       "    }\n",
       "\n",
       "    .dataframe tbody tr th {\n",
       "        vertical-align: top;\n",
       "    }\n",
       "\n",
       "    .dataframe thead th {\n",
       "        text-align: right;\n",
       "    }\n",
       "</style>\n",
       "<table border=\"1\" class=\"dataframe\">\n",
       "  <thead>\n",
       "    <tr style=\"text-align: right;\">\n",
       "      <th></th>\n",
       "      <th>0</th>\n",
       "      <th>1</th>\n",
       "      <th>2</th>\n",
       "      <th>3</th>\n",
       "      <th>4</th>\n",
       "      <th>5</th>\n",
       "      <th>6</th>\n",
       "      <th>7</th>\n",
       "      <th>8</th>\n",
       "      <th>9</th>\n",
       "      <th>10</th>\n",
       "      <th>11</th>\n",
       "      <th>12</th>\n",
       "    </tr>\n",
       "  </thead>\n",
       "  <tbody>\n",
       "    <tr>\n",
       "      <th>0</th>\n",
       "      <td>Drama</td>\n",
       "      <td>Romance</td>\n",
       "      <td>School</td>\n",
       "      <td>Supernatural</td>\n",
       "      <td>None</td>\n",
       "      <td>None</td>\n",
       "      <td>None</td>\n",
       "      <td>None</td>\n",
       "      <td>None</td>\n",
       "      <td>None</td>\n",
       "      <td>None</td>\n",
       "      <td>None</td>\n",
       "      <td>None</td>\n",
       "    </tr>\n",
       "    <tr>\n",
       "      <th>1</th>\n",
       "      <td>Action</td>\n",
       "      <td>Adventure</td>\n",
       "      <td>Drama</td>\n",
       "      <td>Fantasy</td>\n",
       "      <td>Magic</td>\n",
       "      <td>Military</td>\n",
       "      <td>Shounen</td>\n",
       "      <td>None</td>\n",
       "      <td>None</td>\n",
       "      <td>None</td>\n",
       "      <td>None</td>\n",
       "      <td>None</td>\n",
       "      <td>None</td>\n",
       "    </tr>\n",
       "    <tr>\n",
       "      <th>2</th>\n",
       "      <td>Action</td>\n",
       "      <td>Comedy</td>\n",
       "      <td>Historical</td>\n",
       "      <td>Parody</td>\n",
       "      <td>Samurai</td>\n",
       "      <td>Sci-Fi</td>\n",
       "      <td>Shounen</td>\n",
       "      <td>None</td>\n",
       "      <td>None</td>\n",
       "      <td>None</td>\n",
       "      <td>None</td>\n",
       "      <td>None</td>\n",
       "      <td>None</td>\n",
       "    </tr>\n",
       "    <tr>\n",
       "      <th>3</th>\n",
       "      <td>Sci-Fi</td>\n",
       "      <td>Thriller</td>\n",
       "      <td>None</td>\n",
       "      <td>None</td>\n",
       "      <td>None</td>\n",
       "      <td>None</td>\n",
       "      <td>None</td>\n",
       "      <td>None</td>\n",
       "      <td>None</td>\n",
       "      <td>None</td>\n",
       "      <td>None</td>\n",
       "      <td>None</td>\n",
       "      <td>None</td>\n",
       "    </tr>\n",
       "    <tr>\n",
       "      <th>4</th>\n",
       "      <td>Action</td>\n",
       "      <td>Comedy</td>\n",
       "      <td>Historical</td>\n",
       "      <td>Parody</td>\n",
       "      <td>Samurai</td>\n",
       "      <td>Sci-Fi</td>\n",
       "      <td>Shounen</td>\n",
       "      <td>None</td>\n",
       "      <td>None</td>\n",
       "      <td>None</td>\n",
       "      <td>None</td>\n",
       "      <td>None</td>\n",
       "      <td>None</td>\n",
       "    </tr>\n",
       "  </tbody>\n",
       "</table>\n",
       "</div>"
      ],
      "text/plain": [
       "       0           1            2              3         4          5   \\\n",
       "0   Drama     Romance       School   Supernatural      None       None   \n",
       "1  Action   Adventure        Drama        Fantasy     Magic   Military   \n",
       "2  Action      Comedy   Historical         Parody   Samurai     Sci-Fi   \n",
       "3  Sci-Fi    Thriller         None           None      None       None   \n",
       "4  Action      Comedy   Historical         Parody   Samurai     Sci-Fi   \n",
       "\n",
       "         6     7     8     9     10    11    12  \n",
       "0      None  None  None  None  None  None  None  \n",
       "1   Shounen  None  None  None  None  None  None  \n",
       "2   Shounen  None  None  None  None  None  None  \n",
       "3      None  None  None  None  None  None  None  \n",
       "4   Shounen  None  None  None  None  None  None  "
      ]
     },
     "execution_count": 64,
     "metadata": {},
     "output_type": "execute_result"
    }
   ],
   "source": [
    "genres = anime['genre'].str.split(',', expand=True)\n",
    "genres.head()"
   ]
  },
  {
   "cell_type": "code",
   "execution_count": 65,
   "metadata": {
    "execution": {
     "iopub.execute_input": "2021-07-19T09:27:22.405245Z",
     "iopub.status.busy": "2021-07-19T09:27:22.404651Z",
     "iopub.status.idle": "2021-07-19T09:27:22.419838Z",
     "shell.execute_reply": "2021-07-19T09:27:22.418768Z",
     "shell.execute_reply.started": "2021-07-19T09:27:22.405197Z"
    }
   },
   "outputs": [
    {
     "data": {
      "text/html": [
       "<div>\n",
       "<style scoped>\n",
       "    .dataframe tbody tr th:only-of-type {\n",
       "        vertical-align: middle;\n",
       "    }\n",
       "\n",
       "    .dataframe tbody tr th {\n",
       "        vertical-align: top;\n",
       "    }\n",
       "\n",
       "    .dataframe thead th {\n",
       "        text-align: right;\n",
       "    }\n",
       "</style>\n",
       "<table border=\"1\" class=\"dataframe\">\n",
       "  <thead>\n",
       "    <tr style=\"text-align: right;\">\n",
       "      <th></th>\n",
       "      <th>genre1</th>\n",
       "      <th>genre2</th>\n",
       "      <th>genre3</th>\n",
       "      <th>genre4</th>\n",
       "    </tr>\n",
       "  </thead>\n",
       "  <tbody>\n",
       "    <tr>\n",
       "      <th>0</th>\n",
       "      <td>Drama</td>\n",
       "      <td>Romance</td>\n",
       "      <td>School</td>\n",
       "      <td>Supernatural</td>\n",
       "    </tr>\n",
       "    <tr>\n",
       "      <th>1</th>\n",
       "      <td>Action</td>\n",
       "      <td>Adventure</td>\n",
       "      <td>Drama</td>\n",
       "      <td>Fantasy</td>\n",
       "    </tr>\n",
       "    <tr>\n",
       "      <th>2</th>\n",
       "      <td>Action</td>\n",
       "      <td>Comedy</td>\n",
       "      <td>Historical</td>\n",
       "      <td>Parody</td>\n",
       "    </tr>\n",
       "    <tr>\n",
       "      <th>3</th>\n",
       "      <td>Sci-Fi</td>\n",
       "      <td>Thriller</td>\n",
       "      <td>None</td>\n",
       "      <td>None</td>\n",
       "    </tr>\n",
       "    <tr>\n",
       "      <th>4</th>\n",
       "      <td>Action</td>\n",
       "      <td>Comedy</td>\n",
       "      <td>Historical</td>\n",
       "      <td>Parody</td>\n",
       "    </tr>\n",
       "  </tbody>\n",
       "</table>\n",
       "</div>"
      ],
      "text/plain": [
       "   genre1      genre2       genre3         genre4\n",
       "0   Drama     Romance       School   Supernatural\n",
       "1  Action   Adventure        Drama        Fantasy\n",
       "2  Action      Comedy   Historical         Parody\n",
       "3  Sci-Fi    Thriller         None           None\n",
       "4  Action      Comedy   Historical         Parody"
      ]
     },
     "execution_count": 65,
     "metadata": {},
     "output_type": "execute_result"
    }
   ],
   "source": [
    "# considering only first four genres columns \n",
    "genres = genres.iloc[:,:4]\n",
    "genres.columns = ['genre1', 'genre2', 'genre3','genre4']\n",
    "genres.head()"
   ]
  },
  {
   "cell_type": "code",
   "execution_count": 66,
   "metadata": {
    "execution": {
     "iopub.execute_input": "2021-07-19T09:27:22.422036Z",
     "iopub.status.busy": "2021-07-19T09:27:22.421321Z",
     "iopub.status.idle": "2021-07-19T09:27:22.432152Z",
     "shell.execute_reply": "2021-07-19T09:27:22.431075Z",
     "shell.execute_reply.started": "2021-07-19T09:27:22.421991Z"
    }
   },
   "outputs": [],
   "source": [
    "updated_rating=anime.copy()"
   ]
  },
  {
   "cell_type": "code",
   "execution_count": 67,
   "metadata": {
    "execution": {
     "iopub.execute_input": "2021-07-19T09:27:22.434308Z",
     "iopub.status.busy": "2021-07-19T09:27:22.433826Z",
     "iopub.status.idle": "2021-07-19T09:27:22.460099Z",
     "shell.execute_reply": "2021-07-19T09:27:22.458824Z",
     "shell.execute_reply.started": "2021-07-19T09:27:22.434262Z"
    }
   },
   "outputs": [
    {
     "data": {
      "text/html": [
       "<div>\n",
       "<style scoped>\n",
       "    .dataframe tbody tr th:only-of-type {\n",
       "        vertical-align: middle;\n",
       "    }\n",
       "\n",
       "    .dataframe tbody tr th {\n",
       "        vertical-align: top;\n",
       "    }\n",
       "\n",
       "    .dataframe thead th {\n",
       "        text-align: right;\n",
       "    }\n",
       "</style>\n",
       "<table border=\"1\" class=\"dataframe\">\n",
       "  <thead>\n",
       "    <tr style=\"text-align: right;\">\n",
       "      <th></th>\n",
       "      <th>anime_id</th>\n",
       "      <th>name</th>\n",
       "      <th>type</th>\n",
       "      <th>episodes</th>\n",
       "      <th>rating</th>\n",
       "      <th>members</th>\n",
       "      <th>genre1</th>\n",
       "      <th>genre2</th>\n",
       "      <th>genre3</th>\n",
       "      <th>genre4</th>\n",
       "    </tr>\n",
       "  </thead>\n",
       "  <tbody>\n",
       "    <tr>\n",
       "      <th>0</th>\n",
       "      <td>32281</td>\n",
       "      <td>Kimi no Na wa</td>\n",
       "      <td>Movie</td>\n",
       "      <td>1</td>\n",
       "      <td>9.37</td>\n",
       "      <td>200630</td>\n",
       "      <td>Drama</td>\n",
       "      <td>Romance</td>\n",
       "      <td>School</td>\n",
       "      <td>Supernatural</td>\n",
       "    </tr>\n",
       "    <tr>\n",
       "      <th>1</th>\n",
       "      <td>5114</td>\n",
       "      <td>Fullmetal Alchemist Brotherhood</td>\n",
       "      <td>TV</td>\n",
       "      <td>64</td>\n",
       "      <td>9.26</td>\n",
       "      <td>793665</td>\n",
       "      <td>Action</td>\n",
       "      <td>Adventure</td>\n",
       "      <td>Drama</td>\n",
       "      <td>Fantasy</td>\n",
       "    </tr>\n",
       "    <tr>\n",
       "      <th>2</th>\n",
       "      <td>28977</td>\n",
       "      <td>Gintama°</td>\n",
       "      <td>TV</td>\n",
       "      <td>51</td>\n",
       "      <td>9.25</td>\n",
       "      <td>114262</td>\n",
       "      <td>Action</td>\n",
       "      <td>Comedy</td>\n",
       "      <td>Historical</td>\n",
       "      <td>Parody</td>\n",
       "    </tr>\n",
       "    <tr>\n",
       "      <th>3</th>\n",
       "      <td>9253</td>\n",
       "      <td>SteinsGate</td>\n",
       "      <td>TV</td>\n",
       "      <td>24</td>\n",
       "      <td>9.17</td>\n",
       "      <td>673572</td>\n",
       "      <td>Sci-Fi</td>\n",
       "      <td>Thriller</td>\n",
       "      <td>None</td>\n",
       "      <td>None</td>\n",
       "    </tr>\n",
       "    <tr>\n",
       "      <th>4</th>\n",
       "      <td>9969</td>\n",
       "      <td>Gintama039</td>\n",
       "      <td>TV</td>\n",
       "      <td>51</td>\n",
       "      <td>9.16</td>\n",
       "      <td>151266</td>\n",
       "      <td>Action</td>\n",
       "      <td>Comedy</td>\n",
       "      <td>Historical</td>\n",
       "      <td>Parody</td>\n",
       "    </tr>\n",
       "  </tbody>\n",
       "</table>\n",
       "</div>"
      ],
      "text/plain": [
       "   anime_id                             name   type episodes  rating  members  \\\n",
       "0     32281                    Kimi no Na wa  Movie        1    9.37   200630   \n",
       "1      5114  Fullmetal Alchemist Brotherhood     TV       64    9.26   793665   \n",
       "2     28977                         Gintama°     TV       51    9.25   114262   \n",
       "3      9253                       SteinsGate     TV       24    9.17   673572   \n",
       "4      9969                       Gintama039     TV       51    9.16   151266   \n",
       "\n",
       "   genre1      genre2       genre3         genre4  \n",
       "0   Drama     Romance       School   Supernatural  \n",
       "1  Action   Adventure        Drama        Fantasy  \n",
       "2  Action      Comedy   Historical         Parody  \n",
       "3  Sci-Fi    Thriller         None           None  \n",
       "4  Action      Comedy   Historical         Parody  "
      ]
     },
     "execution_count": 67,
     "metadata": {},
     "output_type": "execute_result"
    }
   ],
   "source": [
    "updated_rating = updated_rating.drop('genre', axis=1) \n",
    "updated_rating = pd.concat([updated_rating, genres], axis=1)\n",
    "updated_rating.head()"
   ]
  },
  {
   "cell_type": "code",
   "execution_count": 68,
   "metadata": {
    "execution": {
     "iopub.execute_input": "2021-07-19T09:27:22.462074Z",
     "iopub.status.busy": "2021-07-19T09:27:22.461691Z",
     "iopub.status.idle": "2021-07-19T09:27:22.471267Z",
     "shell.execute_reply": "2021-07-19T09:27:22.469974Z",
     "shell.execute_reply.started": "2021-07-19T09:27:22.462039Z"
    }
   },
   "outputs": [
    {
     "data": {
      "text/plain": [
       "array(['Movie', 'TV', 'OVA', 'Special', 'Music', 'ONA'], dtype=object)"
      ]
     },
     "execution_count": 68,
     "metadata": {},
     "output_type": "execute_result"
    }
   ],
   "source": [
    "updated_rating['type'].unique()"
   ]
  },
  {
   "cell_type": "code",
   "execution_count": 69,
   "metadata": {
    "execution": {
     "iopub.execute_input": "2021-07-19T09:27:22.473796Z",
     "iopub.status.busy": "2021-07-19T09:27:22.473248Z",
     "iopub.status.idle": "2021-07-19T09:27:22.487931Z",
     "shell.execute_reply": "2021-07-19T09:27:22.486520Z",
     "shell.execute_reply.started": "2021-07-19T09:27:22.473751Z"
    }
   },
   "outputs": [],
   "source": [
    "updated_rating.episodes=updated_rating.episodes.astype('int')"
   ]
  },
  {
   "cell_type": "code",
   "execution_count": 70,
   "metadata": {
    "execution": {
     "iopub.execute_input": "2021-07-19T09:27:22.491026Z",
     "iopub.status.busy": "2021-07-19T09:27:22.490259Z",
     "iopub.status.idle": "2021-07-19T09:27:22.512137Z",
     "shell.execute_reply": "2021-07-19T09:27:22.510865Z",
     "shell.execute_reply.started": "2021-07-19T09:27:22.490834Z"
    }
   },
   "outputs": [],
   "source": [
    "df_cat = updated_rating.select_dtypes(np.object)\n",
    "df_num = updated_rating.select_dtypes(np.number)"
   ]
  },
  {
   "cell_type": "code",
   "execution_count": 71,
   "metadata": {
    "execution": {
     "iopub.execute_input": "2021-07-19T09:27:22.514078Z",
     "iopub.status.busy": "2021-07-19T09:27:22.513635Z",
     "iopub.status.idle": "2021-07-19T09:27:22.626434Z",
     "shell.execute_reply": "2021-07-19T09:27:22.625270Z",
     "shell.execute_reply.started": "2021-07-19T09:27:22.514031Z"
    }
   },
   "outputs": [
    {
     "data": {
      "text/html": [
       "<div>\n",
       "<style scoped>\n",
       "    .dataframe tbody tr th:only-of-type {\n",
       "        vertical-align: middle;\n",
       "    }\n",
       "\n",
       "    .dataframe tbody tr th {\n",
       "        vertical-align: top;\n",
       "    }\n",
       "\n",
       "    .dataframe thead th {\n",
       "        text-align: right;\n",
       "    }\n",
       "</style>\n",
       "<table border=\"1\" class=\"dataframe\">\n",
       "  <thead>\n",
       "    <tr style=\"text-align: right;\">\n",
       "      <th></th>\n",
       "      <th>type_Movie</th>\n",
       "      <th>type_Music</th>\n",
       "      <th>type_ONA</th>\n",
       "      <th>type_OVA</th>\n",
       "      <th>type_Special</th>\n",
       "      <th>type_TV</th>\n",
       "      <th>genre1_Action</th>\n",
       "      <th>genre1_Adventure</th>\n",
       "      <th>genre1_Cars</th>\n",
       "      <th>genre1_Comedy</th>\n",
       "      <th>...</th>\n",
       "      <th>genre4_ Shounen Ai</th>\n",
       "      <th>genre4_ Slice of Life</th>\n",
       "      <th>genre4_ Space</th>\n",
       "      <th>genre4_ Sports</th>\n",
       "      <th>genre4_ Super Power</th>\n",
       "      <th>genre4_ Supernatural</th>\n",
       "      <th>genre4_ Thriller</th>\n",
       "      <th>genre4_ Vampire</th>\n",
       "      <th>genre4_ Yaoi</th>\n",
       "      <th>genre4_ Yuri</th>\n",
       "    </tr>\n",
       "  </thead>\n",
       "  <tbody>\n",
       "    <tr>\n",
       "      <th>0</th>\n",
       "      <td>1</td>\n",
       "      <td>0</td>\n",
       "      <td>0</td>\n",
       "      <td>0</td>\n",
       "      <td>0</td>\n",
       "      <td>0</td>\n",
       "      <td>0</td>\n",
       "      <td>0</td>\n",
       "      <td>0</td>\n",
       "      <td>0</td>\n",
       "      <td>...</td>\n",
       "      <td>0</td>\n",
       "      <td>0</td>\n",
       "      <td>0</td>\n",
       "      <td>0</td>\n",
       "      <td>0</td>\n",
       "      <td>1</td>\n",
       "      <td>0</td>\n",
       "      <td>0</td>\n",
       "      <td>0</td>\n",
       "      <td>0</td>\n",
       "    </tr>\n",
       "    <tr>\n",
       "      <th>1</th>\n",
       "      <td>0</td>\n",
       "      <td>0</td>\n",
       "      <td>0</td>\n",
       "      <td>0</td>\n",
       "      <td>0</td>\n",
       "      <td>1</td>\n",
       "      <td>1</td>\n",
       "      <td>0</td>\n",
       "      <td>0</td>\n",
       "      <td>0</td>\n",
       "      <td>...</td>\n",
       "      <td>0</td>\n",
       "      <td>0</td>\n",
       "      <td>0</td>\n",
       "      <td>0</td>\n",
       "      <td>0</td>\n",
       "      <td>0</td>\n",
       "      <td>0</td>\n",
       "      <td>0</td>\n",
       "      <td>0</td>\n",
       "      <td>0</td>\n",
       "    </tr>\n",
       "    <tr>\n",
       "      <th>2</th>\n",
       "      <td>0</td>\n",
       "      <td>0</td>\n",
       "      <td>0</td>\n",
       "      <td>0</td>\n",
       "      <td>0</td>\n",
       "      <td>1</td>\n",
       "      <td>1</td>\n",
       "      <td>0</td>\n",
       "      <td>0</td>\n",
       "      <td>0</td>\n",
       "      <td>...</td>\n",
       "      <td>0</td>\n",
       "      <td>0</td>\n",
       "      <td>0</td>\n",
       "      <td>0</td>\n",
       "      <td>0</td>\n",
       "      <td>0</td>\n",
       "      <td>0</td>\n",
       "      <td>0</td>\n",
       "      <td>0</td>\n",
       "      <td>0</td>\n",
       "    </tr>\n",
       "    <tr>\n",
       "      <th>3</th>\n",
       "      <td>0</td>\n",
       "      <td>0</td>\n",
       "      <td>0</td>\n",
       "      <td>0</td>\n",
       "      <td>0</td>\n",
       "      <td>1</td>\n",
       "      <td>0</td>\n",
       "      <td>0</td>\n",
       "      <td>0</td>\n",
       "      <td>0</td>\n",
       "      <td>...</td>\n",
       "      <td>0</td>\n",
       "      <td>0</td>\n",
       "      <td>0</td>\n",
       "      <td>0</td>\n",
       "      <td>0</td>\n",
       "      <td>0</td>\n",
       "      <td>0</td>\n",
       "      <td>0</td>\n",
       "      <td>0</td>\n",
       "      <td>0</td>\n",
       "    </tr>\n",
       "    <tr>\n",
       "      <th>4</th>\n",
       "      <td>0</td>\n",
       "      <td>0</td>\n",
       "      <td>0</td>\n",
       "      <td>0</td>\n",
       "      <td>0</td>\n",
       "      <td>1</td>\n",
       "      <td>1</td>\n",
       "      <td>0</td>\n",
       "      <td>0</td>\n",
       "      <td>0</td>\n",
       "      <td>...</td>\n",
       "      <td>0</td>\n",
       "      <td>0</td>\n",
       "      <td>0</td>\n",
       "      <td>0</td>\n",
       "      <td>0</td>\n",
       "      <td>0</td>\n",
       "      <td>0</td>\n",
       "      <td>0</td>\n",
       "      <td>0</td>\n",
       "      <td>0</td>\n",
       "    </tr>\n",
       "  </tbody>\n",
       "</table>\n",
       "<p>5 rows × 168 columns</p>\n",
       "</div>"
      ],
      "text/plain": [
       "   type_Movie  type_Music  type_ONA  type_OVA  type_Special  type_TV  \\\n",
       "0           1           0         0         0             0        0   \n",
       "1           0           0         0         0             0        1   \n",
       "2           0           0         0         0             0        1   \n",
       "3           0           0         0         0             0        1   \n",
       "4           0           0         0         0             0        1   \n",
       "\n",
       "   genre1_Action  genre1_Adventure  genre1_Cars  genre1_Comedy  ...  \\\n",
       "0              0                 0            0              0  ...   \n",
       "1              1                 0            0              0  ...   \n",
       "2              1                 0            0              0  ...   \n",
       "3              0                 0            0              0  ...   \n",
       "4              1                 0            0              0  ...   \n",
       "\n",
       "   genre4_ Shounen Ai  genre4_ Slice of Life  genre4_ Space  genre4_ Sports  \\\n",
       "0                   0                      0              0               0   \n",
       "1                   0                      0              0               0   \n",
       "2                   0                      0              0               0   \n",
       "3                   0                      0              0               0   \n",
       "4                   0                      0              0               0   \n",
       "\n",
       "   genre4_ Super Power  genre4_ Supernatural  genre4_ Thriller  \\\n",
       "0                    0                     1                 0   \n",
       "1                    0                     0                 0   \n",
       "2                    0                     0                 0   \n",
       "3                    0                     0                 0   \n",
       "4                    0                     0                 0   \n",
       "\n",
       "   genre4_ Vampire  genre4_ Yaoi  genre4_ Yuri  \n",
       "0                0             0             0  \n",
       "1                0             0             0  \n",
       "2                0             0             0  \n",
       "3                0             0             0  \n",
       "4                0             0             0  \n",
       "\n",
       "[5 rows x 168 columns]"
      ]
     },
     "execution_count": 71,
     "metadata": {},
     "output_type": "execute_result"
    }
   ],
   "source": [
    "df_dum = pd.get_dummies(df_cat[['type','genre1','genre2','genre3','genre4']])\n",
    "df_dum.head()"
   ]
  },
  {
   "cell_type": "markdown",
   "metadata": {},
   "source": [
    "# Recommendation system "
   ]
  },
  {
   "cell_type": "markdown",
   "metadata": {},
   "source": [
    "## Popularity Based recommendation system "
   ]
  },
  {
   "cell_type": "code",
   "execution_count": 72,
   "metadata": {
    "execution": {
     "iopub.execute_input": "2021-07-19T09:30:26.953085Z",
     "iopub.status.busy": "2021-07-19T09:30:26.952715Z",
     "iopub.status.idle": "2021-07-19T09:30:26.973105Z",
     "shell.execute_reply": "2021-07-19T09:30:26.972154Z",
     "shell.execute_reply.started": "2021-07-19T09:30:26.953052Z"
    }
   },
   "outputs": [
    {
     "data": {
      "text/html": [
       "<div>\n",
       "<style scoped>\n",
       "    .dataframe tbody tr th:only-of-type {\n",
       "        vertical-align: middle;\n",
       "    }\n",
       "\n",
       "    .dataframe tbody tr th {\n",
       "        vertical-align: top;\n",
       "    }\n",
       "\n",
       "    .dataframe thead th {\n",
       "        text-align: right;\n",
       "    }\n",
       "</style>\n",
       "<table border=\"1\" class=\"dataframe\">\n",
       "  <thead>\n",
       "    <tr style=\"text-align: right;\">\n",
       "      <th></th>\n",
       "      <th>anime_id</th>\n",
       "      <th>name</th>\n",
       "      <th>genre</th>\n",
       "      <th>type</th>\n",
       "      <th>episodes</th>\n",
       "      <th>avg_rating</th>\n",
       "      <th>members</th>\n",
       "      <th>user_id</th>\n",
       "      <th>user_rating</th>\n",
       "      <th>totalRatingCount</th>\n",
       "    </tr>\n",
       "  </thead>\n",
       "  <tbody>\n",
       "    <tr>\n",
       "      <th>0</th>\n",
       "      <td>32281</td>\n",
       "      <td>Kimi no Na wa</td>\n",
       "      <td>Drama, Romance, School, Supernatural</td>\n",
       "      <td>Movie</td>\n",
       "      <td>1</td>\n",
       "      <td>9.37</td>\n",
       "      <td>200630</td>\n",
       "      <td>99</td>\n",
       "      <td>5.0</td>\n",
       "      <td>1961</td>\n",
       "    </tr>\n",
       "    <tr>\n",
       "      <th>1</th>\n",
       "      <td>32281</td>\n",
       "      <td>Kimi no Na wa</td>\n",
       "      <td>Drama, Romance, School, Supernatural</td>\n",
       "      <td>Movie</td>\n",
       "      <td>1</td>\n",
       "      <td>9.37</td>\n",
       "      <td>200630</td>\n",
       "      <td>152</td>\n",
       "      <td>10.0</td>\n",
       "      <td>1961</td>\n",
       "    </tr>\n",
       "    <tr>\n",
       "      <th>2</th>\n",
       "      <td>32281</td>\n",
       "      <td>Kimi no Na wa</td>\n",
       "      <td>Drama, Romance, School, Supernatural</td>\n",
       "      <td>Movie</td>\n",
       "      <td>1</td>\n",
       "      <td>9.37</td>\n",
       "      <td>200630</td>\n",
       "      <td>244</td>\n",
       "      <td>10.0</td>\n",
       "      <td>1961</td>\n",
       "    </tr>\n",
       "    <tr>\n",
       "      <th>3</th>\n",
       "      <td>32281</td>\n",
       "      <td>Kimi no Na wa</td>\n",
       "      <td>Drama, Romance, School, Supernatural</td>\n",
       "      <td>Movie</td>\n",
       "      <td>1</td>\n",
       "      <td>9.37</td>\n",
       "      <td>200630</td>\n",
       "      <td>271</td>\n",
       "      <td>10.0</td>\n",
       "      <td>1961</td>\n",
       "    </tr>\n",
       "    <tr>\n",
       "      <th>4</th>\n",
       "      <td>32281</td>\n",
       "      <td>Kimi no Na wa</td>\n",
       "      <td>Drama, Romance, School, Supernatural</td>\n",
       "      <td>Movie</td>\n",
       "      <td>1</td>\n",
       "      <td>9.37</td>\n",
       "      <td>200630</td>\n",
       "      <td>322</td>\n",
       "      <td>10.0</td>\n",
       "      <td>1961</td>\n",
       "    </tr>\n",
       "  </tbody>\n",
       "</table>\n",
       "</div>"
      ],
      "text/plain": [
       "  anime_id           name                                 genre   type  \\\n",
       "0    32281  Kimi no Na wa  Drama, Romance, School, Supernatural  Movie   \n",
       "1    32281  Kimi no Na wa  Drama, Romance, School, Supernatural  Movie   \n",
       "2    32281  Kimi no Na wa  Drama, Romance, School, Supernatural  Movie   \n",
       "3    32281  Kimi no Na wa  Drama, Romance, School, Supernatural  Movie   \n",
       "4    32281  Kimi no Na wa  Drama, Romance, School, Supernatural  Movie   \n",
       "\n",
       "  episodes  avg_rating  members user_id  user_rating  totalRatingCount  \n",
       "0        1        9.37   200630      99          5.0              1961  \n",
       "1        1        9.37   200630     152         10.0              1961  \n",
       "2        1        9.37   200630     244         10.0              1961  \n",
       "3        1        9.37   200630     271         10.0              1961  \n",
       "4        1        9.37   200630     322         10.0              1961  "
      ]
     },
     "execution_count": 72,
     "metadata": {},
     "output_type": "execute_result"
    }
   ],
   "source": [
    "df_data.head()"
   ]
  },
  {
   "cell_type": "code",
   "execution_count": 73,
   "metadata": {
    "execution": {
     "iopub.execute_input": "2021-07-19T09:30:26.975515Z",
     "iopub.status.busy": "2021-07-19T09:30:26.975067Z",
     "iopub.status.idle": "2021-07-19T09:30:28.114706Z",
     "shell.execute_reply": "2021-07-19T09:30:28.113656Z",
     "shell.execute_reply.started": "2021-07-19T09:30:26.975470Z"
    }
   },
   "outputs": [],
   "source": [
    "rating1=df_data[['anime_id','name','genre','avg_rating','totalRatingCount']]\n",
    "rating1.drop_duplicates(subset=['anime_id'],inplace=True)\n",
    "rating1.reset_index(drop=True,inplace=True)"
   ]
  },
  {
   "cell_type": "code",
   "execution_count": 74,
   "metadata": {
    "execution": {
     "iopub.execute_input": "2021-07-19T09:30:28.116671Z",
     "iopub.status.busy": "2021-07-19T09:30:28.116224Z",
     "iopub.status.idle": "2021-07-19T09:30:28.123463Z",
     "shell.execute_reply": "2021-07-19T09:30:28.122297Z",
     "shell.execute_reply.started": "2021-07-19T09:30:28.116626Z"
    }
   },
   "outputs": [
    {
     "data": {
      "text/plain": [
       "(9890, 5)"
      ]
     },
     "execution_count": 74,
     "metadata": {},
     "output_type": "execute_result"
    }
   ],
   "source": [
    "rating1.shape"
   ]
  },
  {
   "cell_type": "code",
   "execution_count": 75,
   "metadata": {
    "execution": {
     "iopub.execute_input": "2021-07-19T09:30:28.125176Z",
     "iopub.status.busy": "2021-07-19T09:30:28.124867Z",
     "iopub.status.idle": "2021-07-19T09:30:28.138337Z",
     "shell.execute_reply": "2021-07-19T09:30:28.137085Z",
     "shell.execute_reply.started": "2021-07-19T09:30:28.125148Z"
    }
   },
   "outputs": [
    {
     "name": "stdout",
     "output_type": "stream",
     "text": [
      "m:  987.6499999999996 C:  6.592642062689574\n"
     ]
    }
   ],
   "source": [
    "# mean rating across all the animes\n",
    "C = rating1['avg_rating'].mean()\n",
    "# animes having total rate count greater than 85%\n",
    "m = rating1['totalRatingCount'].quantile(0.85)\n",
    "print('m: ', m, 'C: ', C)"
   ]
  },
  {
   "cell_type": "code",
   "execution_count": 76,
   "metadata": {
    "execution": {
     "iopub.execute_input": "2021-07-19T09:30:28.140076Z",
     "iopub.status.busy": "2021-07-19T09:30:28.139721Z",
     "iopub.status.idle": "2021-07-19T09:30:28.146182Z",
     "shell.execute_reply": "2021-07-19T09:30:28.145495Z",
     "shell.execute_reply.started": "2021-07-19T09:30:28.140047Z"
    }
   },
   "outputs": [],
   "source": [
    "def weighted_rating(x, m=m, C=C):\n",
    "    v = x['totalRatingCount']\n",
    "    R = x['avg_rating']\n",
    "    return (v/(v+m) * R) + (m/(m+v) * C)"
   ]
  },
  {
   "cell_type": "code",
   "execution_count": 77,
   "metadata": {
    "execution": {
     "iopub.execute_input": "2021-07-19T09:30:28.147675Z",
     "iopub.status.busy": "2021-07-19T09:30:28.147264Z",
     "iopub.status.idle": "2021-07-19T09:30:28.163281Z",
     "shell.execute_reply": "2021-07-19T09:30:28.162350Z",
     "shell.execute_reply.started": "2021-07-19T09:30:28.147636Z"
    }
   },
   "outputs": [
    {
     "data": {
      "text/plain": [
       "(1484, 5)"
      ]
     },
     "execution_count": 77,
     "metadata": {},
     "output_type": "execute_result"
    }
   ],
   "source": [
    "# animes having total rate count greater than 85% is considered into lists_animes\n",
    "lists_animes =rating1.copy().loc[rating1['totalRatingCount'] >= m]\n",
    "lists_animes.shape"
   ]
  },
  {
   "cell_type": "code",
   "execution_count": 78,
   "metadata": {
    "execution": {
     "iopub.execute_input": "2021-07-19T09:30:28.165946Z",
     "iopub.status.busy": "2021-07-19T09:30:28.165517Z",
     "iopub.status.idle": "2021-07-19T09:30:28.208700Z",
     "shell.execute_reply": "2021-07-19T09:30:28.207638Z",
     "shell.execute_reply.started": "2021-07-19T09:30:28.165901Z"
    }
   },
   "outputs": [],
   "source": [
    "# Define a new feature 'score' and calculate its value with `Iighted_rating()`\n",
    "lists_animes['score'] = lists_animes.apply(weighted_rating, axis=1)"
   ]
  },
  {
   "cell_type": "code",
   "execution_count": 79,
   "metadata": {
    "execution": {
     "iopub.execute_input": "2021-07-19T09:30:28.210671Z",
     "iopub.status.busy": "2021-07-19T09:30:28.210242Z",
     "iopub.status.idle": "2021-07-19T09:30:28.225889Z",
     "shell.execute_reply": "2021-07-19T09:30:28.224866Z",
     "shell.execute_reply.started": "2021-07-19T09:30:28.210627Z"
    }
   },
   "outputs": [
    {
     "data": {
      "text/html": [
       "<div>\n",
       "<style scoped>\n",
       "    .dataframe tbody tr th:only-of-type {\n",
       "        vertical-align: middle;\n",
       "    }\n",
       "\n",
       "    .dataframe tbody tr th {\n",
       "        vertical-align: top;\n",
       "    }\n",
       "\n",
       "    .dataframe thead th {\n",
       "        text-align: right;\n",
       "    }\n",
       "</style>\n",
       "<table border=\"1\" class=\"dataframe\">\n",
       "  <thead>\n",
       "    <tr style=\"text-align: right;\">\n",
       "      <th></th>\n",
       "      <th>anime_id</th>\n",
       "      <th>name</th>\n",
       "      <th>genre</th>\n",
       "      <th>avg_rating</th>\n",
       "      <th>totalRatingCount</th>\n",
       "      <th>score</th>\n",
       "    </tr>\n",
       "  </thead>\n",
       "  <tbody>\n",
       "    <tr>\n",
       "      <th>0</th>\n",
       "      <td>32281</td>\n",
       "      <td>Kimi no Na wa</td>\n",
       "      <td>Drama, Romance, School, Supernatural</td>\n",
       "      <td>9.37</td>\n",
       "      <td>1961</td>\n",
       "      <td>8.439724</td>\n",
       "    </tr>\n",
       "    <tr>\n",
       "      <th>1</th>\n",
       "      <td>5114</td>\n",
       "      <td>Fullmetal Alchemist Brotherhood</td>\n",
       "      <td>Action, Adventure, Drama, Fantasy, Magic, Mili...</td>\n",
       "      <td>9.26</td>\n",
       "      <td>21494</td>\n",
       "      <td>9.142819</td>\n",
       "    </tr>\n",
       "    <tr>\n",
       "      <th>2</th>\n",
       "      <td>28977</td>\n",
       "      <td>Gintama°</td>\n",
       "      <td>Action, Comedy, Historical, Parody, Samurai, S...</td>\n",
       "      <td>9.25</td>\n",
       "      <td>1188</td>\n",
       "      <td>8.043676</td>\n",
       "    </tr>\n",
       "    <tr>\n",
       "      <th>3</th>\n",
       "      <td>9253</td>\n",
       "      <td>SteinsGate</td>\n",
       "      <td>Sci-Fi, Thriller</td>\n",
       "      <td>9.17</td>\n",
       "      <td>17151</td>\n",
       "      <td>9.029663</td>\n",
       "    </tr>\n",
       "    <tr>\n",
       "      <th>4</th>\n",
       "      <td>9969</td>\n",
       "      <td>Gintama039</td>\n",
       "      <td>Action, Comedy, Historical, Parody, Samurai, S...</td>\n",
       "      <td>9.16</td>\n",
       "      <td>3115</td>\n",
       "      <td>8.541948</td>\n",
       "    </tr>\n",
       "  </tbody>\n",
       "</table>\n",
       "</div>"
      ],
      "text/plain": [
       "  anime_id                             name  \\\n",
       "0    32281                    Kimi no Na wa   \n",
       "1     5114  Fullmetal Alchemist Brotherhood   \n",
       "2    28977                         Gintama°   \n",
       "3     9253                       SteinsGate   \n",
       "4     9969                       Gintama039   \n",
       "\n",
       "                                               genre  avg_rating  \\\n",
       "0               Drama, Romance, School, Supernatural        9.37   \n",
       "1  Action, Adventure, Drama, Fantasy, Magic, Mili...        9.26   \n",
       "2  Action, Comedy, Historical, Parody, Samurai, S...        9.25   \n",
       "3                                   Sci-Fi, Thriller        9.17   \n",
       "4  Action, Comedy, Historical, Parody, Samurai, S...        9.16   \n",
       "\n",
       "   totalRatingCount     score  \n",
       "0              1961  8.439724  \n",
       "1             21494  9.142819  \n",
       "2              1188  8.043676  \n",
       "3             17151  9.029663  \n",
       "4              3115  8.541948  "
      ]
     },
     "execution_count": 79,
     "metadata": {},
     "output_type": "execute_result"
    }
   ],
   "source": [
    "lists_animes.head()"
   ]
  },
  {
   "cell_type": "code",
   "execution_count": 80,
   "metadata": {
    "execution": {
     "iopub.execute_input": "2021-07-19T09:30:28.227732Z",
     "iopub.status.busy": "2021-07-19T09:30:28.227189Z",
     "iopub.status.idle": "2021-07-19T09:30:28.245116Z",
     "shell.execute_reply": "2021-07-19T09:30:28.244047Z",
     "shell.execute_reply.started": "2021-07-19T09:30:28.227696Z"
    }
   },
   "outputs": [
    {
     "data": {
      "text/html": [
       "<div>\n",
       "<style scoped>\n",
       "    .dataframe tbody tr th:only-of-type {\n",
       "        vertical-align: middle;\n",
       "    }\n",
       "\n",
       "    .dataframe tbody tr th {\n",
       "        vertical-align: top;\n",
       "    }\n",
       "\n",
       "    .dataframe thead th {\n",
       "        text-align: right;\n",
       "    }\n",
       "</style>\n",
       "<table border=\"1\" class=\"dataframe\">\n",
       "  <thead>\n",
       "    <tr style=\"text-align: right;\">\n",
       "      <th></th>\n",
       "      <th>name</th>\n",
       "      <th>totalRatingCount</th>\n",
       "      <th>avg_rating</th>\n",
       "      <th>score</th>\n",
       "    </tr>\n",
       "  </thead>\n",
       "  <tbody>\n",
       "    <tr>\n",
       "      <th>1</th>\n",
       "      <td>Fullmetal Alchemist Brotherhood</td>\n",
       "      <td>21494</td>\n",
       "      <td>9.26</td>\n",
       "      <td>9.142819</td>\n",
       "    </tr>\n",
       "    <tr>\n",
       "      <th>3</th>\n",
       "      <td>SteinsGate</td>\n",
       "      <td>17151</td>\n",
       "      <td>9.17</td>\n",
       "      <td>9.029663</td>\n",
       "    </tr>\n",
       "    <tr>\n",
       "      <th>10</th>\n",
       "      <td>Clannad After Story</td>\n",
       "      <td>15518</td>\n",
       "      <td>9.06</td>\n",
       "      <td>8.912360</td>\n",
       "    </tr>\n",
       "    <tr>\n",
       "      <th>13</th>\n",
       "      <td>Code Geass Hangyaku no Lelouch R2</td>\n",
       "      <td>21124</td>\n",
       "      <td>8.98</td>\n",
       "      <td>8.873365</td>\n",
       "    </tr>\n",
       "    <tr>\n",
       "      <th>6</th>\n",
       "      <td>Hunter x Hunter 2011</td>\n",
       "      <td>7477</td>\n",
       "      <td>9.13</td>\n",
       "      <td>8.833943</td>\n",
       "    </tr>\n",
       "    <tr>\n",
       "      <th>15</th>\n",
       "      <td>Sen to Chihiro no Kamikakushi</td>\n",
       "      <td>19481</td>\n",
       "      <td>8.93</td>\n",
       "      <td>8.817218</td>\n",
       "    </tr>\n",
       "    <tr>\n",
       "      <th>19</th>\n",
       "      <td>Code Geass Hangyaku no Lelouch</td>\n",
       "      <td>24125</td>\n",
       "      <td>8.83</td>\n",
       "      <td>8.742007</td>\n",
       "    </tr>\n",
       "    <tr>\n",
       "      <th>16</th>\n",
       "      <td>Shigatsu wa Kimi no Uso</td>\n",
       "      <td>8271</td>\n",
       "      <td>8.92</td>\n",
       "      <td>8.671733</td>\n",
       "    </tr>\n",
       "    <tr>\n",
       "      <th>22</th>\n",
       "      <td>Cowboy Bebop</td>\n",
       "      <td>13449</td>\n",
       "      <td>8.82</td>\n",
       "      <td>8.667620</td>\n",
       "    </tr>\n",
       "    <tr>\n",
       "      <th>24</th>\n",
       "      <td>Mononoke Hime</td>\n",
       "      <td>13679</td>\n",
       "      <td>8.81</td>\n",
       "      <td>8.660683</td>\n",
       "    </tr>\n",
       "  </tbody>\n",
       "</table>\n",
       "</div>"
      ],
      "text/plain": [
       "                                 name  totalRatingCount  avg_rating     score\n",
       "1     Fullmetal Alchemist Brotherhood             21494        9.26  9.142819\n",
       "3                          SteinsGate             17151        9.17  9.029663\n",
       "10                Clannad After Story             15518        9.06  8.912360\n",
       "13  Code Geass Hangyaku no Lelouch R2             21124        8.98  8.873365\n",
       "6                Hunter x Hunter 2011              7477        9.13  8.833943\n",
       "15      Sen to Chihiro no Kamikakushi             19481        8.93  8.817218\n",
       "19     Code Geass Hangyaku no Lelouch             24125        8.83  8.742007\n",
       "16            Shigatsu wa Kimi no Uso              8271        8.92  8.671733\n",
       "22                       Cowboy Bebop             13449        8.82  8.667620\n",
       "24                      Mononoke Hime             13679        8.81  8.660683"
      ]
     },
     "execution_count": 80,
     "metadata": {},
     "output_type": "execute_result"
    }
   ],
   "source": [
    "#Sort movies based on score calculated above\n",
    "lists_animes = lists_animes.sort_values('score', ascending=False)\n",
    "\n",
    "#Print the top 10 movies\n",
    "lists_animes[['name', 'totalRatingCount', 'avg_rating', 'score']].head(10)"
   ]
  },
  {
   "cell_type": "code",
   "execution_count": 81,
   "metadata": {
    "execution": {
     "iopub.execute_input": "2021-07-19T09:30:28.246833Z",
     "iopub.status.busy": "2021-07-19T09:30:28.246552Z",
     "iopub.status.idle": "2021-07-19T09:30:28.558352Z",
     "shell.execute_reply": "2021-07-19T09:30:28.557187Z",
     "shell.execute_reply.started": "2021-07-19T09:30:28.246806Z"
    }
   },
   "outputs": [
    {
     "data": {
      "image/png": "[encoded data removed]",
      "text/plain": [
       "<Figure size 1080x720 with 1 Axes>"
      ]
     },
     "metadata": {},
     "output_type": "display_data"
    }
   ],
   "source": [
    "pop=lists_animes[['name', 'totalRatingCount', 'avg_rating', 'score']].head(10)\n",
    "plt.figure(figsize=(15,10))\n",
    "sns.barplot(pop['score'],pop['name'])\n",
    "plt.title('Anime')\n",
    "plt.xlabel('Popularity Score')\n",
    "plt.show()"
   ]
  },
  {
   "cell_type": "markdown",
   "metadata": {},
   "source": [
    "The above plot shows top 10 animes which can be recommended based on trend."
   ]
  },
  {
   "cell_type": "markdown",
   "metadata": {},
   "source": [
    "## Content based Recommendation System "
   ]
  },
  {
   "cell_type": "code",
   "execution_count": 82,
   "metadata": {
    "execution": {
     "iopub.execute_input": "2021-07-19T09:30:28.559959Z",
     "iopub.status.busy": "2021-07-19T09:30:28.559644Z",
     "iopub.status.idle": "2021-07-19T09:30:28.584422Z",
     "shell.execute_reply": "2021-07-19T09:30:28.583272Z",
     "shell.execute_reply.started": "2021-07-19T09:30:28.559926Z"
    }
   },
   "outputs": [
    {
     "name": "stdout",
     "output_type": "stream",
     "text": [
      "9832.0 6.48460862214709\n"
     ]
    }
   ],
   "source": [
    "m1 = anime.members.quantile(0.75)\n",
    "C1 = anime.rating.mean()\n",
    "print(m1, C1)"
   ]
  },
  {
   "cell_type": "code",
   "execution_count": 83,
   "metadata": {
    "execution": {
     "iopub.execute_input": "2021-07-19T09:30:28.586133Z",
     "iopub.status.busy": "2021-07-19T09:30:28.585800Z",
     "iopub.status.idle": "2021-07-19T09:30:28.603908Z",
     "shell.execute_reply": "2021-07-19T09:30:28.602631Z",
     "shell.execute_reply.started": "2021-07-19T09:30:28.586100Z"
    }
   },
   "outputs": [],
   "source": [
    "def weighted_rating1(df, m1, C1):\n",
    "    term = df['members'] / (m1 + df['members'])\n",
    "    return df['rating'] * term + (1-term) * C1"
   ]
  },
  {
   "cell_type": "code",
   "execution_count": 85,
   "metadata": {
    "execution": {
     "iopub.execute_input": "2021-07-19T09:30:28.605602Z",
     "iopub.status.busy": "2021-07-19T09:30:28.605260Z",
     "iopub.status.idle": "2021-07-19T09:30:28.612183Z",
     "shell.execute_reply": "2021-07-19T09:30:28.611122Z",
     "shell.execute_reply.started": "2021-07-19T09:30:28.605571Z"
    }
   },
   "outputs": [
    {
     "data": {
      "text/html": [
       "<div>\n",
       "<style scoped>\n",
       "    .dataframe tbody tr th:only-of-type {\n",
       "        vertical-align: middle;\n",
       "    }\n",
       "\n",
       "    .dataframe tbody tr th {\n",
       "        vertical-align: top;\n",
       "    }\n",
       "\n",
       "    .dataframe thead th {\n",
       "        text-align: right;\n",
       "    }\n",
       "</style>\n",
       "<table border=\"1\" class=\"dataframe\">\n",
       "  <thead>\n",
       "    <tr style=\"text-align: right;\">\n",
       "      <th></th>\n",
       "      <th>name</th>\n",
       "      <th>genre</th>\n",
       "      <th>type</th>\n",
       "      <th>community_rating</th>\n",
       "    </tr>\n",
       "  </thead>\n",
       "  <tbody>\n",
       "    <tr>\n",
       "      <th>0</th>\n",
       "      <td>Kimi no Na wa</td>\n",
       "      <td>Drama, Romance, School, Supernatural</td>\n",
       "      <td>Movie</td>\n",
       "      <td>9.356395</td>\n",
       "    </tr>\n",
       "    <tr>\n",
       "      <th>1</th>\n",
       "      <td>Fullmetal Alchemist Brotherhood</td>\n",
       "      <td>Action, Adventure, Drama, Fantasy, Magic, Mili...</td>\n",
       "      <td>TV</td>\n",
       "      <td>9.256685</td>\n",
       "    </tr>\n",
       "    <tr>\n",
       "      <th>2</th>\n",
       "      <td>Gintama°</td>\n",
       "      <td>Action, Comedy, Historical, Parody, Samurai, S...</td>\n",
       "      <td>TV</td>\n",
       "      <td>9.227227</td>\n",
       "    </tr>\n",
       "    <tr>\n",
       "      <th>3</th>\n",
       "      <td>SteinsGate</td>\n",
       "      <td>Sci-Fi, Thriller</td>\n",
       "      <td>TV</td>\n",
       "      <td>9.166226</td>\n",
       "    </tr>\n",
       "    <tr>\n",
       "      <th>4</th>\n",
       "      <td>Gintama039</td>\n",
       "      <td>Action, Comedy, Historical, Parody, Samurai, S...</td>\n",
       "      <td>TV</td>\n",
       "      <td>9.143346</td>\n",
       "    </tr>\n",
       "  </tbody>\n",
       "</table>\n",
       "</div>"
      ],
      "text/plain": [
       "                              name  \\\n",
       "0                    Kimi no Na wa   \n",
       "1  Fullmetal Alchemist Brotherhood   \n",
       "2                         Gintama°   \n",
       "3                       SteinsGate   \n",
       "4                       Gintama039   \n",
       "\n",
       "                                               genre   type  community_rating  \n",
       "0               Drama, Romance, School, Supernatural  Movie          9.356395  \n",
       "1  Action, Adventure, Drama, Fantasy, Magic, Mili...     TV          9.256685  \n",
       "2  Action, Comedy, Historical, Parody, Samurai, S...     TV          9.227227  \n",
       "3                                   Sci-Fi, Thriller     TV          9.166226  \n",
       "4  Action, Comedy, Historical, Parody, Samurai, S...     TV          9.143346  "
      ]
     },
     "execution_count": 85,
     "metadata": {},
     "output_type": "execute_result"
    }
   ],
   "source": [
    "anime['community_rating'] = anime.apply(weighted_rating1, axis=1, args=(m,C))\n",
    "anime.drop(['anime_id', 'rating', 'members', 'episodes'], axis=1, inplace=True)\n",
    "anime.head()"
   ]
  },
  {
   "cell_type": "code",
   "execution_count": 86,
   "metadata": {
    "execution": {
     "iopub.execute_input": "2021-07-19T09:30:28.613765Z",
     "iopub.status.busy": "2021-07-19T09:30:28.613482Z",
     "iopub.status.idle": "2021-07-19T09:30:28.622690Z",
     "shell.execute_reply": "2021-07-19T09:30:28.621647Z",
     "shell.execute_reply.started": "2021-07-19T09:30:28.613737Z"
    }
   },
   "outputs": [
    {
     "data": {
      "text/html": [
       "<div>\n",
       "<style scoped>\n",
       "    .dataframe tbody tr th:only-of-type {\n",
       "        vertical-align: middle;\n",
       "    }\n",
       "\n",
       "    .dataframe tbody tr th {\n",
       "        vertical-align: top;\n",
       "    }\n",
       "\n",
       "    .dataframe thead th {\n",
       "        text-align: right;\n",
       "    }\n",
       "</style>\n",
       "<table border=\"1\" class=\"dataframe\">\n",
       "  <thead>\n",
       "    <tr style=\"text-align: right;\">\n",
       "      <th></th>\n",
       "      <th>name</th>\n",
       "      <th>genre</th>\n",
       "      <th>type</th>\n",
       "      <th>community_rating</th>\n",
       "      <th>Movie</th>\n",
       "      <th>Music</th>\n",
       "      <th>ONA</th>\n",
       "      <th>OVA</th>\n",
       "      <th>Special</th>\n",
       "      <th>TV</th>\n",
       "      <th>...</th>\n",
       "      <th>Shoujo</th>\n",
       "      <th>Shounen</th>\n",
       "      <th>Slice of Life</th>\n",
       "      <th>Space</th>\n",
       "      <th>Sports</th>\n",
       "      <th>Super Power</th>\n",
       "      <th>Supernatural</th>\n",
       "      <th>Thriller</th>\n",
       "      <th>Vampire</th>\n",
       "      <th>Yaoi</th>\n",
       "    </tr>\n",
       "  </thead>\n",
       "  <tbody>\n",
       "    <tr>\n",
       "      <th>0</th>\n",
       "      <td>Kimi no Na wa</td>\n",
       "      <td>Drama, Romance, School, Supernatural</td>\n",
       "      <td>Movie</td>\n",
       "      <td>9.356395</td>\n",
       "      <td>1</td>\n",
       "      <td>0</td>\n",
       "      <td>0</td>\n",
       "      <td>0</td>\n",
       "      <td>0</td>\n",
       "      <td>0</td>\n",
       "      <td>...</td>\n",
       "      <td>0</td>\n",
       "      <td>0</td>\n",
       "      <td>0</td>\n",
       "      <td>0</td>\n",
       "      <td>0</td>\n",
       "      <td>0</td>\n",
       "      <td>0</td>\n",
       "      <td>0</td>\n",
       "      <td>0</td>\n",
       "      <td>0</td>\n",
       "    </tr>\n",
       "    <tr>\n",
       "      <th>1</th>\n",
       "      <td>Fullmetal Alchemist Brotherhood</td>\n",
       "      <td>Action, Adventure, Drama, Fantasy, Magic, Mili...</td>\n",
       "      <td>TV</td>\n",
       "      <td>9.256685</td>\n",
       "      <td>0</td>\n",
       "      <td>0</td>\n",
       "      <td>0</td>\n",
       "      <td>0</td>\n",
       "      <td>0</td>\n",
       "      <td>1</td>\n",
       "      <td>...</td>\n",
       "      <td>0</td>\n",
       "      <td>0</td>\n",
       "      <td>0</td>\n",
       "      <td>0</td>\n",
       "      <td>0</td>\n",
       "      <td>0</td>\n",
       "      <td>0</td>\n",
       "      <td>0</td>\n",
       "      <td>0</td>\n",
       "      <td>0</td>\n",
       "    </tr>\n",
       "    <tr>\n",
       "      <th>2</th>\n",
       "      <td>Gintama°</td>\n",
       "      <td>Action, Comedy, Historical, Parody, Samurai, S...</td>\n",
       "      <td>TV</td>\n",
       "      <td>9.227227</td>\n",
       "      <td>0</td>\n",
       "      <td>0</td>\n",
       "      <td>0</td>\n",
       "      <td>0</td>\n",
       "      <td>0</td>\n",
       "      <td>1</td>\n",
       "      <td>...</td>\n",
       "      <td>0</td>\n",
       "      <td>0</td>\n",
       "      <td>0</td>\n",
       "      <td>0</td>\n",
       "      <td>0</td>\n",
       "      <td>0</td>\n",
       "      <td>0</td>\n",
       "      <td>0</td>\n",
       "      <td>0</td>\n",
       "      <td>0</td>\n",
       "    </tr>\n",
       "    <tr>\n",
       "      <th>3</th>\n",
       "      <td>SteinsGate</td>\n",
       "      <td>Sci-Fi, Thriller</td>\n",
       "      <td>TV</td>\n",
       "      <td>9.166226</td>\n",
       "      <td>0</td>\n",
       "      <td>0</td>\n",
       "      <td>0</td>\n",
       "      <td>0</td>\n",
       "      <td>0</td>\n",
       "      <td>1</td>\n",
       "      <td>...</td>\n",
       "      <td>0</td>\n",
       "      <td>0</td>\n",
       "      <td>0</td>\n",
       "      <td>0</td>\n",
       "      <td>0</td>\n",
       "      <td>0</td>\n",
       "      <td>0</td>\n",
       "      <td>0</td>\n",
       "      <td>0</td>\n",
       "      <td>0</td>\n",
       "    </tr>\n",
       "    <tr>\n",
       "      <th>4</th>\n",
       "      <td>Gintama039</td>\n",
       "      <td>Action, Comedy, Historical, Parody, Samurai, S...</td>\n",
       "      <td>TV</td>\n",
       "      <td>9.143346</td>\n",
       "      <td>0</td>\n",
       "      <td>0</td>\n",
       "      <td>0</td>\n",
       "      <td>0</td>\n",
       "      <td>0</td>\n",
       "      <td>1</td>\n",
       "      <td>...</td>\n",
       "      <td>0</td>\n",
       "      <td>0</td>\n",
       "      <td>0</td>\n",
       "      <td>0</td>\n",
       "      <td>0</td>\n",
       "      <td>0</td>\n",
       "      <td>0</td>\n",
       "      <td>0</td>\n",
       "      <td>0</td>\n",
       "      <td>0</td>\n",
       "    </tr>\n",
       "  </tbody>\n",
       "</table>\n",
       "<p>5 rows × 92 columns</p>\n",
       "</div>"
      ],
      "text/plain": [
       "                              name  \\\n",
       "0                    Kimi no Na wa   \n",
       "1  Fullmetal Alchemist Brotherhood   \n",
       "2                         Gintama°   \n",
       "3                       SteinsGate   \n",
       "4                       Gintama039   \n",
       "\n",
       "                                               genre   type  community_rating  \\\n",
       "0               Drama, Romance, School, Supernatural  Movie          9.356395   \n",
       "1  Action, Adventure, Drama, Fantasy, Magic, Mili...     TV          9.256685   \n",
       "2  Action, Comedy, Historical, Parody, Samurai, S...     TV          9.227227   \n",
       "3                                   Sci-Fi, Thriller     TV          9.166226   \n",
       "4  Action, Comedy, Historical, Parody, Samurai, S...     TV          9.143346   \n",
       "\n",
       "   Movie  Music  ONA  OVA  Special  TV  ...  Shoujo  Shounen  Slice of Life  \\\n",
       "0      1      0    0    0        0   0  ...       0        0              0   \n",
       "1      0      0    0    0        0   1  ...       0        0              0   \n",
       "2      0      0    0    0        0   1  ...       0        0              0   \n",
       "3      0      0    0    0        0   1  ...       0        0              0   \n",
       "4      0      0    0    0        0   1  ...       0        0              0   \n",
       "\n",
       "   Space  Sports  Super Power  Supernatural  Thriller  Vampire  Yaoi  \n",
       "0      0       0            0             0         0        0     0  \n",
       "1      0       0            0             0         0        0     0  \n",
       "2      0       0            0             0         0        0     0  \n",
       "3      0       0            0             0         0        0     0  \n",
       "4      0       0            0             0         0        0     0  \n",
       "\n",
       "[5 rows x 92 columns]"
      ]
     },
     "execution_count": 86,
     "metadata": {},
     "output_type": "execute_result"
    }
   ],
   "source": [
    "anime = pd.concat([anime, anime['type'].str.get_dummies(), anime['genre'].str.get_dummies(sep=',')], axis=1)\n",
    "anime.head()"
   ]
  },
  {
   "cell_type": "code",
   "execution_count": 87,
   "metadata": {
    "execution": {
     "iopub.execute_input": "2021-07-19T09:30:28.624575Z",
     "iopub.status.busy": "2021-07-19T09:30:28.624023Z",
     "iopub.status.idle": "2021-07-19T09:30:28.820814Z",
     "shell.execute_reply": "2021-07-19T09:30:28.819530Z",
     "shell.execute_reply.started": "2021-07-19T09:30:28.624530Z"
    }
   },
   "outputs": [
    {
     "data": {
      "text/html": [
       "<div>\n",
       "<style scoped>\n",
       "    .dataframe tbody tr th:only-of-type {\n",
       "        vertical-align: middle;\n",
       "    }\n",
       "\n",
       "    .dataframe tbody tr th {\n",
       "        vertical-align: top;\n",
       "    }\n",
       "\n",
       "    .dataframe thead th {\n",
       "        text-align: right;\n",
       "    }\n",
       "</style>\n",
       "<table border=\"1\" class=\"dataframe\">\n",
       "  <thead>\n",
       "    <tr style=\"text-align: right;\">\n",
       "      <th></th>\n",
       "      <th>Movie</th>\n",
       "      <th>Music</th>\n",
       "      <th>ONA</th>\n",
       "      <th>OVA</th>\n",
       "      <th>Special</th>\n",
       "      <th>TV</th>\n",
       "      <th>Adventure</th>\n",
       "      <th>Cars</th>\n",
       "      <th>Comedy</th>\n",
       "      <th>Dementia</th>\n",
       "      <th>...</th>\n",
       "      <th>Shoujo</th>\n",
       "      <th>Shounen</th>\n",
       "      <th>Slice of Life</th>\n",
       "      <th>Space</th>\n",
       "      <th>Sports</th>\n",
       "      <th>Super Power</th>\n",
       "      <th>Supernatural</th>\n",
       "      <th>Thriller</th>\n",
       "      <th>Vampire</th>\n",
       "      <th>Yaoi</th>\n",
       "    </tr>\n",
       "  </thead>\n",
       "  <tbody>\n",
       "    <tr>\n",
       "      <th>0</th>\n",
       "      <td>1</td>\n",
       "      <td>0</td>\n",
       "      <td>0</td>\n",
       "      <td>0</td>\n",
       "      <td>0</td>\n",
       "      <td>0</td>\n",
       "      <td>0</td>\n",
       "      <td>0</td>\n",
       "      <td>0</td>\n",
       "      <td>0</td>\n",
       "      <td>...</td>\n",
       "      <td>0</td>\n",
       "      <td>0</td>\n",
       "      <td>0</td>\n",
       "      <td>0</td>\n",
       "      <td>0</td>\n",
       "      <td>0</td>\n",
       "      <td>0</td>\n",
       "      <td>0</td>\n",
       "      <td>0</td>\n",
       "      <td>0</td>\n",
       "    </tr>\n",
       "    <tr>\n",
       "      <th>1</th>\n",
       "      <td>0</td>\n",
       "      <td>0</td>\n",
       "      <td>0</td>\n",
       "      <td>0</td>\n",
       "      <td>0</td>\n",
       "      <td>1</td>\n",
       "      <td>1</td>\n",
       "      <td>0</td>\n",
       "      <td>0</td>\n",
       "      <td>0</td>\n",
       "      <td>...</td>\n",
       "      <td>0</td>\n",
       "      <td>0</td>\n",
       "      <td>0</td>\n",
       "      <td>0</td>\n",
       "      <td>0</td>\n",
       "      <td>0</td>\n",
       "      <td>0</td>\n",
       "      <td>0</td>\n",
       "      <td>0</td>\n",
       "      <td>0</td>\n",
       "    </tr>\n",
       "    <tr>\n",
       "      <th>2</th>\n",
       "      <td>0</td>\n",
       "      <td>0</td>\n",
       "      <td>0</td>\n",
       "      <td>0</td>\n",
       "      <td>0</td>\n",
       "      <td>1</td>\n",
       "      <td>0</td>\n",
       "      <td>0</td>\n",
       "      <td>1</td>\n",
       "      <td>0</td>\n",
       "      <td>...</td>\n",
       "      <td>0</td>\n",
       "      <td>0</td>\n",
       "      <td>0</td>\n",
       "      <td>0</td>\n",
       "      <td>0</td>\n",
       "      <td>0</td>\n",
       "      <td>0</td>\n",
       "      <td>0</td>\n",
       "      <td>0</td>\n",
       "      <td>0</td>\n",
       "    </tr>\n",
       "    <tr>\n",
       "      <th>3</th>\n",
       "      <td>0</td>\n",
       "      <td>0</td>\n",
       "      <td>0</td>\n",
       "      <td>0</td>\n",
       "      <td>0</td>\n",
       "      <td>1</td>\n",
       "      <td>0</td>\n",
       "      <td>0</td>\n",
       "      <td>0</td>\n",
       "      <td>0</td>\n",
       "      <td>...</td>\n",
       "      <td>0</td>\n",
       "      <td>0</td>\n",
       "      <td>0</td>\n",
       "      <td>0</td>\n",
       "      <td>0</td>\n",
       "      <td>0</td>\n",
       "      <td>0</td>\n",
       "      <td>0</td>\n",
       "      <td>0</td>\n",
       "      <td>0</td>\n",
       "    </tr>\n",
       "    <tr>\n",
       "      <th>4</th>\n",
       "      <td>0</td>\n",
       "      <td>0</td>\n",
       "      <td>0</td>\n",
       "      <td>0</td>\n",
       "      <td>0</td>\n",
       "      <td>1</td>\n",
       "      <td>0</td>\n",
       "      <td>0</td>\n",
       "      <td>1</td>\n",
       "      <td>0</td>\n",
       "      <td>...</td>\n",
       "      <td>0</td>\n",
       "      <td>0</td>\n",
       "      <td>0</td>\n",
       "      <td>0</td>\n",
       "      <td>0</td>\n",
       "      <td>0</td>\n",
       "      <td>0</td>\n",
       "      <td>0</td>\n",
       "      <td>0</td>\n",
       "      <td>0</td>\n",
       "    </tr>\n",
       "  </tbody>\n",
       "</table>\n",
       "<p>5 rows × 88 columns</p>\n",
       "</div>"
      ],
      "text/plain": [
       "   Movie  Music  ONA  OVA  Special  TV   Adventure   Cars   Comedy   Dementia  \\\n",
       "0      1      0    0    0        0   0           0      0        0          0   \n",
       "1      0      0    0    0        0   1           1      0        0          0   \n",
       "2      0      0    0    0        0   1           0      0        1          0   \n",
       "3      0      0    0    0        0   1           0      0        0          0   \n",
       "4      0      0    0    0        0   1           0      0        1          0   \n",
       "\n",
       "   ...  Shoujo  Shounen  Slice of Life  Space  Sports  Super Power  \\\n",
       "0  ...       0        0              0      0       0            0   \n",
       "1  ...       0        0              0      0       0            0   \n",
       "2  ...       0        0              0      0       0            0   \n",
       "3  ...       0        0              0      0       0            0   \n",
       "4  ...       0        0              0      0       0            0   \n",
       "\n",
       "   Supernatural  Thriller  Vampire  Yaoi  \n",
       "0             0         0        0     0  \n",
       "1             0         0        0     0  \n",
       "2             0         0        0     0  \n",
       "3             0         0        0     0  \n",
       "4             0         0        0     0  \n",
       "\n",
       "[5 rows x 88 columns]"
      ]
     },
     "execution_count": 87,
     "metadata": {},
     "output_type": "execute_result"
    }
   ],
   "source": [
    "anime_features = anime.loc[:, \"Movie\":].copy()\n",
    "anime_features.head()"
   ]
  },
  {
   "cell_type": "code",
   "execution_count": 88,
   "metadata": {
    "execution": {
     "iopub.execute_input": "2021-07-19T09:30:28.822803Z",
     "iopub.status.busy": "2021-07-19T09:30:28.822481Z",
     "iopub.status.idle": "2021-07-19T09:30:31.097482Z",
     "shell.execute_reply": "2021-07-19T09:30:31.096088Z",
     "shell.execute_reply.started": "2021-07-19T09:30:28.822772Z"
    }
   },
   "outputs": [
    {
     "data": {
      "text/plain": [
       "array([[1.        , 0.        , 0.        , ..., 0.        , 0.        ,\n",
       "        0.31622777],\n",
       "       [0.        , 1.        , 0.375     , ..., 0.        , 0.        ,\n",
       "        0.        ],\n",
       "       [0.        , 0.375     , 1.        , ..., 0.        , 0.        ,\n",
       "        0.        ],\n",
       "       ...,\n",
       "       [0.        , 0.        , 0.        , ..., 1.        , 1.        ,\n",
       "        0.5       ],\n",
       "       [0.        , 0.        , 0.        , ..., 1.        , 1.        ,\n",
       "        0.5       ],\n",
       "       [0.31622777, 0.        , 0.        , ..., 0.5       , 0.5       ,\n",
       "        1.        ]])"
      ]
     },
     "execution_count": 88,
     "metadata": {},
     "output_type": "execute_result"
    }
   ],
   "source": [
    "cosine_sim = cosine_similarity(anime_features.values, anime_features.values)\n",
    "cosine_sim"
   ]
  },
  {
   "cell_type": "code",
   "execution_count": 89,
   "metadata": {
    "execution": {
     "iopub.execute_input": "2021-07-19T09:30:31.099326Z",
     "iopub.status.busy": "2021-07-19T09:30:31.098987Z",
     "iopub.status.idle": "2021-07-19T09:30:31.109194Z",
     "shell.execute_reply": "2021-07-19T09:30:31.108353Z",
     "shell.execute_reply.started": "2021-07-19T09:30:31.099295Z"
    }
   },
   "outputs": [],
   "source": [
    "anime_index = pd.Series(anime.index, index=anime.name)"
   ]
  },
  {
   "cell_type": "code",
   "execution_count": 90,
   "metadata": {
    "execution": {
     "iopub.execute_input": "2021-07-19T09:30:31.110943Z",
     "iopub.status.busy": "2021-07-19T09:30:31.110367Z",
     "iopub.status.idle": "2021-07-19T09:30:37.462892Z",
     "shell.execute_reply": "2021-07-19T09:30:37.459835Z",
     "shell.execute_reply.started": "2021-07-19T09:30:31.110909Z"
    }
   },
   "outputs": [],
   "source": [
    "def get_recommendation(anime_name, similarity=cosine_sim):\n",
    "    idx = anime_index[anime_name]\n",
    "    \n",
    "    # Get the pairwsie similarity scores of all anime with that anime\n",
    "    sim_scores = list(enumerate(cosine_sim[idx]))\n",
    "\n",
    "    # Sort the anime based on the similarity scores\n",
    "    sim_scores = sorted(sim_scores, key=lambda x: x[1], reverse=True)\n",
    "\n",
    "    # Get the scores of the 10 most similar anime\n",
    "    sim_scores = sim_scores[0:11]\n",
    "\n",
    "    # Get the anime indices\n",
    "    anime_indices = [i[0] for i in sim_scores]\n",
    "\n",
    "    # Return the top 10 most similar anime\n",
    "    result = anime[['name', 'genre', 'community_rating']].iloc[anime_indices].drop(idx)\n",
    "    return result"
   ]
  },
  {
   "cell_type": "code",
   "execution_count": 91,
   "metadata": {
    "execution": {
     "iopub.execute_input": "2021-07-19T09:30:37.465088Z",
     "iopub.status.busy": "2021-07-19T09:30:37.464643Z",
     "iopub.status.idle": "2021-07-19T09:30:37.486017Z",
     "shell.execute_reply": "2021-07-19T09:30:37.484389Z",
     "shell.execute_reply.started": "2021-07-19T09:30:37.465048Z"
    }
   },
   "outputs": [
    {
     "data": {
      "text/html": [
       "<div>\n",
       "<style scoped>\n",
       "    .dataframe tbody tr th:only-of-type {\n",
       "        vertical-align: middle;\n",
       "    }\n",
       "\n",
       "    .dataframe tbody tr th {\n",
       "        vertical-align: top;\n",
       "    }\n",
       "\n",
       "    .dataframe thead th {\n",
       "        text-align: right;\n",
       "    }\n",
       "</style>\n",
       "<table border=\"1\" class=\"dataframe\">\n",
       "  <thead>\n",
       "    <tr style=\"text-align: right;\">\n",
       "      <th></th>\n",
       "      <th>name</th>\n",
       "      <th>genre</th>\n",
       "      <th>community_rating</th>\n",
       "    </tr>\n",
       "  </thead>\n",
       "  <tbody>\n",
       "    <tr>\n",
       "      <th>3581</th>\n",
       "      <td>Fireball Charming</td>\n",
       "      <td>Sci-Fi</td>\n",
       "      <td>6.888237</td>\n",
       "    </tr>\n",
       "    <tr>\n",
       "      <th>7984</th>\n",
       "      <td>Hanoka</td>\n",
       "      <td>Sci-Fi</td>\n",
       "      <td>5.127987</td>\n",
       "    </tr>\n",
       "    <tr>\n",
       "      <th>8910</th>\n",
       "      <td>Hoshi no Ko Poron</td>\n",
       "      <td>Sci-Fi</td>\n",
       "      <td>6.610368</td>\n",
       "    </tr>\n",
       "    <tr>\n",
       "      <th>10079</th>\n",
       "      <td>RoboDz</td>\n",
       "      <td>Sci-Fi</td>\n",
       "      <td>6.413718</td>\n",
       "    </tr>\n",
       "    <tr>\n",
       "      <th>10858</th>\n",
       "      <td>Yuusei Kamen</td>\n",
       "      <td>Sci-Fi</td>\n",
       "      <td>6.578227</td>\n",
       "    </tr>\n",
       "    <tr>\n",
       "      <th>59</th>\n",
       "      <td>SteinsGate Movie Fuka Ryouiki no Déjà vu</td>\n",
       "      <td>Sci-Fi, Thriller</td>\n",
       "      <td>8.599698</td>\n",
       "    </tr>\n",
       "    <tr>\n",
       "      <th>126</th>\n",
       "      <td>SteinsGate Oukoubakko no Poriomania</td>\n",
       "      <td>Sci-Fi, Thriller</td>\n",
       "      <td>8.448512</td>\n",
       "    </tr>\n",
       "    <tr>\n",
       "      <th>196</th>\n",
       "      <td>SteinsGate Kyoukaimenjou no Missing Link  Divi...</td>\n",
       "      <td>Sci-Fi, Thriller</td>\n",
       "      <td>8.295902</td>\n",
       "    </tr>\n",
       "    <tr>\n",
       "      <th>250</th>\n",
       "      <td>Zankyou no Terror</td>\n",
       "      <td>Psychological, Thriller</td>\n",
       "      <td>8.255211</td>\n",
       "    </tr>\n",
       "    <tr>\n",
       "      <th>2143</th>\n",
       "      <td>Figure 17 Tsubasa amp Hikaru</td>\n",
       "      <td>Sci-Fi, Slice of Life</td>\n",
       "      <td>7.245943</td>\n",
       "    </tr>\n",
       "  </tbody>\n",
       "</table>\n",
       "</div>"
      ],
      "text/plain": [
       "                                                    name  \\\n",
       "3581                                   Fireball Charming   \n",
       "7984                                              Hanoka   \n",
       "8910                                   Hoshi no Ko Poron   \n",
       "10079                                             RoboDz   \n",
       "10858                                       Yuusei Kamen   \n",
       "59              SteinsGate Movie Fuka Ryouiki no Déjà vu   \n",
       "126                  SteinsGate Oukoubakko no Poriomania   \n",
       "196    SteinsGate Kyoukaimenjou no Missing Link  Divi...   \n",
       "250                                    Zankyou no Terror   \n",
       "2143                        Figure 17 Tsubasa amp Hikaru   \n",
       "\n",
       "                         genre  community_rating  \n",
       "3581                    Sci-Fi          6.888237  \n",
       "7984                    Sci-Fi          5.127987  \n",
       "8910                    Sci-Fi          6.610368  \n",
       "10079                   Sci-Fi          6.413718  \n",
       "10858                   Sci-Fi          6.578227  \n",
       "59            Sci-Fi, Thriller          8.599698  \n",
       "126           Sci-Fi, Thriller          8.448512  \n",
       "196           Sci-Fi, Thriller          8.295902  \n",
       "250    Psychological, Thriller          8.255211  \n",
       "2143     Sci-Fi, Slice of Life          7.245943  "
      ]
     },
     "execution_count": 91,
     "metadata": {},
     "output_type": "execute_result"
    }
   ],
   "source": [
    "get_recommendation(\"SteinsGate\")"
   ]
  },
  {
   "cell_type": "markdown",
   "metadata": {},
   "source": [
    "## Collaberative filtering Recommendation System"
   ]
  },
  {
   "cell_type": "code",
   "execution_count": 92,
   "metadata": {
    "execution": {
     "iopub.execute_input": "2021-07-19T09:30:37.532363Z",
     "iopub.status.busy": "2021-07-19T09:30:37.531953Z",
     "iopub.status.idle": "2021-07-19T09:30:37.541570Z",
     "shell.execute_reply": "2021-07-19T09:30:37.539709Z",
     "shell.execute_reply.started": "2021-07-19T09:30:37.532322Z"
    }
   },
   "outputs": [
    {
     "data": {
      "text/plain": [
       "(6337137, 9)"
      ]
     },
     "execution_count": 92,
     "metadata": {},
     "output_type": "execute_result"
    }
   ],
   "source": [
    "df.shape"
   ]
  },
  {
   "cell_type": "code",
   "execution_count": 93,
   "metadata": {
    "execution": {
     "iopub.execute_input": "2021-07-19T09:30:37.544098Z",
     "iopub.status.busy": "2021-07-19T09:30:37.543539Z",
     "iopub.status.idle": "2021-07-19T09:30:39.962139Z",
     "shell.execute_reply": "2021-07-19T09:30:39.961089Z",
     "shell.execute_reply.started": "2021-07-19T09:30:37.544059Z"
    }
   },
   "outputs": [
    {
     "data": {
      "text/plain": [
       "31779"
      ]
     },
     "execution_count": 93,
     "metadata": {},
     "output_type": "execute_result"
    }
   ],
   "source": [
    "df.duplicated(subset=['user_id','name']).sum()"
   ]
  },
  {
   "cell_type": "code",
   "execution_count": 94,
   "metadata": {
    "execution": {
     "iopub.execute_input": "2021-07-19T09:30:39.964102Z",
     "iopub.status.busy": "2021-07-19T09:30:39.963519Z",
     "iopub.status.idle": "2021-07-19T09:30:43.711883Z",
     "shell.execute_reply": "2021-07-19T09:30:43.710652Z",
     "shell.execute_reply.started": "2021-07-19T09:30:39.964054Z"
    }
   },
   "outputs": [],
   "source": [
    "df1=df.copy()\n",
    "df1.drop_duplicates(subset=['user_id','name'],inplace=True)"
   ]
  },
  {
   "cell_type": "code",
   "execution_count": 95,
   "metadata": {
    "execution": {
     "iopub.execute_input": "2021-07-19T09:30:43.713808Z",
     "iopub.status.busy": "2021-07-19T09:30:43.713333Z",
     "iopub.status.idle": "2021-07-19T09:30:43.719212Z",
     "shell.execute_reply": "2021-07-19T09:30:43.718083Z",
     "shell.execute_reply.started": "2021-07-19T09:30:43.713759Z"
    }
   },
   "outputs": [],
   "source": [
    "df1.reset_index(drop=True,inplace=True)"
   ]
  },
  {
   "cell_type": "code",
   "execution_count": 96,
   "metadata": {
    "execution": {
     "iopub.execute_input": "2021-07-19T09:30:43.721339Z",
     "iopub.status.busy": "2021-07-19T09:30:43.720921Z",
     "iopub.status.idle": "2021-07-19T09:30:46.077529Z",
     "shell.execute_reply": "2021-07-19T09:30:46.076479Z",
     "shell.execute_reply.started": "2021-07-19T09:30:43.721296Z"
    }
   },
   "outputs": [],
   "source": [
    "counts = df1['user_id'].value_counts()\n",
    "anime_feature = df1[df1['user_id'].isin(counts[counts >= 500].index)]"
   ]
  },
  {
   "cell_type": "code",
   "execution_count": 97,
   "metadata": {
    "execution": {
     "iopub.execute_input": "2021-07-19T09:30:46.079346Z",
     "iopub.status.busy": "2021-07-19T09:30:46.078941Z",
     "iopub.status.idle": "2021-07-19T09:30:46.085873Z",
     "shell.execute_reply": "2021-07-19T09:30:46.084828Z",
     "shell.execute_reply.started": "2021-07-19T09:30:46.079306Z"
    }
   },
   "outputs": [
    {
     "data": {
      "text/plain": [
       "(989534, 9)"
      ]
     },
     "execution_count": 97,
     "metadata": {},
     "output_type": "execute_result"
    }
   ],
   "source": [
    "anime_feature.shape"
   ]
  },
  {
   "cell_type": "code",
   "execution_count": 98,
   "metadata": {
    "execution": {
     "iopub.execute_input": "2021-07-19T09:30:46.087790Z",
     "iopub.status.busy": "2021-07-19T09:30:46.087340Z",
     "iopub.status.idle": "2021-07-19T09:30:47.540983Z",
     "shell.execute_reply": "2021-07-19T09:30:47.539977Z",
     "shell.execute_reply.started": "2021-07-19T09:30:46.087747Z"
    }
   },
   "outputs": [
    {
     "data": {
      "text/html": [
       "<div>\n",
       "<style scoped>\n",
       "    .dataframe tbody tr th:only-of-type {\n",
       "        vertical-align: middle;\n",
       "    }\n",
       "\n",
       "    .dataframe tbody tr th {\n",
       "        vertical-align: top;\n",
       "    }\n",
       "\n",
       "    .dataframe thead th {\n",
       "        text-align: right;\n",
       "    }\n",
       "</style>\n",
       "<table border=\"1\" class=\"dataframe\">\n",
       "  <thead>\n",
       "    <tr style=\"text-align: right;\">\n",
       "      <th>user_id</th>\n",
       "      <th>226</th>\n",
       "      <th>271</th>\n",
       "      <th>294</th>\n",
       "      <th>392</th>\n",
       "      <th>446</th>\n",
       "      <th>478</th>\n",
       "      <th>661</th>\n",
       "      <th>741</th>\n",
       "      <th>771</th>\n",
       "      <th>786</th>\n",
       "      <th>...</th>\n",
       "      <th>73234</th>\n",
       "      <th>73272</th>\n",
       "      <th>73286</th>\n",
       "      <th>73340</th>\n",
       "      <th>73356</th>\n",
       "      <th>73362</th>\n",
       "      <th>73378</th>\n",
       "      <th>73395</th>\n",
       "      <th>73499</th>\n",
       "      <th>73502</th>\n",
       "    </tr>\n",
       "    <tr>\n",
       "      <th>name</th>\n",
       "      <th></th>\n",
       "      <th></th>\n",
       "      <th></th>\n",
       "      <th></th>\n",
       "      <th></th>\n",
       "      <th></th>\n",
       "      <th></th>\n",
       "      <th></th>\n",
       "      <th></th>\n",
       "      <th></th>\n",
       "      <th></th>\n",
       "      <th></th>\n",
       "      <th></th>\n",
       "      <th></th>\n",
       "      <th></th>\n",
       "      <th></th>\n",
       "      <th></th>\n",
       "      <th></th>\n",
       "      <th></th>\n",
       "      <th></th>\n",
       "      <th></th>\n",
       "    </tr>\n",
       "  </thead>\n",
       "  <tbody>\n",
       "    <tr>\n",
       "      <th>0</th>\n",
       "      <td>0.0</td>\n",
       "      <td>0.0</td>\n",
       "      <td>0.0</td>\n",
       "      <td>0.0</td>\n",
       "      <td>0.0</td>\n",
       "      <td>0.0</td>\n",
       "      <td>0.0</td>\n",
       "      <td>0.0</td>\n",
       "      <td>0.0</td>\n",
       "      <td>0.0</td>\n",
       "      <td>...</td>\n",
       "      <td>0.0</td>\n",
       "      <td>0.0</td>\n",
       "      <td>0.0</td>\n",
       "      <td>0.0</td>\n",
       "      <td>0.0</td>\n",
       "      <td>0.0</td>\n",
       "      <td>0.0</td>\n",
       "      <td>0.0</td>\n",
       "      <td>0.0</td>\n",
       "      <td>0.0</td>\n",
       "    </tr>\n",
       "    <tr>\n",
       "      <th>0008</th>\n",
       "      <td>0.0</td>\n",
       "      <td>0.0</td>\n",
       "      <td>0.0</td>\n",
       "      <td>0.0</td>\n",
       "      <td>0.0</td>\n",
       "      <td>0.0</td>\n",
       "      <td>0.0</td>\n",
       "      <td>0.0</td>\n",
       "      <td>0.0</td>\n",
       "      <td>0.0</td>\n",
       "      <td>...</td>\n",
       "      <td>0.0</td>\n",
       "      <td>0.0</td>\n",
       "      <td>0.0</td>\n",
       "      <td>0.0</td>\n",
       "      <td>0.0</td>\n",
       "      <td>0.0</td>\n",
       "      <td>0.0</td>\n",
       "      <td>0.0</td>\n",
       "      <td>0.0</td>\n",
       "      <td>0.0</td>\n",
       "    </tr>\n",
       "    <tr>\n",
       "      <th>001</th>\n",
       "      <td>0.0</td>\n",
       "      <td>0.0</td>\n",
       "      <td>0.0</td>\n",
       "      <td>0.0</td>\n",
       "      <td>0.0</td>\n",
       "      <td>0.0</td>\n",
       "      <td>0.0</td>\n",
       "      <td>0.0</td>\n",
       "      <td>0.0</td>\n",
       "      <td>0.0</td>\n",
       "      <td>...</td>\n",
       "      <td>0.0</td>\n",
       "      <td>0.0</td>\n",
       "      <td>0.0</td>\n",
       "      <td>0.0</td>\n",
       "      <td>0.0</td>\n",
       "      <td>0.0</td>\n",
       "      <td>0.0</td>\n",
       "      <td>0.0</td>\n",
       "      <td>0.0</td>\n",
       "      <td>0.0</td>\n",
       "    </tr>\n",
       "    <tr>\n",
       "      <th>009 ReCyborg</th>\n",
       "      <td>0.0</td>\n",
       "      <td>0.0</td>\n",
       "      <td>0.0</td>\n",
       "      <td>0.0</td>\n",
       "      <td>0.0</td>\n",
       "      <td>0.0</td>\n",
       "      <td>0.0</td>\n",
       "      <td>0.0</td>\n",
       "      <td>0.0</td>\n",
       "      <td>0.0</td>\n",
       "      <td>...</td>\n",
       "      <td>0.0</td>\n",
       "      <td>0.0</td>\n",
       "      <td>0.0</td>\n",
       "      <td>0.0</td>\n",
       "      <td>0.0</td>\n",
       "      <td>0.0</td>\n",
       "      <td>0.0</td>\n",
       "      <td>0.0</td>\n",
       "      <td>0.0</td>\n",
       "      <td>0.0</td>\n",
       "    </tr>\n",
       "    <tr>\n",
       "      <th>0091</th>\n",
       "      <td>0.0</td>\n",
       "      <td>0.0</td>\n",
       "      <td>0.0</td>\n",
       "      <td>0.0</td>\n",
       "      <td>0.0</td>\n",
       "      <td>0.0</td>\n",
       "      <td>0.0</td>\n",
       "      <td>0.0</td>\n",
       "      <td>0.0</td>\n",
       "      <td>0.0</td>\n",
       "      <td>...</td>\n",
       "      <td>0.0</td>\n",
       "      <td>0.0</td>\n",
       "      <td>0.0</td>\n",
       "      <td>0.0</td>\n",
       "      <td>0.0</td>\n",
       "      <td>0.0</td>\n",
       "      <td>0.0</td>\n",
       "      <td>0.0</td>\n",
       "      <td>0.0</td>\n",
       "      <td>0.0</td>\n",
       "    </tr>\n",
       "  </tbody>\n",
       "</table>\n",
       "<p>5 rows × 1345 columns</p>\n",
       "</div>"
      ],
      "text/plain": [
       "user_id       226    271    294    392    446    478    661    741    771    \\\n",
       "name                                                                          \n",
       "0               0.0    0.0    0.0    0.0    0.0    0.0    0.0    0.0    0.0   \n",
       "0008            0.0    0.0    0.0    0.0    0.0    0.0    0.0    0.0    0.0   \n",
       "001             0.0    0.0    0.0    0.0    0.0    0.0    0.0    0.0    0.0   \n",
       "009 ReCyborg    0.0    0.0    0.0    0.0    0.0    0.0    0.0    0.0    0.0   \n",
       "0091            0.0    0.0    0.0    0.0    0.0    0.0    0.0    0.0    0.0   \n",
       "\n",
       "user_id       786    ...  73234  73272  73286  73340  73356  73362  73378  \\\n",
       "name                 ...                                                    \n",
       "0               0.0  ...    0.0    0.0    0.0    0.0    0.0    0.0    0.0   \n",
       "0008            0.0  ...    0.0    0.0    0.0    0.0    0.0    0.0    0.0   \n",
       "001             0.0  ...    0.0    0.0    0.0    0.0    0.0    0.0    0.0   \n",
       "009 ReCyborg    0.0  ...    0.0    0.0    0.0    0.0    0.0    0.0    0.0   \n",
       "0091            0.0  ...    0.0    0.0    0.0    0.0    0.0    0.0    0.0   \n",
       "\n",
       "user_id       73395  73499  73502  \n",
       "name                               \n",
       "0               0.0    0.0    0.0  \n",
       "0008            0.0    0.0    0.0  \n",
       "001             0.0    0.0    0.0  \n",
       "009 ReCyborg    0.0    0.0    0.0  \n",
       "0091            0.0    0.0    0.0  \n",
       "\n",
       "[5 rows x 1345 columns]"
      ]
     },
     "execution_count": 98,
     "metadata": {},
     "output_type": "execute_result"
    }
   ],
   "source": [
    "# user-item matrix\n",
    "df_pivot = anime_feature.pivot(index='name', columns='user_id', values='user_rating')\n",
    "df_pivot = df_pivot.fillna(0)\n",
    "df_pivot.head()"
   ]
  },
  {
   "cell_type": "code",
   "execution_count": 99,
   "metadata": {
    "execution": {
     "iopub.execute_input": "2021-07-19T09:30:47.543184Z",
     "iopub.status.busy": "2021-07-19T09:30:47.542832Z",
     "iopub.status.idle": "2021-07-19T09:30:47.549940Z",
     "shell.execute_reply": "2021-07-19T09:30:47.548903Z",
     "shell.execute_reply.started": "2021-07-19T09:30:47.543150Z"
    }
   },
   "outputs": [
    {
     "data": {
      "text/plain": [
       "(9539, 1345)"
      ]
     },
     "execution_count": 99,
     "metadata": {},
     "output_type": "execute_result"
    }
   ],
   "source": [
    "df_pivot.shape"
   ]
  },
  {
   "cell_type": "markdown",
   "metadata": {},
   "source": [
    "### Memory based Recommendation System (Similar anime) Using KNN"
   ]
  },
  {
   "cell_type": "code",
   "execution_count": 100,
   "metadata": {
    "execution": {
     "iopub.execute_input": "2021-07-19T09:30:47.551556Z",
     "iopub.status.busy": "2021-07-19T09:30:47.551222Z",
     "iopub.status.idle": "2021-07-19T09:30:47.588382Z",
     "shell.execute_reply": "2021-07-19T09:30:47.587477Z",
     "shell.execute_reply.started": "2021-07-19T09:30:47.551522Z"
    }
   },
   "outputs": [
    {
     "data": {
      "text/plain": [
       "NearestNeighbors(metric='cosine')"
      ]
     },
     "execution_count": 100,
     "metadata": {},
     "output_type": "execute_result"
    }
   ],
   "source": [
    "model_knn = NearestNeighbors(metric='cosine')\n",
    "model_knn.fit(df_pivot)"
   ]
  },
  {
   "cell_type": "code",
   "execution_count": 101,
   "metadata": {
    "execution": {
     "iopub.execute_input": "2021-07-19T09:30:47.589943Z",
     "iopub.status.busy": "2021-07-19T09:30:47.589650Z",
     "iopub.status.idle": "2021-07-19T09:30:51.762326Z",
     "shell.execute_reply": "2021-07-19T09:30:51.761544Z",
     "shell.execute_reply.started": "2021-07-19T09:30:47.589914Z"
    }
   },
   "outputs": [],
   "source": [
    "distances, indices = model_knn.kneighbors(df_pivot, n_neighbors=6)"
   ]
  },
  {
   "cell_type": "code",
   "execution_count": 102,
   "metadata": {
    "execution": {
     "iopub.execute_input": "2021-07-19T09:30:51.764060Z",
     "iopub.status.busy": "2021-07-19T09:30:51.763576Z",
     "iopub.status.idle": "2021-07-19T09:30:51.777545Z",
     "shell.execute_reply": "2021-07-19T09:30:51.776541Z",
     "shell.execute_reply.started": "2021-07-19T09:30:51.764027Z"
    }
   },
   "outputs": [
    {
     "data": {
      "text/html": [
       "<div>\n",
       "<style scoped>\n",
       "    .dataframe tbody tr th:only-of-type {\n",
       "        vertical-align: middle;\n",
       "    }\n",
       "\n",
       "    .dataframe tbody tr th {\n",
       "        vertical-align: top;\n",
       "    }\n",
       "\n",
       "    .dataframe thead th {\n",
       "        text-align: right;\n",
       "    }\n",
       "</style>\n",
       "<table border=\"1\" class=\"dataframe\">\n",
       "  <thead>\n",
       "    <tr style=\"text-align: right;\">\n",
       "      <th></th>\n",
       "      <th>anime0</th>\n",
       "      <th>anime1</th>\n",
       "      <th>anime2</th>\n",
       "      <th>anime3</th>\n",
       "      <th>anime4</th>\n",
       "      <th>anime5</th>\n",
       "    </tr>\n",
       "  </thead>\n",
       "  <tbody>\n",
       "    <tr>\n",
       "      <th>0</th>\n",
       "      <td>0</td>\n",
       "      <td>6279</td>\n",
       "      <td>7055</td>\n",
       "      <td>1601</td>\n",
       "      <td>1877</td>\n",
       "      <td>5863</td>\n",
       "    </tr>\n",
       "    <tr>\n",
       "      <th>1</th>\n",
       "      <td>1</td>\n",
       "      <td>4278</td>\n",
       "      <td>4307</td>\n",
       "      <td>4277</td>\n",
       "      <td>4066</td>\n",
       "      <td>4324</td>\n",
       "    </tr>\n",
       "    <tr>\n",
       "      <th>2</th>\n",
       "      <td>2</td>\n",
       "      <td>2412</td>\n",
       "      <td>3420</td>\n",
       "      <td>8035</td>\n",
       "      <td>283</td>\n",
       "      <td>6558</td>\n",
       "    </tr>\n",
       "    <tr>\n",
       "      <th>3</th>\n",
       "      <td>3</td>\n",
       "      <td>1463</td>\n",
       "      <td>5195</td>\n",
       "      <td>8342</td>\n",
       "      <td>511</td>\n",
       "      <td>546</td>\n",
       "    </tr>\n",
       "    <tr>\n",
       "      <th>4</th>\n",
       "      <td>4</td>\n",
       "      <td>5</td>\n",
       "      <td>64</td>\n",
       "      <td>1261</td>\n",
       "      <td>2810</td>\n",
       "      <td>3074</td>\n",
       "    </tr>\n",
       "  </tbody>\n",
       "</table>\n",
       "</div>"
      ],
      "text/plain": [
       "   anime0  anime1  anime2  anime3  anime4  anime5\n",
       "0       0    6279    7055    1601    1877    5863\n",
       "1       1    4278    4307    4277    4066    4324\n",
       "2       2    2412    3420    8035     283    6558\n",
       "3       3    1463    5195    8342     511     546\n",
       "4       4       5      64    1261    2810    3074"
      ]
     },
     "execution_count": 102,
     "metadata": {},
     "output_type": "execute_result"
    }
   ],
   "source": [
    "recommend = pd.DataFrame(indices, columns=['anime0', 'anime1', 'anime2', 'anime3', 'anime4', 'anime5'])\n",
    "recommend.head()"
   ]
  },
  {
   "cell_type": "code",
   "execution_count": 103,
   "metadata": {
    "execution": {
     "iopub.execute_input": "2021-07-19T09:30:51.781177Z",
     "iopub.status.busy": "2021-07-19T09:30:51.780864Z",
     "iopub.status.idle": "2021-07-19T09:30:51.853725Z",
     "shell.execute_reply": "2021-07-19T09:30:51.852941Z",
     "shell.execute_reply.started": "2021-07-19T09:30:51.781148Z"
    }
   },
   "outputs": [],
   "source": [
    "recommend2 = recommend.copy()\n",
    "for i in range(0, 6):\n",
    "    animes = pd.DataFrame(df_pivot.index).reset_index()\n",
    "    animes = animes.rename(columns={'index':f'anime{i}'})\n",
    "    recommend2 = pd.merge(recommend2, animes, on=[f'anime{i}'], how='left')\n",
    "    recommend2 = recommend2.drop(f'anime{i}', axis=1)\n",
    "    recommend2 = recommend2.rename(columns={'name':f'anime{i}'})"
   ]
  },
  {
   "cell_type": "code",
   "execution_count": 104,
   "metadata": {
    "execution": {
     "iopub.execute_input": "2021-07-19T09:30:51.855508Z",
     "iopub.status.busy": "2021-07-19T09:30:51.854978Z",
     "iopub.status.idle": "2021-07-19T09:30:51.873457Z",
     "shell.execute_reply": "2021-07-19T09:30:51.872733Z",
     "shell.execute_reply.started": "2021-07-19T09:30:51.855473Z"
    },
    "scrolled": true
   },
   "outputs": [
    {
     "data": {
      "text/html": [
       "<div>\n",
       "<style scoped>\n",
       "    .dataframe tbody tr th:only-of-type {\n",
       "        vertical-align: middle;\n",
       "    }\n",
       "\n",
       "    .dataframe tbody tr th {\n",
       "        vertical-align: top;\n",
       "    }\n",
       "\n",
       "    .dataframe thead th {\n",
       "        text-align: right;\n",
       "    }\n",
       "</style>\n",
       "<table border=\"1\" class=\"dataframe\">\n",
       "  <thead>\n",
       "    <tr style=\"text-align: right;\">\n",
       "      <th></th>\n",
       "      <th>anime0</th>\n",
       "      <th>anime1</th>\n",
       "      <th>anime2</th>\n",
       "      <th>anime3</th>\n",
       "      <th>anime4</th>\n",
       "      <th>anime5</th>\n",
       "    </tr>\n",
       "  </thead>\n",
       "  <tbody>\n",
       "    <tr>\n",
       "      <th>0</th>\n",
       "      <td>0</td>\n",
       "      <td>Oosouji</td>\n",
       "      <td>Rusty Nail</td>\n",
       "      <td>Decorator</td>\n",
       "      <td>Doudou</td>\n",
       "      <td>Nebula feat Hatsune Miku</td>\n",
       "    </tr>\n",
       "    <tr>\n",
       "      <th>1</th>\n",
       "      <td>0008</td>\n",
       "      <td>Kinyoru Abe Reiji Heikinteki na Salaryman no I...</td>\n",
       "      <td>Kissaten Soudou</td>\n",
       "      <td>Kinyoru Abe Reiji Heikinteki na Salaryman no I...</td>\n",
       "      <td>Kaseifu ga Ita</td>\n",
       "      <td>Kittychan wo Sagase Toyamashi Stamp Rally</td>\n",
       "    </tr>\n",
       "    <tr>\n",
       "      <th>2</th>\n",
       "      <td>001</td>\n",
       "      <td>Gakuen Senki Muryou</td>\n",
       "      <td>Hyoutan Suzume</td>\n",
       "      <td>Sun Set Sun</td>\n",
       "      <td>Ame no Bus Stophen</td>\n",
       "      <td>Pihyara Kouta</td>\n",
       "    </tr>\n",
       "    <tr>\n",
       "      <th>3</th>\n",
       "      <td>009 ReCyborg</td>\n",
       "      <td>Cyborg 009</td>\n",
       "      <td>Mardock Scramble The First Compression</td>\n",
       "      <td>Terra e</td>\n",
       "      <td>Arve Rezzle Kikaijikake no Youseitachi</td>\n",
       "      <td>Asura</td>\n",
       "    </tr>\n",
       "    <tr>\n",
       "      <th>4</th>\n",
       "      <td>0091</td>\n",
       "      <td>0091 RampB</td>\n",
       "      <td>AIKa</td>\n",
       "      <td>Choujuushin Gravion</td>\n",
       "      <td>Gun Frontier</td>\n",
       "      <td>HeatGuy J</td>\n",
       "    </tr>\n",
       "    <tr>\n",
       "      <th>5</th>\n",
       "      <td>0091 RampB</td>\n",
       "      <td>0091</td>\n",
       "      <td>Glass no Kantai La Legende du Vent de l039Univ...</td>\n",
       "      <td>GTaste 2010</td>\n",
       "      <td>AIKa Zero</td>\n",
       "      <td>AIKa</td>\n",
       "    </tr>\n",
       "    <tr>\n",
       "      <th>6</th>\n",
       "      <td>07Ghost</td>\n",
       "      <td>Kuroshitsuji</td>\n",
       "      <td>Pandora Hearts</td>\n",
       "      <td>DGrayman</td>\n",
       "      <td>Nabari no Ou</td>\n",
       "      <td>Vampire Knight</td>\n",
       "    </tr>\n",
       "    <tr>\n",
       "      <th>7</th>\n",
       "      <td>1000nen Joou Queen Millennia</td>\n",
       "      <td>Maetel Legend</td>\n",
       "      <td>Uchuu Koukyoushi Maetel Ginga Tetsudou 999 Gaiden</td>\n",
       "      <td>Queen Emeraldas</td>\n",
       "      <td>Ginga Tetsudou 999 Kimi wa Haha no You ni Aise...</td>\n",
       "      <td>Cosmo Warrior Zero</td>\n",
       "    </tr>\n",
       "    <tr>\n",
       "      <th>8</th>\n",
       "      <td>1001 Nights</td>\n",
       "      <td>Kataku</td>\n",
       "      <td>Doujouji</td>\n",
       "      <td>Aru Tabibito no Nikki</td>\n",
       "      <td>Aru Tabibito no Nikki Specials</td>\n",
       "      <td>Memory</td>\n",
       "    </tr>\n",
       "    <tr>\n",
       "      <th>9</th>\n",
       "      <td>100mannen Chikyuu no Tabi Bander Book</td>\n",
       "      <td>Love Position Halley Densetsu</td>\n",
       "      <td>Bremen 4 Jigoku no Naka no Tenshitachi</td>\n",
       "      <td>Maken Liner 0011 Henshin Seyo</td>\n",
       "      <td>Ginga Tansa 2100nen Border Planet</td>\n",
       "      <td>Super Kid</td>\n",
       "    </tr>\n",
       "  </tbody>\n",
       "</table>\n",
       "</div>"
      ],
      "text/plain": [
       "                                  anime0  \\\n",
       "0                                      0   \n",
       "1                                   0008   \n",
       "2                                    001   \n",
       "3                           009 ReCyborg   \n",
       "4                                   0091   \n",
       "5                             0091 RampB   \n",
       "6                                07Ghost   \n",
       "7           1000nen Joou Queen Millennia   \n",
       "8                            1001 Nights   \n",
       "9  100mannen Chikyuu no Tabi Bander Book   \n",
       "\n",
       "                                              anime1  \\\n",
       "0                                            Oosouji   \n",
       "1  Kinyoru Abe Reiji Heikinteki na Salaryman no I...   \n",
       "2                                Gakuen Senki Muryou   \n",
       "3                                         Cyborg 009   \n",
       "4                                         0091 RampB   \n",
       "5                                               0091   \n",
       "6                                       Kuroshitsuji   \n",
       "7                                      Maetel Legend   \n",
       "8                                             Kataku   \n",
       "9                      Love Position Halley Densetsu   \n",
       "\n",
       "                                              anime2  \\\n",
       "0                                         Rusty Nail   \n",
       "1                                    Kissaten Soudou   \n",
       "2                                     Hyoutan Suzume   \n",
       "3             Mardock Scramble The First Compression   \n",
       "4                                               AIKa   \n",
       "5  Glass no Kantai La Legende du Vent de l039Univ...   \n",
       "6                                     Pandora Hearts   \n",
       "7  Uchuu Koukyoushi Maetel Ginga Tetsudou 999 Gaiden   \n",
       "8                                           Doujouji   \n",
       "9             Bremen 4 Jigoku no Naka no Tenshitachi   \n",
       "\n",
       "                                              anime3  \\\n",
       "0                                          Decorator   \n",
       "1  Kinyoru Abe Reiji Heikinteki na Salaryman no I...   \n",
       "2                                        Sun Set Sun   \n",
       "3                                            Terra e   \n",
       "4                                Choujuushin Gravion   \n",
       "5                                        GTaste 2010   \n",
       "6                                           DGrayman   \n",
       "7                                    Queen Emeraldas   \n",
       "8                              Aru Tabibito no Nikki   \n",
       "9                      Maken Liner 0011 Henshin Seyo   \n",
       "\n",
       "                                              anime4  \\\n",
       "0                                             Doudou   \n",
       "1                                     Kaseifu ga Ita   \n",
       "2                                 Ame no Bus Stophen   \n",
       "3             Arve Rezzle Kikaijikake no Youseitachi   \n",
       "4                                       Gun Frontier   \n",
       "5                                          AIKa Zero   \n",
       "6                                       Nabari no Ou   \n",
       "7  Ginga Tetsudou 999 Kimi wa Haha no You ni Aise...   \n",
       "8                     Aru Tabibito no Nikki Specials   \n",
       "9                  Ginga Tansa 2100nen Border Planet   \n",
       "\n",
       "                                      anime5  \n",
       "0                   Nebula feat Hatsune Miku  \n",
       "1  Kittychan wo Sagase Toyamashi Stamp Rally  \n",
       "2                              Pihyara Kouta  \n",
       "3                                      Asura  \n",
       "4                                  HeatGuy J  \n",
       "5                                       AIKa  \n",
       "6                             Vampire Knight  \n",
       "7                         Cosmo Warrior Zero  \n",
       "8                                     Memory  \n",
       "9                                  Super Kid  "
      ]
     },
     "execution_count": 104,
     "metadata": {},
     "output_type": "execute_result"
    }
   ],
   "source": [
    "recommend2.head(10)"
   ]
  },
  {
   "cell_type": "markdown",
   "metadata": {},
   "source": [
    "The above table shows the 5 similar animes for each anime."
   ]
  },
  {
   "cell_type": "markdown",
   "metadata": {},
   "source": [
    "# Conclusion"
   ]
  },
  {
   "cell_type": "markdown",
   "metadata": {},
   "source": [
    "\n",
    "- For a new user popularity based and content based recommender works well, later based on user activities, collaborative based and association recommenders performs better.\n",
    "\n",
    "- A  better  anime  recommendation  system is when I consider user  watch  history.So collaborative based filtering (model-based) recommendation model would be best for recommending animes to the users."
   ]
  },
  {
   "cell_type": "code",
   "execution_count": null,
   "metadata": {},
   "outputs": [],
   "source": []
  }
 ],
 "metadata": {
  "kernelspec": {
   "display_name": "Python 3 (ipykernel)",
   "language": "python",
   "name": "python3"
  },
  "language_info": {
   "codemirror_mode": {
    "name": "ipython",
    "version": 3
   },
   "file_extension": ".py",
   "mimetype": "text/x-python",
   "name": "python",
   "nbconvert_exporter": "python",
   "pygments_lexer": "ipython3",
   "version": "3.9.12"
  }
 },
 "nbformat": 4,
 "nbformat_minor": 4
}
